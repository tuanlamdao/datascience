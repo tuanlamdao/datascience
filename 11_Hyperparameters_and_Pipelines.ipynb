{
  "nbformat": 4,
  "nbformat_minor": 0,
  "metadata": {
    "kernelspec": {
      "display_name": "Python 3.6",
      "language": "python",
      "name": "python36"
    },
    "language_info": {
      "codemirror_mode": {
        "name": "ipython",
        "version": 3
      },
      "file_extension": ".py",
      "mimetype": "text/x-python",
      "name": "python",
      "nbconvert_exporter": "python",
      "pygments_lexer": "ipython3",
      "version": "3.6.6"
    },
    "colab": {
      "name": "11 - Hyperparameters and Pipelines.ipynb",
      "provenance": [],
      "include_colab_link": true
    }
  },
  "cells": [
    {
      "cell_type": "markdown",
      "metadata": {
        "id": "view-in-github",
        "colab_type": "text"
      },
      "source": [
        "<a href=\"https://colab.research.google.com/github/tuanlamdao/datascience/blob/master/11_Hyperparameters_and_Pipelines.ipynb\" target=\"_parent\"><img src=\"https://colab.research.google.com/assets/colab-badge.svg\" alt=\"Open In Colab\"/></a>"
      ]
    },
    {
      "cell_type": "code",
      "metadata": {
        "id": "ToTTBrHKQaq8"
      },
      "source": [
        "from tuanlam import *"
      ],
      "execution_count": null,
      "outputs": []
    },
    {
      "cell_type": "code",
      "metadata": {
        "id": "J4U-B2oLQarC"
      },
      "source": [
        "iris = datasets.load_iris()\n",
        "diabetes = datasets.load_diabetes()\n",
        "digits = datasets.load_digits()"
      ],
      "execution_count": null,
      "outputs": []
    },
    {
      "cell_type": "markdown",
      "metadata": {
        "id": "Uk9UqHYiQarF"
      },
      "source": [
        "#### Turning Hyperparameters"
      ]
    },
    {
      "cell_type": "markdown",
      "metadata": {
        "id": "amYqKjYWQarF"
      },
      "source": [
        "##### Evaluating a single hyperparameter"
      ]
    },
    {
      "cell_type": "code",
      "metadata": {
        "id": "drI1zEMIQarG",
        "outputId": "ab461c43-0ea5-44e0-f576-506b150849be"
      },
      "source": [
        "knn = neighbors.KNeighborsClassifier()\n",
        "print(\" \".join(knn.get_params().keys()))"
      ],
      "execution_count": null,
      "outputs": [
        {
          "output_type": "stream",
          "text": [
            "algorithm leaf_size metric metric_params n_jobs n_neighbors p weights\n"
          ],
          "name": "stdout"
        }
      ]
    },
    {
      "cell_type": "code",
      "metadata": {
        "id": "RtjvhpzHQarK",
        "outputId": "ca6d901a-79c2-4826-b849-5106d5fb350c"
      },
      "source": [
        "param_grid = {\"n_neighbors\": [1,3,5,10,20]}\n",
        "grid_model = skms.GridSearchCV(knn,return_train_score=True,param_grid=param_grid,cv=10)\n",
        "grid_model.fit(digits.data, digits.target)"
      ],
      "execution_count": null,
      "outputs": [
        {
          "output_type": "execute_result",
          "data": {
            "text/plain": [
              "GridSearchCV(cv=10, error_score='raise-deprecating',\n",
              "       estimator=KNeighborsClassifier(algorithm='auto', leaf_size=30, metric='minkowski',\n",
              "           metric_params=None, n_jobs=None, n_neighbors=5, p=2,\n",
              "           weights='uniform'),\n",
              "       fit_params=None, iid='warn', n_jobs=None,\n",
              "       param_grid={'n_neighbors': [1, 3, 5, 10, 20]},\n",
              "       pre_dispatch='2*n_jobs', refit=True, return_train_score=True,\n",
              "       scoring=None, verbose=0)"
            ]
          },
          "metadata": {
            "tags": []
          },
          "execution_count": 6
        }
      ]
    },
    {
      "cell_type": "code",
      "metadata": {
        "id": "Ki9fRevxQarP",
        "outputId": "35177b74-51f5-46b8-d701-baf7e7f24b58"
      },
      "source": [
        "param_cols = ['param_n_neighbors']\n",
        "score_cols = ['mean_train_score','std_train_score','mean_test_score','std_test_score']\n",
        "df = pd.DataFrame(grid_model.cv_results_).head()\n",
        "display(df[param_cols + score_cols])\n",
        "\n",
        "grid_df = pd.DataFrame(grid_model.cv_results_,columns=['param_n_neighbors','mean_train_score','mean_test_score'])\n",
        "grid_df.set_index('param_n_neighbors',inplace=True)\n",
        "display(grid_df)\n",
        "\n",
        "ax = grid_df.plot.line(marker='.')\n",
        "ax.set_xticks(grid_df.index)"
      ],
      "execution_count": null,
      "outputs": [
        {
          "output_type": "error",
          "ename": "NameError",
          "evalue": "name 'sef' is not defined",
          "traceback": [
            "\u001b[0;31m---------------------------------------------------------------------------\u001b[0m",
            "\u001b[0;31mNameError\u001b[0m                                 Traceback (most recent call last)",
            "\u001b[0;32m~/anaconda3_501/lib/python3.6/site-packages/IPython/core/formatters.py\u001b[0m in \u001b[0;36m__call__\u001b[0;34m(self, obj)\u001b[0m\n\u001b[1;32m    343\u001b[0m             \u001b[0mmethod\u001b[0m \u001b[0;34m=\u001b[0m \u001b[0mget_real_method\u001b[0m\u001b[0;34m(\u001b[0m\u001b[0mobj\u001b[0m\u001b[0;34m,\u001b[0m \u001b[0mself\u001b[0m\u001b[0;34m.\u001b[0m\u001b[0mprint_method\u001b[0m\u001b[0;34m)\u001b[0m\u001b[0;34m\u001b[0m\u001b[0m\n\u001b[1;32m    344\u001b[0m             \u001b[0;32mif\u001b[0m \u001b[0mmethod\u001b[0m \u001b[0;32mis\u001b[0m \u001b[0;32mnot\u001b[0m \u001b[0;32mNone\u001b[0m\u001b[0;34m:\u001b[0m\u001b[0;34m\u001b[0m\u001b[0m\n\u001b[0;32m--> 345\u001b[0;31m                 \u001b[0;32mreturn\u001b[0m \u001b[0mmethod\u001b[0m\u001b[0;34m(\u001b[0m\u001b[0;34m)\u001b[0m\u001b[0;34m\u001b[0m\u001b[0m\n\u001b[0m\u001b[1;32m    346\u001b[0m             \u001b[0;32mreturn\u001b[0m \u001b[0;32mNone\u001b[0m\u001b[0;34m\u001b[0m\u001b[0m\n\u001b[1;32m    347\u001b[0m         \u001b[0;32melse\u001b[0m\u001b[0;34m:\u001b[0m\u001b[0;34m\u001b[0m\u001b[0m\n",
            "\u001b[0;32m~/library/tuanlam.py\u001b[0m in \u001b[0;36m_repr_latex_\u001b[0;34m(self)\u001b[0m\n\u001b[1;32m     42\u001b[0m \u001b[0;31m#monkey-patch for centering out[] DataFrames\u001b[0m\u001b[0;34m\u001b[0m\u001b[0;34m\u001b[0m\u001b[0m\n\u001b[1;32m     43\u001b[0m \u001b[0;32mdef\u001b[0m \u001b[0m_repr_latex_\u001b[0m\u001b[0;34m(\u001b[0m\u001b[0mself\u001b[0m\u001b[0;34m)\u001b[0m\u001b[0;34m:\u001b[0m\u001b[0;34m\u001b[0m\u001b[0m\n\u001b[0;32m---> 44\u001b[0;31m     \u001b[0;32mreturn\u001b[0m \u001b[0;34m\"{\\centering\\n%s\\n\\medskip}\"\u001b[0m \u001b[0;34m%\u001b[0m \u001b[0msef\u001b[0m\u001b[0;34m.\u001b[0m\u001b[0mto_latex\u001b[0m\u001b[0;34m(\u001b[0m\u001b[0;34m)\u001b[0m\u001b[0;34m\u001b[0m\u001b[0m\n\u001b[0m\u001b[1;32m     45\u001b[0m \u001b[0mpd\u001b[0m\u001b[0;34m.\u001b[0m\u001b[0mDataFrame\u001b[0m\u001b[0;34m.\u001b[0m\u001b[0m_repr_latex_\u001b[0m \u001b[0;34m=\u001b[0m \u001b[0m_repr_latex_\u001b[0m\u001b[0;34m\u001b[0m\u001b[0m\n\u001b[1;32m     46\u001b[0m \u001b[0;31m#Only used once\u001b[0m\u001b[0;34m\u001b[0m\u001b[0;34m\u001b[0m\u001b[0m\n",
            "\u001b[0;31mNameError\u001b[0m: name 'sef' is not defined"
          ]
        },
        {
          "output_type": "display_data",
          "data": {
            "text/html": [
              "<div>\n",
              "<style scoped>\n",
              "    .dataframe tbody tr th:only-of-type {\n",
              "        vertical-align: middle;\n",
              "    }\n",
              "\n",
              "    .dataframe tbody tr th {\n",
              "        vertical-align: top;\n",
              "    }\n",
              "\n",
              "    .dataframe thead th {\n",
              "        text-align: right;\n",
              "    }\n",
              "</style>\n",
              "<table border=\"1\" class=\"dataframe\">\n",
              "  <thead>\n",
              "    <tr style=\"text-align: right;\">\n",
              "      <th></th>\n",
              "      <th>param_n_neighbors</th>\n",
              "      <th>mean_train_score</th>\n",
              "      <th>std_train_score</th>\n",
              "      <th>mean_test_score</th>\n",
              "      <th>std_test_score</th>\n",
              "    </tr>\n",
              "  </thead>\n",
              "  <tbody>\n",
              "    <tr>\n",
              "      <th>0</th>\n",
              "      <td>1</td>\n",
              "      <td>1.0000</td>\n",
              "      <td>0.0000</td>\n",
              "      <td>0.9761</td>\n",
              "      <td>0.0180</td>\n",
              "    </tr>\n",
              "    <tr>\n",
              "      <th>1</th>\n",
              "      <td>3</td>\n",
              "      <td>0.9933</td>\n",
              "      <td>0.0009</td>\n",
              "      <td>0.9777</td>\n",
              "      <td>0.0161</td>\n",
              "    </tr>\n",
              "    <tr>\n",
              "      <th>2</th>\n",
              "      <td>5</td>\n",
              "      <td>0.9907</td>\n",
              "      <td>0.0005</td>\n",
              "      <td>0.9738</td>\n",
              "      <td>0.0167</td>\n",
              "    </tr>\n",
              "    <tr>\n",
              "      <th>3</th>\n",
              "      <td>10</td>\n",
              "      <td>0.9861</td>\n",
              "      <td>0.0011</td>\n",
              "      <td>0.9644</td>\n",
              "      <td>0.0208</td>\n",
              "    </tr>\n",
              "    <tr>\n",
              "      <th>4</th>\n",
              "      <td>20</td>\n",
              "      <td>0.9806</td>\n",
              "      <td>0.0018</td>\n",
              "      <td>0.9610</td>\n",
              "      <td>0.0233</td>\n",
              "    </tr>\n",
              "  </tbody>\n",
              "</table>\n",
              "</div>"
            ],
            "text/plain": [
              "  param_n_neighbors     mean_train_score      std_train_score  \\\n",
              "0                 1               1.0000               0.0000   \n",
              "1                 3               0.9933               0.0009   \n",
              "2                 5               0.9907               0.0005   \n",
              "3                10               0.9861               0.0011   \n",
              "4                20               0.9806               0.0018   \n",
              "\n",
              "       mean_test_score       std_test_score  \n",
              "0               0.9761               0.0180  \n",
              "1               0.9777               0.0161  \n",
              "2               0.9738               0.0167  \n",
              "3               0.9644               0.0208  \n",
              "4               0.9610               0.0233  "
            ]
          },
          "metadata": {
            "tags": []
          }
        },
        {
          "output_type": "error",
          "ename": "NameError",
          "evalue": "name 'sef' is not defined",
          "traceback": [
            "\u001b[0;31m---------------------------------------------------------------------------\u001b[0m",
            "\u001b[0;31mNameError\u001b[0m                                 Traceback (most recent call last)",
            "\u001b[0;32m~/anaconda3_501/lib/python3.6/site-packages/IPython/core/formatters.py\u001b[0m in \u001b[0;36m__call__\u001b[0;34m(self, obj)\u001b[0m\n\u001b[1;32m    343\u001b[0m             \u001b[0mmethod\u001b[0m \u001b[0;34m=\u001b[0m \u001b[0mget_real_method\u001b[0m\u001b[0;34m(\u001b[0m\u001b[0mobj\u001b[0m\u001b[0;34m,\u001b[0m \u001b[0mself\u001b[0m\u001b[0;34m.\u001b[0m\u001b[0mprint_method\u001b[0m\u001b[0;34m)\u001b[0m\u001b[0;34m\u001b[0m\u001b[0m\n\u001b[1;32m    344\u001b[0m             \u001b[0;32mif\u001b[0m \u001b[0mmethod\u001b[0m \u001b[0;32mis\u001b[0m \u001b[0;32mnot\u001b[0m \u001b[0;32mNone\u001b[0m\u001b[0;34m:\u001b[0m\u001b[0;34m\u001b[0m\u001b[0m\n\u001b[0;32m--> 345\u001b[0;31m                 \u001b[0;32mreturn\u001b[0m \u001b[0mmethod\u001b[0m\u001b[0;34m(\u001b[0m\u001b[0;34m)\u001b[0m\u001b[0;34m\u001b[0m\u001b[0m\n\u001b[0m\u001b[1;32m    346\u001b[0m             \u001b[0;32mreturn\u001b[0m \u001b[0;32mNone\u001b[0m\u001b[0;34m\u001b[0m\u001b[0m\n\u001b[1;32m    347\u001b[0m         \u001b[0;32melse\u001b[0m\u001b[0;34m:\u001b[0m\u001b[0;34m\u001b[0m\u001b[0m\n",
            "\u001b[0;32m~/library/tuanlam.py\u001b[0m in \u001b[0;36m_repr_latex_\u001b[0;34m(self)\u001b[0m\n\u001b[1;32m     42\u001b[0m \u001b[0;31m#monkey-patch for centering out[] DataFrames\u001b[0m\u001b[0;34m\u001b[0m\u001b[0;34m\u001b[0m\u001b[0m\n\u001b[1;32m     43\u001b[0m \u001b[0;32mdef\u001b[0m \u001b[0m_repr_latex_\u001b[0m\u001b[0;34m(\u001b[0m\u001b[0mself\u001b[0m\u001b[0;34m)\u001b[0m\u001b[0;34m:\u001b[0m\u001b[0;34m\u001b[0m\u001b[0m\n\u001b[0;32m---> 44\u001b[0;31m     \u001b[0;32mreturn\u001b[0m \u001b[0;34m\"{\\centering\\n%s\\n\\medskip}\"\u001b[0m \u001b[0;34m%\u001b[0m \u001b[0msef\u001b[0m\u001b[0;34m.\u001b[0m\u001b[0mto_latex\u001b[0m\u001b[0;34m(\u001b[0m\u001b[0;34m)\u001b[0m\u001b[0;34m\u001b[0m\u001b[0m\n\u001b[0m\u001b[1;32m     45\u001b[0m \u001b[0mpd\u001b[0m\u001b[0;34m.\u001b[0m\u001b[0mDataFrame\u001b[0m\u001b[0;34m.\u001b[0m\u001b[0m_repr_latex_\u001b[0m \u001b[0;34m=\u001b[0m \u001b[0m_repr_latex_\u001b[0m\u001b[0;34m\u001b[0m\u001b[0m\n\u001b[1;32m     46\u001b[0m \u001b[0;31m#Only used once\u001b[0m\u001b[0;34m\u001b[0m\u001b[0;34m\u001b[0m\u001b[0m\n",
            "\u001b[0;31mNameError\u001b[0m: name 'sef' is not defined"
          ]
        },
        {
          "output_type": "display_data",
          "data": {
            "text/html": [
              "<div>\n",
              "<style scoped>\n",
              "    .dataframe tbody tr th:only-of-type {\n",
              "        vertical-align: middle;\n",
              "    }\n",
              "\n",
              "    .dataframe tbody tr th {\n",
              "        vertical-align: top;\n",
              "    }\n",
              "\n",
              "    .dataframe thead th {\n",
              "        text-align: right;\n",
              "    }\n",
              "</style>\n",
              "<table border=\"1\" class=\"dataframe\">\n",
              "  <thead>\n",
              "    <tr style=\"text-align: right;\">\n",
              "      <th></th>\n",
              "      <th>mean_train_score</th>\n",
              "      <th>mean_test_score</th>\n",
              "    </tr>\n",
              "    <tr>\n",
              "      <th>param_n_neighbors</th>\n",
              "      <th></th>\n",
              "      <th></th>\n",
              "    </tr>\n",
              "  </thead>\n",
              "  <tbody>\n",
              "    <tr>\n",
              "      <th>1</th>\n",
              "      <td>1.0000</td>\n",
              "      <td>0.9761</td>\n",
              "    </tr>\n",
              "    <tr>\n",
              "      <th>3</th>\n",
              "      <td>0.9933</td>\n",
              "      <td>0.9777</td>\n",
              "    </tr>\n",
              "    <tr>\n",
              "      <th>5</th>\n",
              "      <td>0.9907</td>\n",
              "      <td>0.9738</td>\n",
              "    </tr>\n",
              "    <tr>\n",
              "      <th>10</th>\n",
              "      <td>0.9861</td>\n",
              "      <td>0.9644</td>\n",
              "    </tr>\n",
              "    <tr>\n",
              "      <th>20</th>\n",
              "      <td>0.9806</td>\n",
              "      <td>0.9610</td>\n",
              "    </tr>\n",
              "  </tbody>\n",
              "</table>\n",
              "</div>"
            ],
            "text/plain": [
              "                      mean_train_score      mean_test_score\n",
              "param_n_neighbors                                          \n",
              "1                               1.0000               0.9761\n",
              "3                               0.9933               0.9777\n",
              "5                               0.9907               0.9738\n",
              "10                              0.9861               0.9644\n",
              "20                              0.9806               0.9610"
            ]
          },
          "metadata": {
            "tags": []
          }
        },
        {
          "output_type": "execute_result",
          "data": {
            "text/plain": [
              "[<matplotlib.axis.XTick at 0x7f84dad60dd8>,\n",
              " <matplotlib.axis.XTick at 0x7f84e57fcc18>,\n",
              " <matplotlib.axis.XTick at 0x7f84dad28da0>,\n",
              " <matplotlib.axis.XTick at 0x7f84dad3d320>,\n",
              " <matplotlib.axis.XTick at 0x7f84dad3d828>]"
            ]
          },
          "metadata": {
            "tags": []
          },
          "execution_count": 12
        },
        {
          "output_type": "display_data",
          "data": {
            "image/png": "[encoded data removed]",
            "text/plain": [
              "<Figure size 432x288 with 1 Axes>"
            ]
          },
          "metadata": {
            "tags": [],
            "needs_background": "light"
          }
        }
      ]
    },
    {
      "cell_type": "markdown",
      "metadata": {
        "id": "P-da04CiQarU"
      },
      "source": [
        "##### Evaluating over multiple hyperparameters\n",
        "example: we want to try all combinations of these hyperparameters:\n",
        "Hyperparameter         values\n",
        "n_neighbors            1,...,10\n",
        "weights                uniform, distance\n",
        "p                      1,2,4,8,16\n",
        "notes: distance means my neighbors' contribution is weighted by its distance from me.\n",
        "       uniform means all my neightbors are considered the same with no weighting\n",
        "       p is an argument to a Minkowski distance constructor (p = 1 iw Manhatan distance (L1-like), p = 2 is Euclidean distance (L2-like) and higher \n",
        "       ps approach something called an infinity-norm  "
      ]
    },
    {
      "cell_type": "code",
      "metadata": {
        "id": "HlJJtUThQarU"
      },
      "source": [
        "param_grid = {\"n_neighbors\": np.arange(1,11), \"weights\": ['uniform','distance'],\"p\": [1,2,4,8,16]}\n",
        "knn = neighbors.KNeighborsClassifier()\n",
        "grid_model = skms.GridSearchCV(knn, param_grid = param_grid, cv=10)"
      ],
      "execution_count": null,
      "outputs": []
    },
    {
      "cell_type": "markdown",
      "metadata": {
        "id": "4o2iB9cRQarX"
      },
      "source": [
        "This code will take a bit longer than our previous, because we are fiting 10 x 2 x 5 x 10 = 200 total models "
      ]
    },
    {
      "cell_type": "code",
      "metadata": {
        "id": "IPLyEil2QarY",
        "outputId": "c9cc225b-8d1c-4169-bb49-269411b74bcb"
      },
      "source": [
        "%timeit -r1 grid_model.fit(iris.data,iris.target)"
      ],
      "execution_count": null,
      "outputs": [
        {
          "output_type": "stream",
          "text": [
            "5.14 s ± 0 ns per loop (mean ± std. dev. of 1 run, 1 loop each)\n"
          ],
          "name": "stdout"
        }
      ]
    },
    {
      "cell_type": "code",
      "metadata": {
        "id": "pC_yQFboQara",
        "outputId": "d72402fa-de1c-40a5-c575-1dde8874bcc8"
      },
      "source": [
        "param_df = pd.DataFrame.from_records(grid_model.cv_results_['params'])\n",
        "param_df['mean_test_score'] = grid_model.cv_results_['mean_test_score']\n",
        "param_df.sort_values(by=['mean_test_score']).tail()"
      ],
      "execution_count": null,
      "outputs": [
        {
          "output_type": "error",
          "ename": "NameError",
          "evalue": "name 'sef' is not defined",
          "traceback": [
            "\u001b[0;31m---------------------------------------------------------------------------\u001b[0m",
            "\u001b[0;31mNameError\u001b[0m                                 Traceback (most recent call last)",
            "\u001b[0;32m~/anaconda3_501/lib/python3.6/site-packages/IPython/core/formatters.py\u001b[0m in \u001b[0;36m__call__\u001b[0;34m(self, obj)\u001b[0m\n\u001b[1;32m    343\u001b[0m             \u001b[0mmethod\u001b[0m \u001b[0;34m=\u001b[0m \u001b[0mget_real_method\u001b[0m\u001b[0;34m(\u001b[0m\u001b[0mobj\u001b[0m\u001b[0;34m,\u001b[0m \u001b[0mself\u001b[0m\u001b[0;34m.\u001b[0m\u001b[0mprint_method\u001b[0m\u001b[0;34m)\u001b[0m\u001b[0;34m\u001b[0m\u001b[0m\n\u001b[1;32m    344\u001b[0m             \u001b[0;32mif\u001b[0m \u001b[0mmethod\u001b[0m \u001b[0;32mis\u001b[0m \u001b[0;32mnot\u001b[0m \u001b[0;32mNone\u001b[0m\u001b[0;34m:\u001b[0m\u001b[0;34m\u001b[0m\u001b[0m\n\u001b[0;32m--> 345\u001b[0;31m                 \u001b[0;32mreturn\u001b[0m \u001b[0mmethod\u001b[0m\u001b[0;34m(\u001b[0m\u001b[0;34m)\u001b[0m\u001b[0;34m\u001b[0m\u001b[0m\n\u001b[0m\u001b[1;32m    346\u001b[0m             \u001b[0;32mreturn\u001b[0m \u001b[0;32mNone\u001b[0m\u001b[0;34m\u001b[0m\u001b[0m\n\u001b[1;32m    347\u001b[0m         \u001b[0;32melse\u001b[0m\u001b[0;34m:\u001b[0m\u001b[0;34m\u001b[0m\u001b[0m\n",
            "\u001b[0;32m~/library/tuanlam.py\u001b[0m in \u001b[0;36m_repr_latex_\u001b[0;34m(self)\u001b[0m\n\u001b[1;32m     42\u001b[0m \u001b[0;31m#monkey-patch for centering out[] DataFrames\u001b[0m\u001b[0;34m\u001b[0m\u001b[0;34m\u001b[0m\u001b[0m\n\u001b[1;32m     43\u001b[0m \u001b[0;32mdef\u001b[0m \u001b[0m_repr_latex_\u001b[0m\u001b[0;34m(\u001b[0m\u001b[0mself\u001b[0m\u001b[0;34m)\u001b[0m\u001b[0;34m:\u001b[0m\u001b[0;34m\u001b[0m\u001b[0m\n\u001b[0;32m---> 44\u001b[0;31m     \u001b[0;32mreturn\u001b[0m \u001b[0;34m\"{\\centering\\n%s\\n\\medskip}\"\u001b[0m \u001b[0;34m%\u001b[0m \u001b[0msef\u001b[0m\u001b[0;34m.\u001b[0m\u001b[0mto_latex\u001b[0m\u001b[0;34m(\u001b[0m\u001b[0;34m)\u001b[0m\u001b[0;34m\u001b[0m\u001b[0m\n\u001b[0m\u001b[1;32m     45\u001b[0m \u001b[0mpd\u001b[0m\u001b[0;34m.\u001b[0m\u001b[0mDataFrame\u001b[0m\u001b[0;34m.\u001b[0m\u001b[0m_repr_latex_\u001b[0m \u001b[0;34m=\u001b[0m \u001b[0m_repr_latex_\u001b[0m\u001b[0;34m\u001b[0m\u001b[0m\n\u001b[1;32m     46\u001b[0m \u001b[0;31m#Only used once\u001b[0m\u001b[0;34m\u001b[0m\u001b[0;34m\u001b[0m\u001b[0m\n",
            "\u001b[0;31mNameError\u001b[0m: name 'sef' is not defined"
          ]
        },
        {
          "output_type": "execute_result",
          "data": {
            "text/html": [
              "<div>\n",
              "<style scoped>\n",
              "    .dataframe tbody tr th:only-of-type {\n",
              "        vertical-align: middle;\n",
              "    }\n",
              "\n",
              "    .dataframe tbody tr th {\n",
              "        vertical-align: top;\n",
              "    }\n",
              "\n",
              "    .dataframe thead th {\n",
              "        text-align: right;\n",
              "    }\n",
              "</style>\n",
              "<table border=\"1\" class=\"dataframe\">\n",
              "  <thead>\n",
              "    <tr style=\"text-align: right;\">\n",
              "      <th></th>\n",
              "      <th>n_neighbors</th>\n",
              "      <th>p</th>\n",
              "      <th>weights</th>\n",
              "      <th>mean_test_score</th>\n",
              "    </tr>\n",
              "  </thead>\n",
              "  <tbody>\n",
              "    <tr>\n",
              "      <th>79</th>\n",
              "      <td>8</td>\n",
              "      <td>16</td>\n",
              "      <td>distance</td>\n",
              "      <td>0.9800</td>\n",
              "    </tr>\n",
              "    <tr>\n",
              "      <th>78</th>\n",
              "      <td>8</td>\n",
              "      <td>16</td>\n",
              "      <td>uniform</td>\n",
              "      <td>0.9800</td>\n",
              "    </tr>\n",
              "    <tr>\n",
              "      <th>77</th>\n",
              "      <td>8</td>\n",
              "      <td>8</td>\n",
              "      <td>distance</td>\n",
              "      <td>0.9800</td>\n",
              "    </tr>\n",
              "    <tr>\n",
              "      <th>88</th>\n",
              "      <td>9</td>\n",
              "      <td>16</td>\n",
              "      <td>uniform</td>\n",
              "      <td>0.9800</td>\n",
              "    </tr>\n",
              "    <tr>\n",
              "      <th>99</th>\n",
              "      <td>10</td>\n",
              "      <td>16</td>\n",
              "      <td>distance</td>\n",
              "      <td>0.9800</td>\n",
              "    </tr>\n",
              "  </tbody>\n",
              "</table>\n",
              "</div>"
            ],
            "text/plain": [
              "    n_neighbors   p   weights      mean_test_score\n",
              "79            8  16  distance               0.9800\n",
              "78            8  16   uniform               0.9800\n",
              "77            8   8  distance               0.9800\n",
              "88            9  16   uniform               0.9800\n",
              "99           10  16  distance               0.9800"
            ]
          },
          "metadata": {
            "tags": []
          },
          "execution_count": 15
        }
      ]
    },
    {
      "cell_type": "code",
      "metadata": {
        "id": "-GWm_KVkQard",
        "outputId": "b99591aa-2bbd-4c9d-b2c1-abbadc49b205"
      },
      "source": [
        "print(\"Best Estimator:\", grid_model.best_estimator_, \"Best Score:\", grid_model.best_score_,\"Best Params:\", grid_model.best_params_, sep=\"\\n\")"
      ],
      "execution_count": null,
      "outputs": [
        {
          "output_type": "stream",
          "text": [
            "Best Estimator:\n",
            "KNeighborsClassifier(algorithm='auto', leaf_size=30, metric='minkowski',\n",
            "           metric_params=None, n_jobs=None, n_neighbors=8, p=4,\n",
            "           weights='uniform')\n",
            "Best Score:\n",
            "0.98\n",
            "Best Params:\n",
            "{'n_neighbors': 8, 'p': 4, 'weights': 'uniform'}\n"
          ],
          "name": "stdout"
        }
      ]
    },
    {
      "cell_type": "markdown",
      "metadata": {
        "id": "XrscNg0KQarf"
      },
      "source": [
        "##### Using Randomness to search for a needle in a haystack\n",
        "if we have many hyperparameters, or if the range of possible values for a single hyperparameter is large, we may not be able to exhaustively try all possibilities. In these scenarios, we can specify random combinations of the hyperparameters "
      ]
    },
    {
      "cell_type": "code",
      "metadata": {
        "id": "fIu0CJD-Qarg",
        "outputId": "f7dc0f52-b54e-49d3-dd42-7f2d7e3a772b"
      },
      "source": [
        "import scipy.stats as ss\n",
        "knn = neighbors.KNeighborsClassifier()\n",
        "param_dists = {\"n_neighbors\" : ss.randint(1,11), \"weights\" : ['uniform','distance'], \"p\" : ss.geom(p=.5)}\n",
        "mod = skms.RandomizedSearchCV(knn, param_distributions = param_dists, cv=10, n_iter=20)\n",
        "%timeit -r1 mod.fit(iris.data, iris.target)\n",
        "print(mod.best_score_)"
      ],
      "execution_count": null,
      "outputs": [
        {
          "output_type": "stream",
          "text": [
            "710 ms ± 0 ns per loop (mean ± std. dev. of 1 run, 1 loop each)\n",
            "0.98\n"
          ],
          "name": "stdout"
        }
      ]
    },
    {
      "cell_type": "markdown",
      "metadata": {
        "id": "mppnEmq3Qari"
      },
      "source": [
        "##### Cross validation nested with Cross validation\n",
        "we used 5-fold repeats of 3-fold cross-validation for a 5 x 3 nested cross-validation strategy"
      ]
    },
    {
      "cell_type": "code",
      "metadata": {
        "id": "WPIMT0vHQari",
        "outputId": "bd930e46-d371-42a1-fa45-8821548357ea"
      },
      "source": [
        "param_grid = {\"n_neighbors\" : np.arange(1,11), \"weights\" : ['uniform','distance'], \"p\" : [1,2,4,8,16]}\n",
        "knn = neighbors.KNeighborsClassifier()\n",
        "grid_knn = skms.GridSearchCV(knn, param_grid = param_grid, cv=3 )\n",
        "outer_scores = skms.cross_val_score(grid_knn, iris.data, iris.target, cv=5)\n",
        "print(outer_scores)"
      ],
      "execution_count": null,
      "outputs": [
        {
          "output_type": "stream",
          "text": [
            "[0.9667 1.     0.9333 0.9667 1.    ]\n"
          ],
          "name": "stdout"
        }
      ]
    },
    {
      "cell_type": "markdown",
      "metadata": {
        "id": "ndVH9qZBQarl"
      },
      "source": [
        "#### Pipeline"
      ]
    },
    {
      "cell_type": "markdown",
      "metadata": {
        "id": "S5-W4s6XQarl"
      },
      "source": [
        "##### A simple pipeline\n",
        "create a pipeline of learning components from multiple models and transformers and then use that pipeline as a model. make_pipeline turns this into a one-liner"
      ]
    },
    {
      "cell_type": "code",
      "metadata": {
        "id": "iaQZtbwKQarm",
        "outputId": "60ef86b7-39cb-413a-f4e6-9d7eae6ac0b2"
      },
      "source": [
        "scaler = skpre.StandardScaler()\n",
        "logreg = linear_model.LogisticRegression()\n",
        "pipe = pipeline.make_pipeline(scaler, logreg)\n",
        "print(skms.cross_val_score(pipe, iris.data, iris.target, cv=10))"
      ],
      "execution_count": null,
      "outputs": [
        {
          "output_type": "stream",
          "text": [
            "[0.8    0.8667 1.     0.8667 0.9333 0.9333 0.8    0.8667 0.9333 1.    ]\n"
          ],
          "name": "stdout"
        }
      ]
    },
    {
      "cell_type": "markdown",
      "metadata": {
        "id": "pI3jHYMaQarp"
      },
      "source": [
        "##### A more complex pipeline\n",
        "As we add more steps to a learning task, we get more benefits from using a pipeline. Let's use an example where we have four major processing steps:\n",
        "1. Standardize the data\n",
        "2. Create interaction terms between the features\n",
        "3. Discretize the features to big-small \n",
        "4. Apply a learning method to the resulting features\n"
      ]
    },
    {
      "cell_type": "code",
      "metadata": {
        "id": "tvLqRckGQarp",
        "outputId": "aed882ad-d73b-4cfd-94af-2a255d502e1b"
      },
      "source": [
        "from sklearn.base import TransformerMixin\n",
        "class Median_Big_Small(TransformerMixin):\n",
        "    def __int__(self):\n",
        "        pass\n",
        "    def fit(self, ftrs, tgt=None):\n",
        "        self.medians = np.median(ftrs)\n",
        "        return self\n",
        "    def transform(self, ftrs, tgt=None):\n",
        "        return ftrs > self.medians\n",
        "\n",
        "scaler = skpre.StandardScaler()\n",
        "quad_inters = skpre.PolynomialFeatures(degree=2, interaction_only=True, include_bias=False)\n",
        "median_big_small = Median_Big_Small()\n",
        "knn = neighbors.KNeighborsClassifier()\n",
        "pipe = pipeline.Pipeline(steps=[('scaler', scaler), ('inter',quad_inters), ('mbs', median_big_small), ('knn', knn)])\n",
        "cv_scores = skms.cross_val_score(pipe, iris.data, iris.target, cv=10)\n",
        "print(cv_scores)\n"
      ],
      "execution_count": null,
      "outputs": [
        {
          "output_type": "stream",
          "text": [
            "[0.6    0.7333 0.8667 0.7333 0.8667 0.7333 0.6667 0.6667 0.8    0.8   ]\n"
          ],
          "name": "stdout"
        }
      ]
    },
    {
      "cell_type": "markdown",
      "metadata": {
        "id": "5soZFhe4Qart"
      },
      "source": [
        "##### Pipelines and turning together"
      ]
    },
    {
      "cell_type": "code",
      "metadata": {
        "id": "JSHK7jbxQaru",
        "outputId": "d63f2ac1-f1fa-42fe-efd5-5515d4654113"
      },
      "source": [
        "scaler = skpre.StandardScaler()\n",
        "poly = skpre.PolynomialFeatures()\n",
        "lasso = linear_model.Lasso(selection='random', tol=.01)\n",
        "pipe = pipeline.make_pipeline(scaler, poly, lasso)\n",
        "\n",
        "param_grid = {\"polynomialfeatures__degree\" : np.arange(2,6), \"lasso__alpha\" : np.logspace(1,6,6,base=2)}\n",
        "from pprint import pprint as pp\n",
        "pp(param_grid)\n",
        "\n",
        "{'lasso__alpha': np.array([2., 4., 8., 16., 32., 64.]), 'polynomialfeatures__degree': np.array([2,3,4,5])}\n",
        "\n",
        "mod = skms.GridSearchCV(pipe, param_grid, iid=False, n_jobs=-1)\n",
        "mod.fit(diabetes.data, diabetes.target)\n",
        "\n",
        "for name, step in mod.best_estimator_.named_steps.items():\n",
        "    print(\"step:\", name)\n",
        "    print(textwrap.indent(textwrap.fill(str(step),50),\" \" * 6))\n",
        "    "
      ],
      "execution_count": null,
      "outputs": [
        {
          "output_type": "stream",
          "text": [
            "{'lasso__alpha': array([ 2.,  4.,  8., 16., 32., 64.]),\n",
            " 'polynomialfeatures__degree': array([2, 3, 4, 5])}\n",
            "step: standardscaler\n",
            "      StandardScaler(copy=True, with_mean=True,\n",
            "      with_std=True)\n",
            "step: polynomialfeatures\n",
            "      PolynomialFeatures(degree=2, include_bias=True,\n",
            "      interaction_only=False)\n",
            "step: lasso\n",
            "      Lasso(alpha=4.0, copy_X=True, fit_intercept=True,\n",
            "      max_iter=1000,    normalize=False, positive=False,\n",
            "      precompute=False, random_state=None,\n",
            "      selection='random', tol=0.01, warm_start=False)\n"
          ],
          "name": "stdout"
        }
      ]
    },
    {
      "cell_type": "markdown",
      "metadata": {
        "id": "2hS8-UFoQarw"
      },
      "source": [
        "we are only really interested in the best values for parameters we were considering:"
      ]
    },
    {
      "cell_type": "code",
      "metadata": {
        "id": "QL3n9P9bQarw",
        "outputId": "7de9e357-a456-4254-dbb0-ed954e911449"
      },
      "source": [
        "pp(mod.best_params_)"
      ],
      "execution_count": null,
      "outputs": [
        {
          "output_type": "stream",
          "text": [
            "{'lasso__alpha': 4.0, 'polynomialfeatures__degree': 2}\n"
          ],
          "name": "stdout"
        }
      ]
    },
    {
      "cell_type": "markdown",
      "metadata": {
        "id": "1Hn6bgRbQarz"
      },
      "source": [
        "Summary: we now solved two of the remaining issues in building larger learning systems. First, we can buld system with multiple , modular components working together. Second, we can systematically evaluate hyperparameters and select the good ones. we can do that eavaluation in a non-teaching-to-the-test maner"
      ]
    },
    {
      "cell_type": "code",
      "metadata": {
        "id": "xLYLcX5AQarz"
      },
      "source": [
        ""
      ],
      "execution_count": null,
      "outputs": []
    }
  ]
}