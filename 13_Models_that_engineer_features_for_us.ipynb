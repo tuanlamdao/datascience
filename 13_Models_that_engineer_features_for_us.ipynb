{
  "nbformat": 4,
  "nbformat_minor": 0,
  "metadata": {
    "kernelspec": {
      "name": "python36",
      "display_name": "Python 3.6",
      "language": "python"
    },
    "colab": {
      "name": "13 - Models that engineer features for us.ipynb",
      "provenance": [],
      "include_colab_link": true
    }
  },
  "cells": [
    {
      "cell_type": "markdown",
      "metadata": {
        "id": "view-in-github",
        "colab_type": "text"
      },
      "source": [
        "<a href=\"https://colab.research.google.com/github/tuanlamdao/datascience/blob/master/13_Models_that_engineer_features_for_us.ipynb\" target=\"_parent\"><img src=\"https://colab.research.google.com/assets/colab-badge.svg\" alt=\"Open In Colab\"/></a>"
      ]
    },
    {
      "cell_type": "code",
      "metadata": {
        "trusted": true,
        "id": "V4sQTkWxQ2d-"
      },
      "source": [
        "from tuanlam import *"
      ],
      "execution_count": null,
      "outputs": []
    },
    {
      "cell_type": "code",
      "metadata": {
        "trusted": true,
        "id": "L7_a386FQ2eC"
      },
      "source": [
        "kwargs = {'test_size': .25, 'random_state':42}"
      ],
      "execution_count": null,
      "outputs": []
    },
    {
      "cell_type": "code",
      "metadata": {
        "trusted": true,
        "id": "GTOlriJ2Q2eF"
      },
      "source": [
        "iris = datasets.load_iris()\n",
        "tts = skms.train_test_split(iris.data, iris.target, **kwargs)\n",
        "(iris_train, iris_test, iris_train_tgt, iris_test_tgt) = tts"
      ],
      "execution_count": null,
      "outputs": []
    },
    {
      "cell_type": "code",
      "metadata": {
        "trusted": true,
        "id": "X5bbxCODQ2eI"
      },
      "source": [
        "wine = datasets.load_wine()\n",
        "tts = skms.train_test_split(wine.data, wine.target, **kwargs)\n",
        "(wine_train, wine_test, wine_train_tgt, wine_test_tgt) = tts"
      ],
      "execution_count": null,
      "outputs": []
    },
    {
      "cell_type": "code",
      "metadata": {
        "trusted": true,
        "id": "BOgFd9MNQ2eK"
      },
      "source": [
        "diabetes = datasets.load_diabetes()\n",
        "tts = skms.train_test_split(diabetes.data, diabetes.target, **kwargs)\n",
        "(diabetes_train, diabetes_test, diabetes_train_tgt, diabetes_test_tgt) = tts"
      ],
      "execution_count": null,
      "outputs": []
    },
    {
      "cell_type": "code",
      "metadata": {
        "trusted": true,
        "id": "UTaKhxXqQ2eN"
      },
      "source": [
        "iris_df = pd.DataFrame(iris.data, columns=iris.feature_names)\n",
        "wine_df = pd.DataFrame(wine.data, columns=wine.feature_names)\n",
        "diabetes_df = pd.DataFrame(diabetes.data, columns=diabetes.feature_names)"
      ],
      "execution_count": null,
      "outputs": []
    },
    {
      "cell_type": "markdown",
      "metadata": {
        "id": "sLpOEEiyQ2eP"
      },
      "source": [
        "### Feature selection\n",
        "there are 3 ways top pick features:\n",
        "1. evaluation each feature in isolation, then select some and discard the rest\n",
        "2. select one or more features, build a model, and assess the results. Repeat after adding or removing features. \n",
        "3. as part of the model building process, we can select or ignore different features"
      ]
    },
    {
      "cell_type": "markdown",
      "metadata": {
        "id": "bUIFs0heQ2eQ"
      },
      "source": [
        "way 1"
      ]
    },
    {
      "cell_type": "code",
      "metadata": {
        "trusted": true,
        "id": "7CmAGjMiQ2eQ",
        "outputId": "dbd088f2-4af3-4dc3-e196-6ba111950903"
      },
      "source": [
        "print(wine_df.var())"
      ],
      "execution_count": null,
      "outputs": [
        {
          "output_type": "stream",
          "text": [
            "alcohol                                      0.6591\n",
            "malic_acid                                   1.2480\n",
            "ash                                          0.0753\n",
            "alcalinity_of_ash                           11.1527\n",
            "magnesium                                  203.9893\n",
            "total_phenols                                0.3917\n",
            "flavanoids                                   0.9977\n",
            "nonflavanoid_phenols                         0.0155\n",
            "proanthocyanins                              0.3276\n",
            "color_intensity                              5.3744\n",
            "hue                                          0.0522\n",
            "od280/od315_of_diluted_wines                 0.5041\n",
            "proline                                 99,166.7174\n",
            "dtype: float64\n"
          ],
          "name": "stdout"
        }
      ]
    },
    {
      "cell_type": "markdown",
      "metadata": {
        "id": "u0X6BtZ_Q2eU"
      },
      "source": [
        "Checking variance wine data set above, we can get rid of features with very low variance"
      ]
    },
    {
      "cell_type": "markdown",
      "metadata": {
        "id": "oy3T8j9jQ2eU"
      },
      "source": [
        "let pick out those features that have a variance greater than one"
      ]
    },
    {
      "cell_type": "code",
      "metadata": {
        "trusted": true,
        "id": "xc20YuJFQ2eV",
        "outputId": "fe022e49-4dd8-4cf4-b2ab-3b7c44768fdd"
      },
      "source": [
        "varsel = ftr_sel.VarianceThreshold(threshold=1)\n",
        "varsel.fit_transform(wine_train)\n",
        "print(\"First example\")\n",
        "print(varsel.fit_transform(wine_train)[0],wine_train[0,wine_train.var(axis=0)>1],sep='\\n')"
      ],
      "execution_count": null,
      "outputs": [
        {
          "output_type": "stream",
          "text": [
            "First example\n",
            "[   2.36   18.6   101.      3.24    5.68 1185.  ]\n",
            "[   2.36   18.6   101.      3.24    5.68 1185.  ]\n"
          ],
          "name": "stdout"
        }
      ]
    },
    {
      "cell_type": "markdown",
      "metadata": {
        "id": "a0FfIbSmQ2eX"
      },
      "source": [
        "so, running the VarianceThreshold.fit_transform is effectively the same as picking the columns with variance greater than one."
      ]
    },
    {
      "cell_type": "code",
      "metadata": {
        "trusted": true,
        "id": "-WTbQG0UQ2eY",
        "outputId": "c1c019e0-8f20-43a4-a0f6-1625b0078b0e"
      },
      "source": [
        "print(varsel.get_support())"
      ],
      "execution_count": null,
      "outputs": [
        {
          "output_type": "stream",
          "text": [
            "[False  True False  True  True False  True False False  True False False\n",
            "  True]\n"
          ],
          "name": "stdout"
        }
      ]
    },
    {
      "cell_type": "code",
      "metadata": {
        "trusted": true,
        "id": "6vAxCudCQ2ea",
        "outputId": "0613a162-322b-4072-9ae8-ddedd9dd5151"
      },
      "source": [
        "keepers_idx = varsel.get_support()\n",
        "keepers = np.array(wine.feature_names)[keepers_idx]\n",
        "print(keepers)"
      ],
      "execution_count": null,
      "outputs": [
        {
          "output_type": "stream",
          "text": [
            "['malic_acid' 'alcalinity_of_ash' 'magnesium' 'flavanoids'\n",
            " 'color_intensity' 'proline']\n"
          ],
          "name": "stdout"
        }
      ]
    },
    {
      "cell_type": "markdown",
      "metadata": {
        "id": "CVDKbAwhQ2ec"
      },
      "source": [
        "Using get_support() as above will provide feature names to keep.Evaluating each feature isolation involves some issues and could provide incorrect kept features. \n"
      ]
    },
    {
      "cell_type": "markdown",
      "metadata": {
        "id": "O9B9ngp9Q2ed"
      },
      "source": [
        "##### Correlation"
      ]
    },
    {
      "cell_type": "code",
      "metadata": {
        "trusted": true,
        "id": "Ym7TZGFQQ2ed",
        "outputId": "91792199-35f0-4cfe-e9f5-e534c6c8bb69"
      },
      "source": [
        "n = len(diabetes_train)\n",
        "x = diabetes_train_tgt[np.newaxis,:]\n",
        "y = diabetes_train\n",
        "cov_via_dot = np.dot(x-x.mean(), y-y.mean())/n\n",
        "cov_via_np = np.cov(diabetes_train, diabetes_train_tgt, rowvar=False, bias=True)[-1,:-1]\n",
        "print(np.allclose(cov_via_dot, cov_via_np))"
      ],
      "execution_count": null,
      "outputs": [
        {
          "output_type": "stream",
          "text": [
            "True\n"
          ],
          "name": "stdout"
        }
      ]
    },
    {
      "cell_type": "markdown",
      "metadata": {
        "id": "3wMwpFYKQ2eg"
      },
      "source": [
        "In general: Variance is ok, but covariance is a big improvement"
      ]
    },
    {
      "cell_type": "code",
      "metadata": {
        "trusted": true,
        "id": "GWuCKmxjQ2eg",
        "outputId": "c95d74ee-6584-44b4-fd5f-1efb07b510f7"
      },
      "source": [
        "xs = np.linspace(-10,10,1000).reshape(-1,1)\n",
        "data = np.c_[xs,np.random.uniform(-10,10,xs.shape)]\n",
        "tgt = (np.cos(xs)>0).flatten()\n",
        "plt.figure(figsize=(4,3))\n",
        "plt.scatter(data[:,0],tgt)\n",
        "plt.plot(data[:,0],tgt)\n",
        "mi = ftr_sel.mutual_info_classif(data,tgt,discrete_features=False)\n",
        "print(mi)"
      ],
      "execution_count": null,
      "outputs": [
        {
          "output_type": "stream",
          "text": [
            "[0.6811 0.    ]\n"
          ],
          "name": "stdout"
        },
        {
          "output_type": "display_data",
          "data": {
            "image/png": "[encoded data removed]",
            "text/plain": [
              "<Figure size 288x216 with 1 Axes>"
            ]
          },
          "metadata": {
            "tags": [],
            "needs_background": "light"
          }
        }
      ]
    },
    {
      "cell_type": "markdown",
      "metadata": {
        "id": "mw-1OWRzQ2ek"
      },
      "source": [
        "We can select the top features by using method SelectKBest with mutual_info_classif or f_classif which provide most the same of top 5 features"
      ]
    },
    {
      "cell_type": "code",
      "metadata": {
        "trusted": true,
        "id": "6MS7_w8fQ2ek",
        "outputId": "9b2c4c88-b233-4f93-d0d0-af18367da321"
      },
      "source": [
        "ftrsel = ftr_sel.SelectKBest(ftr_sel.mutual_info_classif, k=5)\n",
        "ftrsel.fit_transform(wine_train, wine_train_tgt)\n",
        "keepers_idx = ftrsel.get_support()\n",
        "print(np.array(wine.feature_names)[keepers_idx])"
      ],
      "execution_count": null,
      "outputs": [
        {
          "output_type": "stream",
          "text": [
            "['flavanoids' 'color_intensity' 'hue' 'od280/od315_of_diluted_wines'\n",
            " 'proline']\n"
          ],
          "name": "stdout"
        }
      ]
    },
    {
      "cell_type": "code",
      "metadata": {
        "trusted": true,
        "id": "63cBpUHJQ2en",
        "outputId": "95d0cd0f-5073-45cd-c6d2-c8b90487358d"
      },
      "source": [
        "ftrsel = ftr_sel.SelectKBest(ftr_sel.f_classif, k=5)\n",
        "ftrsel.fit_transform(wine_train, wine_train_tgt)\n",
        "keepers_idx = ftrsel.get_support()\n",
        "print(np.array(wine.feature_names)[keepers_idx])"
      ],
      "execution_count": null,
      "outputs": [
        {
          "output_type": "stream",
          "text": [
            "['alcohol' 'flavanoids' 'color_intensity' 'od280/od315_of_diluted_wines'\n",
            " 'proline']\n"
          ],
          "name": "stdout"
        }
      ]
    },
    {
      "cell_type": "markdown",
      "metadata": {
        "id": "xD4_xF2mQ2ep"
      },
      "source": [
        "if we prefer to grab some percentage of the features, we can use SelectionPercentile combining with r2. Here are what we have with diabetes dataset "
      ]
    },
    {
      "cell_type": "code",
      "metadata": {
        "trusted": true,
        "id": "dhmfNECNQ2ep",
        "outputId": "7edb45e5-d970-4e81-db09-fb25320cfe42"
      },
      "source": [
        "ftrsel = ftr_sel.SelectPercentile(ftr_sel.f_regression, percentile=25)\n",
        "ftrsel.fit_transform(diabetes_train, diabetes_train_tgt)\n",
        "keepers_idx = ftrsel.get_support()\n",
        "print(np.array(diabetes.feature_names)[keepers_idx])"
      ],
      "execution_count": null,
      "outputs": [
        {
          "output_type": "stream",
          "text": [
            "['bmi' 'bp' 's5']\n"
          ],
          "name": "stdout"
        }
      ]
    },
    {
      "cell_type": "code",
      "metadata": {
        "trusted": true,
        "id": "GchTkT2wQ2et",
        "outputId": "5b90716c-6666-43b3-a0ce-309a535bd46f"
      },
      "source": [
        "ftrsel = ftr_sel.SelectPercentile(ftr_sel.mutual_info_classif, percentile=25)\n",
        "ftrsel.fit_transform(diabetes_train, diabetes_train_tgt)\n",
        "keepers_idx = ftrsel.get_support()\n",
        "print(np.array(diabetes.feature_names)[keepers_idx])"
      ],
      "execution_count": null,
      "outputs": [
        {
          "output_type": "stream",
          "text": [
            "['sex' 's4' 's5']\n"
          ],
          "name": "stdout"
        }
      ]
    },
    {
      "cell_type": "markdown",
      "metadata": {
        "id": "dQz4ILsEQ2ew"
      },
      "source": [
        "##### Model based feature selection"
      ]
    },
    {
      "cell_type": "code",
      "metadata": {
        "trusted": true,
        "id": "CqPDTxYJQ2ex",
        "outputId": "6120fb2a-ee72-47c4-afdc-dfaac9b245a9"
      },
      "source": [
        "ftrsel = ftr_sel.SelectFromModel(ensemble.RandomForestClassifier(), threshold='mean')\n",
        "ftrsel.fit_transform(wine_train, wine_train_tgt)\n",
        "print(np.array(wine.feature_names)[ftrsel.get_support()])"
      ],
      "execution_count": null,
      "outputs": [
        {
          "output_type": "stream",
          "text": [
            "['alcohol' 'flavanoids' 'color_intensity' 'hue'\n",
            " 'od280/od315_of_diluted_wines' 'proline']\n"
          ],
          "name": "stdout"
        }
      ]
    },
    {
      "cell_type": "markdown",
      "metadata": {
        "id": "DdrQmiU7Q2ez"
      },
      "source": [
        "For models with L1 regularization - that's what we called the lasso , the default threshold is small coefficients"
      ]
    },
    {
      "cell_type": "code",
      "metadata": {
        "trusted": true,
        "id": "UEp9a7ywQ2ez",
        "outputId": "b4857ca2-38a4-41bd-a780-b5f5f48e0479"
      },
      "source": [
        "lmlr = linear_model.LogisticRegression\n",
        "ftrsel = ftr_sel.SelectFromModel(lmlr(penalty='l1'))\n",
        "ftrsel.fit_transform(wine_train, wine_train_tgt)\n",
        "print(np.array(wine.feature_names)[ftrsel.get_support()])"
      ],
      "execution_count": null,
      "outputs": [
        {
          "output_type": "stream",
          "text": [
            "['alcohol' 'malic_acid' 'ash' 'alcalinity_of_ash' 'magnesium' 'flavanoids'\n",
            " 'proanthocyanins' 'color_intensity' 'od280/od315_of_diluted_wines'\n",
            " 'proline']\n"
          ],
          "name": "stdout"
        }
      ]
    },
    {
      "cell_type": "markdown",
      "metadata": {
        "id": "aGbYMGG0Q2e1"
      },
      "source": [
        "using method called Recursive feature elimination which is available through RFE. Here we will use a RandomForestClassifier as the underlying model. Random forest operate by repeatedly working with random selections of the features. If a feature shows up in many of the component trees we can use that as an indicator that a more frequently used feature "
      ]
    },
    {
      "cell_type": "code",
      "metadata": {
        "trusted": true,
        "id": "vHBmptRvQ2e2",
        "outputId": "8eaad9d6-a281-47aa-89f1-4d22635890f4"
      },
      "source": [
        "ftrsel = ftr_sel.RFE(ensemble.RandomForestClassifier(), n_features_to_select=5)\n",
        "res = ftrsel.fit_transform(wine_train, wine_train_tgt)\n",
        "print(np.array(wine.feature_names)[ftrsel.get_support()])\n"
      ],
      "execution_count": null,
      "outputs": [
        {
          "output_type": "stream",
          "text": [
            "['alcohol' 'flavanoids' 'color_intensity' 'od280/od315_of_diluted_wines'\n",
            " 'proline']\n"
          ],
          "name": "stdout"
        }
      ]
    },
    {
      "cell_type": "code",
      "metadata": {
        "trusted": true,
        "id": "cq7IcvtwQ2e4",
        "outputId": "41b8abf9-26ed-4126-9c05-c7df4dd3acb4"
      },
      "source": [
        "ftrsel = ftr_sel.RFE(linear_model.LinearRegression(), n_features_to_select=5)\n",
        "ftrsel.fit_transform(wine_train, wine_train_tgt)\n",
        "print(np.array(wine.feature_names)[ftrsel.get_support()])"
      ],
      "execution_count": null,
      "outputs": [
        {
          "output_type": "stream",
          "text": [
            "['alcohol' 'total_phenols' 'flavanoids' 'hue'\n",
            " 'od280/od315_of_diluted_wines']\n"
          ],
          "name": "stdout"
        }
      ]
    },
    {
      "cell_type": "markdown",
      "metadata": {
        "id": "f6BO5IAwQ2e6"
      },
      "source": [
        "We can use .ranking_to order the dropped features."
      ]
    },
    {
      "cell_type": "code",
      "metadata": {
        "trusted": true,
        "id": "LSRH9sECQ2e7",
        "outputId": "20be623e-e506-4a40-b8d4-6d3835918dc5"
      },
      "source": [
        "print(ftrsel.ranking_, ftrsel.estimator_.coef_,sep='\\n')"
      ],
      "execution_count": null,
      "outputs": [
        {
          "output_type": "stream",
          "text": [
            "[1 5 2 4 9 1 1 3 7 6 1 1 8]\n",
            "[-0.2164  0.1281 -0.3936 -0.6394 -0.3572]\n"
          ],
          "name": "stdout"
        }
      ]
    },
    {
      "cell_type": "markdown",
      "metadata": {
        "id": "Vqv9ML9cQ2e9"
      },
      "source": [
        "Here the 1s in the ranking are selected: they are our keepers. The non 1s indicate when that feature was dropped. The five 1s can be ordered based on the absolute value to the five estimator coefficients"
      ]
    },
    {
      "cell_type": "code",
      "metadata": {
        "trusted": true,
        "id": "FDh433XCQ2e9",
        "outputId": "7d442b4c-f7dc-40ec-d7a2-24d2ca85cf98"
      },
      "source": [
        "keepers_ibx = np.argsort(np.abs(ftrsel.estimator_.coef_))\n",
        "keepers_order_idx = np.where(ftrsel.ranking_ == 1 )\n",
        "print(np.array(wine.feature_names)[keepers_order_idx])"
      ],
      "execution_count": null,
      "outputs": [
        {
          "output_type": "stream",
          "text": [
            "['alcohol' 'total_phenols' 'flavanoids' 'hue'\n",
            " 'od280/od315_of_diluted_wines']\n"
          ],
          "name": "stdout"
        }
      ]
    },
    {
      "cell_type": "markdown",
      "metadata": {
        "id": "w4Q4x4yAQ2e_"
      },
      "source": [
        "##### Integrating feature selection with a learning pipeline\n",
        "we can put together feature selection and model building in a pipeline and see how various combinations do"
      ]
    },
    {
      "cell_type": "code",
      "metadata": {
        "trusted": true,
        "id": "npzNgip8Q2fB",
        "outputId": "74d521c8-5bd0-41a8-be37-7dae7756e417"
      },
      "source": [
        "skms.cross_val_score(linear_model.LogisticRegression(), wine.data, wine.target)"
      ],
      "execution_count": null,
      "outputs": [
        {
          "output_type": "execute_result",
          "data": {
            "text/plain": [
              "array([0.8667, 0.95  , 1.    ])"
            ]
          },
          "metadata": {
            "tags": []
          },
          "execution_count": 70
        }
      ]
    },
    {
      "cell_type": "code",
      "metadata": {
        "trusted": true,
        "id": "nrfuM6R9Q2fE",
        "outputId": "88285bf5-09cd-466d-f087-3020460fde76"
      },
      "source": [
        "lmlr = linear_model.LogisticRegression\n",
        "ftrsel = ftr_sel.SelectFromModel(lmlr(penalty='l1'))\n",
        "pipe = pipeline.make_pipeline(ftrsel, linear_model.LogisticRegression())\n",
        "skms.cross_val_score(pipe, wine.data, wine.target)"
      ],
      "execution_count": null,
      "outputs": [
        {
          "output_type": "execute_result",
          "data": {
            "text/plain": [
              "array([0.8667, 0.95  , 1.    ])"
            ]
          },
          "metadata": {
            "tags": []
          },
          "execution_count": 71
        }
      ]
    },
    {
      "cell_type": "markdown",
      "metadata": {
        "id": "JakuEkMvQ2fG"
      },
      "source": [
        "that's definitve no. we will check if using a different learning model to pick features helps:"
      ]
    },
    {
      "cell_type": "code",
      "metadata": {
        "trusted": true,
        "id": "-7-em5h3Q2fH",
        "outputId": "0fb74b38-6660-47db-d790-28755884cf41"
      },
      "source": [
        "ftrsel = ftr_sel.RFE(ensemble.RandomForestClassifier(), n_features_to_select=5)\n",
        "pipe = pipeline.make_pipeline(ftrsel, linear_model.LogisticRegression())\n",
        "skms.cross_val_score(pipe,wine.data,wine.target)"
      ],
      "execution_count": null,
      "outputs": [
        {
          "output_type": "execute_result",
          "data": {
            "text/plain": [
              "array([0.8667, 0.9167, 0.9655])"
            ]
          },
          "metadata": {
            "tags": []
          },
          "execution_count": 72
        }
      ]
    },
    {
      "cell_type": "markdown",
      "metadata": {
        "id": "fvEMmriRQ2fJ"
      },
      "source": [
        "again, the answer is no, but it was not hard to do and it could potentially help in other problems,let's switch to using an information -based features evaluator:"
      ]
    },
    {
      "cell_type": "code",
      "metadata": {
        "trusted": true,
        "id": "TvmbbXjXQ2fJ",
        "outputId": "366d87c0-ce73-4708-d472-fe33ff5f81a7"
      },
      "source": [
        "ftrsel = ftr_sel.SelectPercentile(ftr_sel.mutual_info_classif, percentile=25)\n",
        "pipe = pipeline.make_pipeline(ftrsel, linear_model.LogisticRegression())\n",
        "skms.cross_val_score(pipe, wine.data, wine.target)"
      ],
      "execution_count": null,
      "outputs": [
        {
          "output_type": "execute_result",
          "data": {
            "text/plain": [
              "array([0.9167, 0.9167, 1.    ])"
            ]
          },
          "metadata": {
            "tags": []
          },
          "execution_count": 73
        }
      ]
    },
    {
      "cell_type": "markdown",
      "metadata": {
        "id": "BQOPeo0tQ2fL"
      },
      "source": [
        "it seems to help a bit but we need to do a bit more experimentation to be sold on making it part of our pipeline.Let fine turn the number of features we keep. WE can do that with a GridSearch ont the pipeline "
      ]
    },
    {
      "cell_type": "code",
      "metadata": {
        "trusted": true,
        "id": "Y_j0rAUcQ2fL"
      },
      "source": [
        "ftrsel = ftr_sel.SelectPercentile(ftr_sel.mutual_info_classif, percentile=25)\n",
        "pipe = pipeline.make_pipeline(ftrsel, linear_model.LogisticRegression())\n",
        "\n",
        "param_grid = {'selectpercentile__percentile': [5,10,15,20,25]}\n",
        "grid = skms.GridSearchCV(pipe, param_grid=param_grid, cv=3, iid=False)\n"
      ],
      "execution_count": null,
      "outputs": []
    },
    {
      "cell_type": "code",
      "metadata": {
        "trusted": true,
        "id": "m90A7CaKQ2fO",
        "outputId": "52ad5194-901a-437e-e418-c036e520a59e"
      },
      "source": [
        "grid.fit(wine.data, wine.target)\n",
        "\n",
        "print(grid.best_params_)\n",
        "print(grid.best_score_)"
      ],
      "execution_count": null,
      "outputs": [
        {
          "output_type": "error",
          "ename": "ValueError",
          "evalue": "Invalid parameter selectpercentile_percentile for estimator Pipeline(memory=None,\n     steps=[('selectpercentile', SelectPercentile(percentile=25,\n         score_func=<function mutual_info_classif at 0x7f12e5eeed90>)), ('logisticregression', LogisticRegression(C=1.0, class_weight=None, dual=False, fit_intercept=True,\n          intercept_scaling=1, max_iter=100, multi_class='warn',\n          n_jobs=None, penalty='l2', random_state=None, solver='warn',\n          tol=0.0001, verbose=0, warm_start=False))]). Check the list of available parameters with `estimator.get_params().keys()`.",
          "traceback": [
            "\u001b[0;31m---------------------------------------------------------------------------\u001b[0m",
            "\u001b[0;31mValueError\u001b[0m                                Traceback (most recent call last)",
            "\u001b[0;32m<ipython-input-75-0695f2f167cf>\u001b[0m in \u001b[0;36m<module>\u001b[0;34m\u001b[0m\n\u001b[0;32m----> 1\u001b[0;31m \u001b[0mgrid\u001b[0m\u001b[0;34m.\u001b[0m\u001b[0mfit\u001b[0m\u001b[0;34m(\u001b[0m\u001b[0mwine\u001b[0m\u001b[0;34m.\u001b[0m\u001b[0mdata\u001b[0m\u001b[0;34m,\u001b[0m \u001b[0mwine\u001b[0m\u001b[0;34m.\u001b[0m\u001b[0mtarget\u001b[0m\u001b[0;34m)\u001b[0m\u001b[0;34m\u001b[0m\u001b[0m\n\u001b[0m\u001b[1;32m      2\u001b[0m \u001b[0;34m\u001b[0m\u001b[0m\n\u001b[1;32m      3\u001b[0m \u001b[0mprint\u001b[0m\u001b[0;34m(\u001b[0m\u001b[0mgrid\u001b[0m\u001b[0;34m.\u001b[0m\u001b[0mbest_params_\u001b[0m\u001b[0;34m)\u001b[0m\u001b[0;34m\u001b[0m\u001b[0m\n\u001b[1;32m      4\u001b[0m \u001b[0mprint\u001b[0m\u001b[0;34m(\u001b[0m\u001b[0mgrid\u001b[0m\u001b[0;34m.\u001b[0m\u001b[0mbest_score_\u001b[0m\u001b[0;34m)\u001b[0m\u001b[0;34m\u001b[0m\u001b[0m\n",
            "\u001b[0;32m~/anaconda3_501/lib/python3.6/site-packages/sklearn/model_selection/_search.py\u001b[0m in \u001b[0;36mfit\u001b[0;34m(self, X, y, groups, **fit_params)\u001b[0m\n\u001b[1;32m    720\u001b[0m                 \u001b[0;32mreturn\u001b[0m \u001b[0mresults_container\u001b[0m\u001b[0;34m[\u001b[0m\u001b[0;36m0\u001b[0m\u001b[0;34m]\u001b[0m\u001b[0;34m\u001b[0m\u001b[0m\n\u001b[1;32m    721\u001b[0m \u001b[0;34m\u001b[0m\u001b[0m\n\u001b[0;32m--> 722\u001b[0;31m             \u001b[0mself\u001b[0m\u001b[0;34m.\u001b[0m\u001b[0m_run_search\u001b[0m\u001b[0;34m(\u001b[0m\u001b[0mevaluate_candidates\u001b[0m\u001b[0;34m)\u001b[0m\u001b[0;34m\u001b[0m\u001b[0m\n\u001b[0m\u001b[1;32m    723\u001b[0m \u001b[0;34m\u001b[0m\u001b[0m\n\u001b[1;32m    724\u001b[0m         \u001b[0mresults\u001b[0m \u001b[0;34m=\u001b[0m \u001b[0mresults_container\u001b[0m\u001b[0;34m[\u001b[0m\u001b[0;36m0\u001b[0m\u001b[0;34m]\u001b[0m\u001b[0;34m\u001b[0m\u001b[0m\n",
            "\u001b[0;32m~/anaconda3_501/lib/python3.6/site-packages/sklearn/model_selection/_search.py\u001b[0m in \u001b[0;36m_run_search\u001b[0;34m(self, evaluate_candidates)\u001b[0m\n\u001b[1;32m   1189\u001b[0m     \u001b[0;32mdef\u001b[0m \u001b[0m_run_search\u001b[0m\u001b[0;34m(\u001b[0m\u001b[0mself\u001b[0m\u001b[0;34m,\u001b[0m \u001b[0mevaluate_candidates\u001b[0m\u001b[0;34m)\u001b[0m\u001b[0;34m:\u001b[0m\u001b[0;34m\u001b[0m\u001b[0m\n\u001b[1;32m   1190\u001b[0m         \u001b[0;34m\"\"\"Search all candidates in param_grid\"\"\"\u001b[0m\u001b[0;34m\u001b[0m\u001b[0m\n\u001b[0;32m-> 1191\u001b[0;31m         \u001b[0mevaluate_candidates\u001b[0m\u001b[0;34m(\u001b[0m\u001b[0mParameterGrid\u001b[0m\u001b[0;34m(\u001b[0m\u001b[0mself\u001b[0m\u001b[0;34m.\u001b[0m\u001b[0mparam_grid\u001b[0m\u001b[0;34m)\u001b[0m\u001b[0;34m)\u001b[0m\u001b[0;34m\u001b[0m\u001b[0m\n\u001b[0m\u001b[1;32m   1192\u001b[0m \u001b[0;34m\u001b[0m\u001b[0m\n\u001b[1;32m   1193\u001b[0m \u001b[0;34m\u001b[0m\u001b[0m\n",
            "\u001b[0;32m~/anaconda3_501/lib/python3.6/site-packages/sklearn/model_selection/_search.py\u001b[0m in \u001b[0;36mevaluate_candidates\u001b[0;34m(candidate_params)\u001b[0m\n\u001b[1;32m    709\u001b[0m                                \u001b[0;32mfor\u001b[0m \u001b[0mparameters\u001b[0m\u001b[0;34m,\u001b[0m \u001b[0;34m(\u001b[0m\u001b[0mtrain\u001b[0m\u001b[0;34m,\u001b[0m \u001b[0mtest\u001b[0m\u001b[0;34m)\u001b[0m\u001b[0;34m\u001b[0m\u001b[0m\n\u001b[1;32m    710\u001b[0m                                in product(candidate_params,\n\u001b[0;32m--> 711\u001b[0;31m                                           cv.split(X, y, groups)))\n\u001b[0m\u001b[1;32m    712\u001b[0m \u001b[0;34m\u001b[0m\u001b[0m\n\u001b[1;32m    713\u001b[0m                 \u001b[0mall_candidate_params\u001b[0m\u001b[0;34m.\u001b[0m\u001b[0mextend\u001b[0m\u001b[0;34m(\u001b[0m\u001b[0mcandidate_params\u001b[0m\u001b[0;34m)\u001b[0m\u001b[0;34m\u001b[0m\u001b[0m\n",
            "\u001b[0;32m~/anaconda3_501/lib/python3.6/site-packages/sklearn/externals/joblib/parallel.py\u001b[0m in \u001b[0;36m__call__\u001b[0;34m(self, iterable)\u001b[0m\n\u001b[1;32m    915\u001b[0m             \u001b[0;31m# remaining jobs.\u001b[0m\u001b[0;34m\u001b[0m\u001b[0;34m\u001b[0m\u001b[0m\n\u001b[1;32m    916\u001b[0m             \u001b[0mself\u001b[0m\u001b[0;34m.\u001b[0m\u001b[0m_iterating\u001b[0m \u001b[0;34m=\u001b[0m \u001b[0;32mFalse\u001b[0m\u001b[0;34m\u001b[0m\u001b[0m\n\u001b[0;32m--> 917\u001b[0;31m             \u001b[0;32mif\u001b[0m \u001b[0mself\u001b[0m\u001b[0;34m.\u001b[0m\u001b[0mdispatch_one_batch\u001b[0m\u001b[0;34m(\u001b[0m\u001b[0miterator\u001b[0m\u001b[0;34m)\u001b[0m\u001b[0;34m:\u001b[0m\u001b[0;34m\u001b[0m\u001b[0m\n\u001b[0m\u001b[1;32m    918\u001b[0m                 \u001b[0mself\u001b[0m\u001b[0;34m.\u001b[0m\u001b[0m_iterating\u001b[0m \u001b[0;34m=\u001b[0m \u001b[0mself\u001b[0m\u001b[0;34m.\u001b[0m\u001b[0m_original_iterator\u001b[0m \u001b[0;32mis\u001b[0m \u001b[0;32mnot\u001b[0m \u001b[0;32mNone\u001b[0m\u001b[0;34m\u001b[0m\u001b[0m\n\u001b[1;32m    919\u001b[0m \u001b[0;34m\u001b[0m\u001b[0m\n",
            "\u001b[0;32m~/anaconda3_501/lib/python3.6/site-packages/sklearn/externals/joblib/parallel.py\u001b[0m in \u001b[0;36mdispatch_one_batch\u001b[0;34m(self, iterator)\u001b[0m\n\u001b[1;32m    757\u001b[0m                 \u001b[0;32mreturn\u001b[0m \u001b[0;32mFalse\u001b[0m\u001b[0;34m\u001b[0m\u001b[0m\n\u001b[1;32m    758\u001b[0m             \u001b[0;32melse\u001b[0m\u001b[0;34m:\u001b[0m\u001b[0;34m\u001b[0m\u001b[0m\n\u001b[0;32m--> 759\u001b[0;31m                 \u001b[0mself\u001b[0m\u001b[0;34m.\u001b[0m\u001b[0m_dispatch\u001b[0m\u001b[0;34m(\u001b[0m\u001b[0mtasks\u001b[0m\u001b[0;34m)\u001b[0m\u001b[0;34m\u001b[0m\u001b[0m\n\u001b[0m\u001b[1;32m    760\u001b[0m                 \u001b[0;32mreturn\u001b[0m \u001b[0;32mTrue\u001b[0m\u001b[0;34m\u001b[0m\u001b[0m\n\u001b[1;32m    761\u001b[0m \u001b[0;34m\u001b[0m\u001b[0m\n",
            "\u001b[0;32m~/anaconda3_501/lib/python3.6/site-packages/sklearn/externals/joblib/parallel.py\u001b[0m in \u001b[0;36m_dispatch\u001b[0;34m(self, batch)\u001b[0m\n\u001b[1;32m    714\u001b[0m         \u001b[0;32mwith\u001b[0m \u001b[0mself\u001b[0m\u001b[0;34m.\u001b[0m\u001b[0m_lock\u001b[0m\u001b[0;34m:\u001b[0m\u001b[0;34m\u001b[0m\u001b[0m\n\u001b[1;32m    715\u001b[0m             \u001b[0mjob_idx\u001b[0m \u001b[0;34m=\u001b[0m \u001b[0mlen\u001b[0m\u001b[0;34m(\u001b[0m\u001b[0mself\u001b[0m\u001b[0;34m.\u001b[0m\u001b[0m_jobs\u001b[0m\u001b[0;34m)\u001b[0m\u001b[0;34m\u001b[0m\u001b[0m\n\u001b[0;32m--> 716\u001b[0;31m             \u001b[0mjob\u001b[0m \u001b[0;34m=\u001b[0m \u001b[0mself\u001b[0m\u001b[0;34m.\u001b[0m\u001b[0m_backend\u001b[0m\u001b[0;34m.\u001b[0m\u001b[0mapply_async\u001b[0m\u001b[0;34m(\u001b[0m\u001b[0mbatch\u001b[0m\u001b[0;34m,\u001b[0m \u001b[0mcallback\u001b[0m\u001b[0;34m=\u001b[0m\u001b[0mcb\u001b[0m\u001b[0;34m)\u001b[0m\u001b[0;34m\u001b[0m\u001b[0m\n\u001b[0m\u001b[1;32m    717\u001b[0m             \u001b[0;31m# A job can complete so quickly than its callback is\u001b[0m\u001b[0;34m\u001b[0m\u001b[0;34m\u001b[0m\u001b[0m\n\u001b[1;32m    718\u001b[0m             \u001b[0;31m# called before we get here, causing self._jobs to\u001b[0m\u001b[0;34m\u001b[0m\u001b[0;34m\u001b[0m\u001b[0m\n",
            "\u001b[0;32m~/anaconda3_501/lib/python3.6/site-packages/sklearn/externals/joblib/_parallel_backends.py\u001b[0m in \u001b[0;36mapply_async\u001b[0;34m(self, func, callback)\u001b[0m\n\u001b[1;32m    180\u001b[0m     \u001b[0;32mdef\u001b[0m \u001b[0mapply_async\u001b[0m\u001b[0;34m(\u001b[0m\u001b[0mself\u001b[0m\u001b[0;34m,\u001b[0m \u001b[0mfunc\u001b[0m\u001b[0;34m,\u001b[0m \u001b[0mcallback\u001b[0m\u001b[0;34m=\u001b[0m\u001b[0;32mNone\u001b[0m\u001b[0;34m)\u001b[0m\u001b[0;34m:\u001b[0m\u001b[0;34m\u001b[0m\u001b[0m\n\u001b[1;32m    181\u001b[0m         \u001b[0;34m\"\"\"Schedule a func to be run\"\"\"\u001b[0m\u001b[0;34m\u001b[0m\u001b[0m\n\u001b[0;32m--> 182\u001b[0;31m         \u001b[0mresult\u001b[0m \u001b[0;34m=\u001b[0m \u001b[0mImmediateResult\u001b[0m\u001b[0;34m(\u001b[0m\u001b[0mfunc\u001b[0m\u001b[0;34m)\u001b[0m\u001b[0;34m\u001b[0m\u001b[0m\n\u001b[0m\u001b[1;32m    183\u001b[0m         \u001b[0;32mif\u001b[0m \u001b[0mcallback\u001b[0m\u001b[0;34m:\u001b[0m\u001b[0;34m\u001b[0m\u001b[0m\n\u001b[1;32m    184\u001b[0m             \u001b[0mcallback\u001b[0m\u001b[0;34m(\u001b[0m\u001b[0mresult\u001b[0m\u001b[0;34m)\u001b[0m\u001b[0;34m\u001b[0m\u001b[0m\n",
            "\u001b[0;32m~/anaconda3_501/lib/python3.6/site-packages/sklearn/externals/joblib/_parallel_backends.py\u001b[0m in \u001b[0;36m__init__\u001b[0;34m(self, batch)\u001b[0m\n\u001b[1;32m    547\u001b[0m         \u001b[0;31m# Don't delay the application, to avoid keeping the input\u001b[0m\u001b[0;34m\u001b[0m\u001b[0;34m\u001b[0m\u001b[0m\n\u001b[1;32m    548\u001b[0m         \u001b[0;31m# arguments in memory\u001b[0m\u001b[0;34m\u001b[0m\u001b[0;34m\u001b[0m\u001b[0m\n\u001b[0;32m--> 549\u001b[0;31m         \u001b[0mself\u001b[0m\u001b[0;34m.\u001b[0m\u001b[0mresults\u001b[0m \u001b[0;34m=\u001b[0m \u001b[0mbatch\u001b[0m\u001b[0;34m(\u001b[0m\u001b[0;34m)\u001b[0m\u001b[0;34m\u001b[0m\u001b[0m\n\u001b[0m\u001b[1;32m    550\u001b[0m \u001b[0;34m\u001b[0m\u001b[0m\n\u001b[1;32m    551\u001b[0m     \u001b[0;32mdef\u001b[0m \u001b[0mget\u001b[0m\u001b[0;34m(\u001b[0m\u001b[0mself\u001b[0m\u001b[0;34m)\u001b[0m\u001b[0;34m:\u001b[0m\u001b[0;34m\u001b[0m\u001b[0m\n",
            "\u001b[0;32m~/anaconda3_501/lib/python3.6/site-packages/sklearn/externals/joblib/parallel.py\u001b[0m in \u001b[0;36m__call__\u001b[0;34m(self)\u001b[0m\n\u001b[1;32m    223\u001b[0m         \u001b[0;32mwith\u001b[0m \u001b[0mparallel_backend\u001b[0m\u001b[0;34m(\u001b[0m\u001b[0mself\u001b[0m\u001b[0;34m.\u001b[0m\u001b[0m_backend\u001b[0m\u001b[0;34m,\u001b[0m \u001b[0mn_jobs\u001b[0m\u001b[0;34m=\u001b[0m\u001b[0mself\u001b[0m\u001b[0;34m.\u001b[0m\u001b[0m_n_jobs\u001b[0m\u001b[0;34m)\u001b[0m\u001b[0;34m:\u001b[0m\u001b[0;34m\u001b[0m\u001b[0m\n\u001b[1;32m    224\u001b[0m             return [func(*args, **kwargs)\n\u001b[0;32m--> 225\u001b[0;31m                     for func, args, kwargs in self.items]\n\u001b[0m\u001b[1;32m    226\u001b[0m \u001b[0;34m\u001b[0m\u001b[0m\n\u001b[1;32m    227\u001b[0m     \u001b[0;32mdef\u001b[0m \u001b[0m__len__\u001b[0m\u001b[0;34m(\u001b[0m\u001b[0mself\u001b[0m\u001b[0;34m)\u001b[0m\u001b[0;34m:\u001b[0m\u001b[0;34m\u001b[0m\u001b[0m\n",
            "\u001b[0;32m~/anaconda3_501/lib/python3.6/site-packages/sklearn/externals/joblib/parallel.py\u001b[0m in \u001b[0;36m<listcomp>\u001b[0;34m(.0)\u001b[0m\n\u001b[1;32m    223\u001b[0m         \u001b[0;32mwith\u001b[0m \u001b[0mparallel_backend\u001b[0m\u001b[0;34m(\u001b[0m\u001b[0mself\u001b[0m\u001b[0;34m.\u001b[0m\u001b[0m_backend\u001b[0m\u001b[0;34m,\u001b[0m \u001b[0mn_jobs\u001b[0m\u001b[0;34m=\u001b[0m\u001b[0mself\u001b[0m\u001b[0;34m.\u001b[0m\u001b[0m_n_jobs\u001b[0m\u001b[0;34m)\u001b[0m\u001b[0;34m:\u001b[0m\u001b[0;34m\u001b[0m\u001b[0m\n\u001b[1;32m    224\u001b[0m             return [func(*args, **kwargs)\n\u001b[0;32m--> 225\u001b[0;31m                     for func, args, kwargs in self.items]\n\u001b[0m\u001b[1;32m    226\u001b[0m \u001b[0;34m\u001b[0m\u001b[0m\n\u001b[1;32m    227\u001b[0m     \u001b[0;32mdef\u001b[0m \u001b[0m__len__\u001b[0m\u001b[0;34m(\u001b[0m\u001b[0mself\u001b[0m\u001b[0;34m)\u001b[0m\u001b[0;34m:\u001b[0m\u001b[0;34m\u001b[0m\u001b[0m\n",
            "\u001b[0;32m~/anaconda3_501/lib/python3.6/site-packages/sklearn/model_selection/_validation.py\u001b[0m in \u001b[0;36m_fit_and_score\u001b[0;34m(estimator, X, y, scorer, train, test, verbose, parameters, fit_params, return_train_score, return_parameters, return_n_test_samples, return_times, return_estimator, error_score)\u001b[0m\n\u001b[1;32m    512\u001b[0m     \u001b[0mtrain_scores\u001b[0m \u001b[0;34m=\u001b[0m \u001b[0;34m{\u001b[0m\u001b[0;34m}\u001b[0m\u001b[0;34m\u001b[0m\u001b[0m\n\u001b[1;32m    513\u001b[0m     \u001b[0;32mif\u001b[0m \u001b[0mparameters\u001b[0m \u001b[0;32mis\u001b[0m \u001b[0;32mnot\u001b[0m \u001b[0;32mNone\u001b[0m\u001b[0;34m:\u001b[0m\u001b[0;34m\u001b[0m\u001b[0m\n\u001b[0;32m--> 514\u001b[0;31m         \u001b[0mestimator\u001b[0m\u001b[0;34m.\u001b[0m\u001b[0mset_params\u001b[0m\u001b[0;34m(\u001b[0m\u001b[0;34m**\u001b[0m\u001b[0mparameters\u001b[0m\u001b[0;34m)\u001b[0m\u001b[0;34m\u001b[0m\u001b[0m\n\u001b[0m\u001b[1;32m    515\u001b[0m \u001b[0;34m\u001b[0m\u001b[0m\n\u001b[1;32m    516\u001b[0m     \u001b[0mstart_time\u001b[0m \u001b[0;34m=\u001b[0m \u001b[0mtime\u001b[0m\u001b[0;34m.\u001b[0m\u001b[0mtime\u001b[0m\u001b[0;34m(\u001b[0m\u001b[0;34m)\u001b[0m\u001b[0;34m\u001b[0m\u001b[0m\n",
            "\u001b[0;32m~/anaconda3_501/lib/python3.6/site-packages/sklearn/pipeline.py\u001b[0m in \u001b[0;36mset_params\u001b[0;34m(self, **kwargs)\u001b[0m\n\u001b[1;32m    145\u001b[0m         \u001b[0mself\u001b[0m\u001b[0;34m\u001b[0m\u001b[0m\n\u001b[1;32m    146\u001b[0m         \"\"\"\n\u001b[0;32m--> 147\u001b[0;31m         \u001b[0mself\u001b[0m\u001b[0;34m.\u001b[0m\u001b[0m_set_params\u001b[0m\u001b[0;34m(\u001b[0m\u001b[0;34m'steps'\u001b[0m\u001b[0;34m,\u001b[0m \u001b[0;34m**\u001b[0m\u001b[0mkwargs\u001b[0m\u001b[0;34m)\u001b[0m\u001b[0;34m\u001b[0m\u001b[0m\n\u001b[0m\u001b[1;32m    148\u001b[0m         \u001b[0;32mreturn\u001b[0m \u001b[0mself\u001b[0m\u001b[0;34m\u001b[0m\u001b[0m\n\u001b[1;32m    149\u001b[0m \u001b[0;34m\u001b[0m\u001b[0m\n",
            "\u001b[0;32m~/anaconda3_501/lib/python3.6/site-packages/sklearn/utils/metaestimators.py\u001b[0m in \u001b[0;36m_set_params\u001b[0;34m(self, attr, **params)\u001b[0m\n\u001b[1;32m     50\u001b[0m                 \u001b[0mself\u001b[0m\u001b[0;34m.\u001b[0m\u001b[0m_replace_estimator\u001b[0m\u001b[0;34m(\u001b[0m\u001b[0mattr\u001b[0m\u001b[0;34m,\u001b[0m \u001b[0mname\u001b[0m\u001b[0;34m,\u001b[0m \u001b[0mparams\u001b[0m\u001b[0;34m.\u001b[0m\u001b[0mpop\u001b[0m\u001b[0;34m(\u001b[0m\u001b[0mname\u001b[0m\u001b[0;34m)\u001b[0m\u001b[0;34m)\u001b[0m\u001b[0;34m\u001b[0m\u001b[0m\n\u001b[1;32m     51\u001b[0m         \u001b[0;31m# 3. Step parameters and other initialisation arguments\u001b[0m\u001b[0;34m\u001b[0m\u001b[0;34m\u001b[0m\u001b[0m\n\u001b[0;32m---> 52\u001b[0;31m         \u001b[0msuper\u001b[0m\u001b[0;34m(\u001b[0m\u001b[0m_BaseComposition\u001b[0m\u001b[0;34m,\u001b[0m \u001b[0mself\u001b[0m\u001b[0;34m)\u001b[0m\u001b[0;34m.\u001b[0m\u001b[0mset_params\u001b[0m\u001b[0;34m(\u001b[0m\u001b[0;34m**\u001b[0m\u001b[0mparams\u001b[0m\u001b[0;34m)\u001b[0m\u001b[0;34m\u001b[0m\u001b[0m\n\u001b[0m\u001b[1;32m     53\u001b[0m         \u001b[0;32mreturn\u001b[0m \u001b[0mself\u001b[0m\u001b[0;34m\u001b[0m\u001b[0m\n\u001b[1;32m     54\u001b[0m \u001b[0;34m\u001b[0m\u001b[0m\n",
            "\u001b[0;32m~/anaconda3_501/lib/python3.6/site-packages/sklearn/base.py\u001b[0m in \u001b[0;36mset_params\u001b[0;34m(self, **params)\u001b[0m\n\u001b[1;32m    213\u001b[0m                                  \u001b[0;34m'Check the list of available parameters '\u001b[0m\u001b[0;34m\u001b[0m\u001b[0m\n\u001b[1;32m    214\u001b[0m                                  \u001b[0;34m'with `estimator.get_params().keys()`.'\u001b[0m \u001b[0;34m%\u001b[0m\u001b[0;34m\u001b[0m\u001b[0m\n\u001b[0;32m--> 215\u001b[0;31m                                  (key, self))\n\u001b[0m\u001b[1;32m    216\u001b[0m \u001b[0;34m\u001b[0m\u001b[0m\n\u001b[1;32m    217\u001b[0m             \u001b[0;32mif\u001b[0m \u001b[0mdelim\u001b[0m\u001b[0;34m:\u001b[0m\u001b[0;34m\u001b[0m\u001b[0m\n",
            "\u001b[0;31mValueError\u001b[0m: Invalid parameter selectpercentile_percentile for estimator Pipeline(memory=None,\n     steps=[('selectpercentile', SelectPercentile(percentile=25,\n         score_func=<function mutual_info_classif at 0x7f12e5eeed90>)), ('logisticregression', LogisticRegression(C=1.0, class_weight=None, dual=False, fit_intercept=True,\n          intercept_scaling=1, max_iter=100, multi_class='warn',\n          n_jobs=None, penalty='l2', random_state=None, solver='warn',\n          tol=0.0001, verbose=0, warm_start=False))]). Check the list of available parameters with `estimator.get_params().keys()`."
          ]
        }
      ]
    },
    {
      "cell_type": "markdown",
      "metadata": {
        "id": "47kCmyHXQ2fQ"
      },
      "source": [
        "##### Feature construction with Kernels\n",
        "we 'll make a simple classification problem that determines whether or not a point is inside or outside of a circle"
      ]
    },
    {
      "cell_type": "code",
      "metadata": {
        "trusted": true,
        "id": "CIuCZhw0Q2fQ",
        "outputId": "de16453c-9382-4891-de4e-1a05efed3ee7"
      },
      "source": [
        "xs, ys = np.mgrid[-2:2:.2, -2:2:.2]\n",
        "tgt = (xs**2 + ys**2 > 1).flatten()\n",
        "data = np.c_[xs.flat, ys.flat]\n",
        "fig, ax = plt.subplots(figsize=(4,3))\n",
        "ax.scatter(xs, ys, c=np.where(tgt, 'r','b'),marker='.')\n",
        "ax.set_aspect('equal')\n",
        "\n",
        "circ = plt.Circle((0,0), 1, color='k', fill=False)\n",
        "ax.add_patch(circ)"
      ],
      "execution_count": null,
      "outputs": [
        {
          "output_type": "execute_result",
          "data": {
            "text/plain": [
              "<matplotlib.patches.Circle at 0x7f12e570e470>"
            ]
          },
          "metadata": {
            "tags": []
          },
          "execution_count": 78
        },
        {
          "output_type": "display_data",
          "data": {
            "image/png": "[encoded data removed]",
            "text/plain": [
              "<Figure size 288x216 with 1 Axes>"
            ]
          },
          "metadata": {
            "tags": [],
            "needs_background": "light"
          }
        }
      ]
    },
    {
      "cell_type": "markdown",
      "metadata": {
        "id": "tfqKYh0rQ2fS"
      },
      "source": [
        "if we look at the performance of 2 linear methods, SVC and logistic regression"
      ]
    },
    {
      "cell_type": "code",
      "metadata": {
        "trusted": true,
        "id": "Z-x3u9DZQ2fT",
        "outputId": "e2fd3719-80b1-4c1a-a2e4-ffc43b91c4ea"
      },
      "source": [
        "shootout_linear = [svm.SVC(kernel='linear'), linear_model.LogisticRegression()]\n",
        "fig, axes = plt.subplots(1,2, figsize=(4,2), sharey=True)\n",
        "for mod, ax in zip(shootout_linear, axes):\n",
        "    plot_boundary(ax, data, tgt, mod, [0,1])\n",
        "    ax.set_title(get_model_name(mod))\n",
        "plt.tight_layout()"
      ],
      "execution_count": null,
      "outputs": [
        {
          "output_type": "display_data",
          "data": {
            "image/png": "[encoded data removed]",
            "text/plain": [
              "<Figure size 288x144 with 2 Axes>"
            ]
          },
          "metadata": {
            "tags": [],
            "needs_background": "light"
          }
        }
      ]
    },
    {
      "cell_type": "markdown",
      "metadata": {
        "id": "qxE_kM_yQ2fV"
      },
      "source": [
        "both of them always predict blue means - everything is labled as being in the circle. Let look at  non linear learning methods KNN and decision trees to see if they do it better"
      ]
    },
    {
      "cell_type": "code",
      "metadata": {
        "trusted": true,
        "id": "KDwnOTwzQ2fV",
        "outputId": "7dbd9d58-4a98-47c4-aacd-b4225f5c406e"
      },
      "source": [
        "knc_p, dtc_p = [1,20],[1,3,5,10]\n",
        "KNC = neighbors.KNeighborsClassifier\n",
        "DTC = tree.DecisionTreeClassifier\n",
        "shootout_nonlin = ([(KNC(n_neighbors=p),p) for p in knc_p] + [(DTC(max_depth=p), p ) for p in dtc_p])\n",
        "\n",
        "fig, axes = plt.subplots(2,3, figsize=(9,6), sharex=True, sharey=True)\n",
        "for (mod, param), ax in zip(shootout_nonlin, axes.flat):\n",
        "    plot_boundary(ax, data, tgt, mod, [0,1])\n",
        "    ax.set_title(get_model_name(mod) + \"({})\".format(param))\n",
        "plt.tight_layout()"
      ],
      "execution_count": null,
      "outputs": [
        {
          "output_type": "display_data",
          "data": {
            "image/png": "[encoded data removed]",
            "text/plain": [
              "<Figure size 648x432 with 6 Axes>"
            ]
          },
          "metadata": {
            "tags": [],
            "needs_background": "light"
          }
        }
      ]
    },
    {
      "cell_type": "markdown",
      "metadata": {
        "id": "TmdMuuXCQ2fX"
      },
      "source": [
        "our non-linear classifier do it much better"
      ]
    },
    {
      "cell_type": "markdown",
      "metadata": {
        "id": "BIrsgji9Q2fY"
      },
      "source": [
        "Manual Kernel Methods: the following code demonstrate what a kernel does and how it help to construct good features"
      ]
    },
    {
      "cell_type": "code",
      "metadata": {
        "trusted": true,
        "id": "Rn7zA_kTQ2fZ",
        "outputId": "ca2f2657-ef32-4b8b-a803-17419aa6e868"
      },
      "source": [
        "k_data = metrics.pairwise.polynomial_kernel(data, data, degree=2)\n",
        "print('first example:', data[0])\n",
        "print('features in original form:', data[0].shape)\n",
        "print('features with kernel form:', k_data[0].shape)\n",
        "print('example in both:', len(data), len(k_data))"
      ],
      "execution_count": null,
      "outputs": [
        {
          "output_type": "stream",
          "text": [
            "first example: [-2. -2.]\n",
            "features in original form: (2,)\n",
            "features with kernel form: (400,)\n",
            "example in both: 400 400\n"
          ],
          "name": "stdout"
        }
      ]
    },
    {
      "cell_type": "code",
      "metadata": {
        "trusted": true,
        "id": "JeQcj7GEQ2fb",
        "outputId": "889379dd-8a2a-4ebe-ea41-6564b3ec3166"
      },
      "source": [
        "fig, ax = plt.subplots(figsize=(4,3))\n",
        "preds = (linear_model.LogisticRegression().fit(k_data,tgt).predict(k_data))\n",
        "ax.scatter(xs, ys, c=np.where(preds, 'r', 'b'), marker='.')\n",
        "ax.set_aspect('equal')"
      ],
      "execution_count": null,
      "outputs": [
        {
          "output_type": "display_data",
          "data": {
            "image/png": "[encoded data removed]",
            "text/plain": [
              "<Figure size 288x216 with 1 Axes>"
            ]
          },
          "metadata": {
            "tags": [],
            "needs_background": "light"
          }
        }
      ]
    },
    {
      "cell_type": "markdown",
      "metadata": {
        "id": "Ze1dlYwsQ2fd"
      },
      "source": [
        "with manual kernel applied, we seems to be getting perfect prediction"
      ]
    },
    {
      "cell_type": "code",
      "metadata": {
        "trusted": true,
        "id": "j1UYOMKMQ2fe"
      },
      "source": [
        "from sklearn.base import TransformerMixin\n",
        "class PolyKernel(TransformerMixin):\n",
        "    def __init__(self,degree):\n",
        "        self.degree = degree\n",
        "    def transform(self, ftrs):\n",
        "        pk = metrics.pairwise.pairwise_kernels\n",
        "        return pk(ftrs, self.ftrs, metric = 'poly', degree = self.degree)\n",
        "    def fit(self, ftrs, tgt = None):\n",
        "        self.ftrs = ftrs\n",
        "        return self\n"
      ],
      "execution_count": null,
      "outputs": []
    },
    {
      "cell_type": "code",
      "metadata": {
        "trusted": true,
        "id": "4pdgvkp9Q2fh",
        "outputId": "ae5b5540-9dcc-48f1-d869-2aa30ea196f6"
      },
      "source": [
        "from sklearn import kernel_approximation\n",
        "kn = kernel_approximation.Nystroem(kernel='polynomial', degree=2, n_components=6)\n",
        "LMLR = linear_model.LogisticRegression()\n",
        "k_logreg1 = pipeline.make_pipeline(kn, LMLR)\n",
        "k_logreg2 = pipeline.make_pipeline(PolyKernel(2), LMLR)\n",
        "shootout_fancy = [(k_logreg1, 'Nystroem'),(k_logreg2, 'PolyKernel')]\n",
        "fig, axes = plt.subplots(1,2,figsize=(6,3), sharey=True)\n",
        "\n",
        "for (mod, kernel_name), ax in zip(shootout_fancy, axes):\n",
        "    plot_boundary(ax, data, tgt, mod, [0,1] )\n",
        "    ax.set_title(get_model_name(mod)+\"({})\".format(kernel_name))\n",
        "    ax.set_aspect('equal')\n",
        "plt.tight_layout()"
      ],
      "execution_count": null,
      "outputs": [
        {
          "output_type": "display_data",
          "data": {
            "image/png": "[encoded data removed]",
            "text/plain": [
              "<Figure size 432x216 with 2 Axes>"
            ]
          },
          "metadata": {
            "tags": [],
            "needs_background": "light"
          }
        }
      ]
    },
    {
      "cell_type": "markdown",
      "metadata": {
        "id": "b97du9LgQ2fj"
      },
      "source": [
        "From manual to automated methods"
      ]
    },
    {
      "cell_type": "code",
      "metadata": {
        "trusted": true,
        "id": "j8w9B5MUQ2fk",
        "outputId": "40528c52-c1f7-4a5d-ffdb-57d10626895f"
      },
      "source": [
        "k_logreg = pipeline.make_pipeline(PolyKernel(2), linear_model.LogisticRegression())\n",
        "shootout_fancy = [svm.SVC(kernel='poly', degree=2), k_logreg]\n",
        "fig, axes = plt.subplots(1,2,figsize=(6,3), sharey=True)\n",
        "for mod, ax in zip(shootout_fancy, axes):\n",
        "    plot_boundary(ax, data, tgt, mod, [0,1])\n",
        "    ax.set_title(get_model_name(mod))\n",
        "plt.tight_layout()"
      ],
      "execution_count": null,
      "outputs": [
        {
          "output_type": "display_data",
          "data": {
            "image/png": "[encoded data removed]",
            "text/plain": [
              "<Figure size 432x216 with 2 Axes>"
            ]
          },
          "metadata": {
            "tags": [],
            "needs_background": "light"
          }
        }
      ]
    },
    {
      "cell_type": "markdown",
      "metadata": {
        "id": "aOdWSWoSQ2fo"
      },
      "source": [
        "Visualizing SVM Kernel Differences"
      ]
    },
    {
      "cell_type": "code",
      "metadata": {
        "trusted": true,
        "id": "KHZWxOHcQ2fo",
        "outputId": "eb65c5cd-bf6f-4f5b-8e9a-259804d564a9"
      },
      "source": [
        "sv_classifiers = {\"LinearSVC\"    : svm.LinearSVC(),\n",
        "                   \"SVC(linear)\" : svm.SVC(kernel='linear'),\n",
        "                   \"SVC(poly=1)\" : svm.SVC(kernel='poly', degree=1),\n",
        "                   \"SVC(poly=2)\" : svm.SVC(kernel='poly', degree=2),\n",
        "                   \"SVC(poly=3)\" : svm.SVC(kernel='poly', degree=3),\n",
        "                   \"SVC(rbf,.5)\" : svm.SVC(kernel='rbf',  gamma=0.5),\n",
        "                   \"SVC(rbf,1)\"  : svm.SVC(kernel='rbf',  gamma=1.0),\n",
        "                   \"SVC(rbf,2)\"  : svm.SVC(kernel='rbf',  gamma=2.0),\n",
        "                 }\n",
        "fig, axes = plt.subplots(4,2,figsize=(8,8), sharex=True, sharey=True)\n",
        "for ax , (name,mod) in zip(axes.flat, sv_classifiers.items()):\n",
        "    plot_boundary(ax, iris.data, iris.target, mod, [0,1])\n",
        "    ax.set_title(name)\n",
        "plt.tight_layout()    "
      ],
      "execution_count": null,
      "outputs": [
        {
          "output_type": "display_data",
          "data": {
            "image/png": "[encoded data removed]",
            "text/plain": [
              "<Figure size 576x576 with 8 Axes>"
            ]
          },
          "metadata": {
            "tags": [],
            "needs_background": "light"
          }
        }
      ]
    },
    {
      "cell_type": "markdown",
      "metadata": {
        "id": "vYYaN7uvQ2fr"
      },
      "source": [
        "SVMs have lots of options. some advices when you want to use them:\n",
        "1. Scale the data\n",
        "2. USe an rbf kernel\n",
        "3. Pick kernel parameters using cross validation\n",
        "for rbf kernel, we need to select gamma, and C. \n",
        "Also some advices from ML community:\n",
        "1. Use a linear kernel when the number of features is larger than number of observarions\n",
        "2. USe an RBF kernel when number of observations is larger than number of features\n",
        "3. If there are many observations, say more than 50k, consider using a linear kernel for speed"
      ]
    },
    {
      "cell_type": "code",
      "metadata": {
        "trusted": true,
        "id": "XmXWtNBuQ2fr",
        "outputId": "e6c9d1dd-3e2f-4e32-92fd-87656d61d862"
      },
      "source": [
        "digits = datasets.load_digits()\n",
        "param_grid = {\"gamma\": np.logspace(-10,1,11, base=2), \"C\": [.5,1.0,2.0]}\n",
        "svc = svm.SVC(kernel='rbf')\n",
        "grid_model = skms.GridSearchCV(svc, param_grid = param_grid, cv=10, iid=False)\n",
        "grid_model.fit(digits.data, digits.target)\n",
        "grid_model.best_params_"
      ],
      "execution_count": null,
      "outputs": [
        {
          "output_type": "execute_result",
          "data": {
            "text/plain": [
              "{'C': 2.0, 'gamma': 0.0009765625}"
            ]
          },
          "metadata": {
            "tags": []
          },
          "execution_count": 88
        }
      ]
    },
    {
      "cell_type": "code",
      "metadata": {
        "trusted": true,
        "id": "FscyuLW7Q2fv",
        "outputId": "c4aef7a1-f0cb-42df-99f7-48b2951e7442"
      },
      "source": [
        "my_gamma = grid_model.best_params_['gamma']\n",
        "my_svc = svm.SVC(kernel='rbf', **grid_model.best_params_)\n",
        "scores = skms.cross_val_score(my_svc,digits.data, digits.target, cv=10, scoring='f1_macro')\n",
        "print(scores)\n",
        "print(\"{:5.3f}\".format(scores.mean()))"
      ],
      "execution_count": null,
      "outputs": [
        {
          "output_type": "stream",
          "text": [
            "[0.9672 1.     0.9493 0.9944 0.9829 0.9887 0.9944 0.9944 0.9766 0.9658]\n",
            "0.981\n"
          ],
          "name": "stdout"
        }
      ]
    },
    {
      "cell_type": "markdown",
      "metadata": {
        "id": "67yHEZRgQ2fx"
      },
      "source": [
        "#### PCA"
      ]
    },
    {
      "cell_type": "code",
      "metadata": {
        "trusted": true,
        "id": "cgIA_IuFQ2fx"
      },
      "source": [
        "data = np.array([[1,2,4,5],[2.5,.75,5.25,3.5]]).T\n",
        "mean = data.mean(axis=0)\n",
        "centered_data = data - mean"
      ],
      "execution_count": null,
      "outputs": []
    },
    {
      "cell_type": "code",
      "metadata": {
        "trusted": true,
        "id": "RQAtvkioQ2f0",
        "outputId": "20df88bd-7a93-46cf-e777-c42f1b5f39f9"
      },
      "source": [
        "fig, ax = plt.subplots(figsize=(3,3))\n",
        "# original data in red, mean is larger dot at (3,3)\n",
        "ax.plot(*data.T,'r.')\n",
        "ax.plot(*mean,'ro')\n",
        "\n",
        "#centered data in blue, mean at (0,0)\n",
        "ax.plot(*centered_data.T, 'b.')\n",
        "ax.plot(*centered_data.mean(axis=0), 'bo')\n",
        "\n",
        "ax.set_aspect('equal')\n",
        "high_school_style(ax)"
      ],
      "execution_count": null,
      "outputs": [
        {
          "output_type": "error",
          "ename": "TypeError",
          "evalue": "set_position() takes 2 positional arguments but 3 were given",
          "traceback": [
            "\u001b[0;31m---------------------------------------------------------------------------\u001b[0m",
            "\u001b[0;31mTypeError\u001b[0m                                 Traceback (most recent call last)",
            "\u001b[0;32m<ipython-input-93-fce575019e4c>\u001b[0m in \u001b[0;36m<module>\u001b[0;34m\u001b[0m\n\u001b[1;32m      9\u001b[0m \u001b[0;34m\u001b[0m\u001b[0m\n\u001b[1;32m     10\u001b[0m \u001b[0max\u001b[0m\u001b[0;34m.\u001b[0m\u001b[0mset_aspect\u001b[0m\u001b[0;34m(\u001b[0m\u001b[0;34m'equal'\u001b[0m\u001b[0;34m)\u001b[0m\u001b[0;34m\u001b[0m\u001b[0m\n\u001b[0;32m---> 11\u001b[0;31m \u001b[0mhigh_school_style\u001b[0m\u001b[0;34m(\u001b[0m\u001b[0max\u001b[0m\u001b[0;34m)\u001b[0m\u001b[0;34m\u001b[0m\u001b[0m\n\u001b[0m",
            "\u001b[0;32m~/library/tuanlam.py\u001b[0m in \u001b[0;36mhigh_school_style\u001b[0;34m(ax)\u001b[0m\n\u001b[1;32m    103\u001b[0m \u001b[0;32mdef\u001b[0m \u001b[0mhigh_school_style\u001b[0m\u001b[0;34m(\u001b[0m\u001b[0max\u001b[0m\u001b[0;34m)\u001b[0m\u001b[0;34m:\u001b[0m\u001b[0;34m\u001b[0m\u001b[0m\n\u001b[1;32m    104\u001b[0m     \u001b[0;34m'helper to define an axis to look like a typical school plot'\u001b[0m\u001b[0;34m\u001b[0m\u001b[0m\n\u001b[0;32m--> 105\u001b[0;31m     \u001b[0max\u001b[0m\u001b[0;34m.\u001b[0m\u001b[0mspines\u001b[0m\u001b[0;34m[\u001b[0m\u001b[0;34m'left'\u001b[0m\u001b[0;34m]\u001b[0m\u001b[0;34m.\u001b[0m\u001b[0mset_position\u001b[0m\u001b[0;34m(\u001b[0m\u001b[0;34m(\u001b[0m\u001b[0;34m'data'\u001b[0m\u001b[0;34m)\u001b[0m\u001b[0;34m,\u001b[0m\u001b[0;36m0.0\u001b[0m\u001b[0;34m)\u001b[0m\u001b[0;34m\u001b[0m\u001b[0m\n\u001b[0m\u001b[1;32m    106\u001b[0m     \u001b[0max\u001b[0m\u001b[0;34m.\u001b[0m\u001b[0mspines\u001b[0m\u001b[0;34m[\u001b[0m\u001b[0;34m'bottom'\u001b[0m\u001b[0;34m]\u001b[0m\u001b[0;34m.\u001b[0m\u001b[0mset_position\u001b[0m\u001b[0;34m(\u001b[0m\u001b[0;34m(\u001b[0m\u001b[0;34m'data'\u001b[0m\u001b[0;34m)\u001b[0m\u001b[0;34m,\u001b[0m\u001b[0;36m0.0\u001b[0m\u001b[0;34m)\u001b[0m\u001b[0;34m\u001b[0m\u001b[0m\n\u001b[1;32m    107\u001b[0m     \u001b[0max\u001b[0m\u001b[0;34m.\u001b[0m\u001b[0mspines\u001b[0m\u001b[0;34m[\u001b[0m\u001b[0;34m'right'\u001b[0m\u001b[0;34m]\u001b[0m\u001b[0;34m.\u001b[0m\u001b[0mset_visible\u001b[0m\u001b[0;34m(\u001b[0m\u001b[0;32mFalse\u001b[0m\u001b[0;34m)\u001b[0m\u001b[0;34m\u001b[0m\u001b[0m\n",
            "\u001b[0;31mTypeError\u001b[0m: set_position() takes 2 positional arguments but 3 were given"
          ]
        },
        {
          "output_type": "display_data",
          "data": {
            "image/png": "[encoded data removed]",
            "text/plain": [
              "<Figure size 216x216 with 1 Axes>"
            ]
          },
          "metadata": {
            "tags": [],
            "needs_background": "light"
          }
        }
      ]
    },
    {
      "cell_type": "code",
      "metadata": {
        "trusted": true,
        "id": "_GBqlV9HQ2f2",
        "outputId": "dd2ea4db-6ed6-45c4-a16f-85f2432ec899"
      },
      "source": [
        "def plot_lines_and_projections(axes,lines,points,xs):\n",
        "        data_xs, data_ys = points[:,0], points[:,1]\n",
        "        mean = np.mean(points,axis=0,keepdims = True)\n",
        "        centered_data = points - mean\n",
        "        for (m,b) , ax in zip(lines,axes):\n",
        "            mb_line = m*xs + b\n",
        "            v_line = np.array([[1,1/m if m else 0]])\n",
        "            ax.plot(data_xs,data_ys,'r.')\n",
        "            ax.plot(xs,mb_line,'y')\n",
        "            ax.plot(*mean.T, 'ko')\n",
        "            y_lengths = centered_data.dot(v_line.T)/v_line.dot(v_line.T)\n",
        "            projs = y_lengths.dot(v_line)\n",
        "            final = projs + mean\n",
        "            ax.plot(*final.T,'b.')\n",
        "            from matplotlib import collections as mc\n",
        "            proj_lines = mc.LineCollection(zip(points,final))\n",
        "            ax.add_collection(proj_lines)\n",
        "            hypots = zip(points,np.broadcast_to(mean,points.shape))\n",
        "            mean_lines = mc.LineCollection(hypots,linestyles = 'dashed')\n",
        "            ax.add_collection(mean_lines)\n",
        "fig, axes = plt.subplots(1,3, figsize=(9,3), sharex=True, sharey=True)\n",
        "xp = np.linspace(0,6,30)\n",
        "lines = [(1,0),(0,3),(-1,6)]\n",
        "data = np.array([[1,2,4,5],[2.5,.75,5.25,3.5]]).T\n",
        "plot_lines_and_projections(axes, lines, data, xs)"
      ],
      "execution_count": null,
      "outputs": [
        {
          "output_type": "display_data",
          "data": {
            "image/png": "[encoded data removed]",
            "text/plain": [
              "<Figure size 648x216 with 3 Axes>"
            ]
          },
          "metadata": {
            "tags": [],
            "needs_background": "light"
          }
        }
      ]
    },
    {
      "cell_type": "markdown",
      "metadata": {
        "id": "WxdAjTrSQ2f4"
      },
      "source": [
        "##### A first PCA"
      ]
    },
    {
      "cell_type": "code",
      "metadata": {
        "trusted": true,
        "id": "phKmWkGBQ2f5",
        "outputId": "42e81897-136b-4049-cff3-36bc399cf2b3"
      },
      "source": [
        "# draw data\n",
        "ax = plt.gca()\n",
        "ax.scatter(data[:,0], data[:,1], c='b', marker='.')\n"
      ],
      "execution_count": null,
      "outputs": [
        {
          "output_type": "execute_result",
          "data": {
            "text/plain": [
              "<matplotlib.collections.PathCollection at 0x7f12e3f20dd8>"
            ]
          },
          "metadata": {
            "tags": []
          },
          "execution_count": 103
        },
        {
          "output_type": "display_data",
          "data": {
            "image/png": "[encoded data removed]",
            "text/plain": [
              "<Figure size 432x288 with 1 Axes>"
            ]
          },
          "metadata": {
            "tags": [],
            "needs_background": "light"
          }
        }
      ]
    },
    {
      "cell_type": "code",
      "metadata": {
        "trusted": true,
        "id": "GjqausBIQ2f7",
        "outputId": "301bc5a9-bc9f-4eab-aa52-c03316fa9689"
      },
      "source": [
        "# draw mean\n",
        "mean = np.mean(data, axis = 0, keepdims = True)\n",
        "centered_data = data - mean\n",
        "ax.scatter(*mean.T, c='k')"
      ],
      "execution_count": null,
      "outputs": [
        {
          "output_type": "execute_result",
          "data": {
            "text/plain": [
              "<matplotlib.collections.PathCollection at 0x7f12e3ac57f0>"
            ]
          },
          "metadata": {
            "tags": []
          },
          "execution_count": 108
        }
      ]
    },
    {
      "cell_type": "code",
      "metadata": {
        "trusted": true,
        "id": "0NDV7PXeQ2f-"
      },
      "source": [
        "# Compute PCA\n",
        "pca = decomposition.PCA()\n",
        "p = pca.fit_transform(centered_data)"
      ],
      "execution_count": null,
      "outputs": []
    },
    {
      "cell_type": "code",
      "metadata": {
        "trusted": true,
        "id": "Z9DhZvB-Q2gA",
        "outputId": "ebe28b83-f722-474b-bb33-e0905c220cd0"
      },
      "source": [
        "# extract usefull bits for drawing\n",
        "directions = pca.components_\n",
        "lengths = pca.explained_variance_\n",
        "print(\"Lengths:\", lengths)\n",
        "var_wgt_prindirs = -np.diag(lengths).dot(directions) # negate to point up/right\n",
        "print (var_wgt_prindirs)\n"
      ],
      "execution_count": null,
      "outputs": [
        {
          "output_type": "stream",
          "text": [
            "Lengths: [5.6067 1.2683]\n",
            "[[ 3.8682  4.0586]\n",
            " [-0.9181  0.875 ]]\n"
          ],
          "name": "stdout"
        }
      ]
    },
    {
      "cell_type": "code",
      "metadata": {
        "trusted": true,
        "id": "NhFR36GmQ2gD",
        "outputId": "da29d8a9-75b9-4605-e46c-6a05742dd9b3"
      },
      "source": [
        "# draw principal axes\n",
        "def sane_quiver(vs, ax=None, colors=None, origin=(0,0)):\n",
        "    vs = np.arange(vs)\n",
        "    assert vs.ndim ==2 and vs.shape[1] ==2 \n",
        "    n = vs.shape[0]\n",
        "    if not ax: ax = plt.gca()\n",
        "    orig_x, orig_y = origin\n",
        "    xs = vs.T[0]\n",
        "    ys = vs.T[1]\n",
        "    props = {\"angles\":'xy',\"scale\":1,\"scale_units\": 'xy' }\n",
        "    ax.quiver(orig_x,orig_y,xs,ys,color=colors,**props)\n",
        "    ax.set_aspect('equal')\n",
        "    _min,_max = min(vs.min(),0)-1, max(0,vs.max())+1\n",
        "    ax.set_xlim(_min,_max)\n",
        "    ax.set_ylim(_min,_max)\n",
        "sane_quiver(var_wgt_prindirs, ax, origin = np.mean(data, axis=0),colors='r')\n",
        "ax.set_xlim(0,10)\n",
        "ax.set_ylim(0,10)\n",
        "ax.set_aspect('equal')"
      ],
      "execution_count": null,
      "outputs": [
        {
          "output_type": "error",
          "ename": "ValueError",
          "evalue": "The truth value of an array with more than one element is ambiguous. Use a.any() or a.all()",
          "traceback": [
            "\u001b[0;31m---------------------------------------------------------------------------\u001b[0m",
            "\u001b[0;31mValueError\u001b[0m                                Traceback (most recent call last)",
            "\u001b[0;32m<ipython-input-122-86d8e225487b>\u001b[0m in \u001b[0;36m<module>\u001b[0;34m\u001b[0m\n\u001b[1;32m     14\u001b[0m     \u001b[0max\u001b[0m\u001b[0;34m.\u001b[0m\u001b[0mset_xlim\u001b[0m\u001b[0;34m(\u001b[0m\u001b[0m_min\u001b[0m\u001b[0;34m,\u001b[0m\u001b[0m_max\u001b[0m\u001b[0;34m)\u001b[0m\u001b[0;34m\u001b[0m\u001b[0m\n\u001b[1;32m     15\u001b[0m     \u001b[0max\u001b[0m\u001b[0;34m.\u001b[0m\u001b[0mset_ylim\u001b[0m\u001b[0;34m(\u001b[0m\u001b[0m_min\u001b[0m\u001b[0;34m,\u001b[0m\u001b[0m_max\u001b[0m\u001b[0;34m)\u001b[0m\u001b[0;34m\u001b[0m\u001b[0m\n\u001b[0;32m---> 16\u001b[0;31m \u001b[0msane_quiver\u001b[0m\u001b[0;34m(\u001b[0m\u001b[0mvar_wgt_prindirs\u001b[0m\u001b[0;34m,\u001b[0m \u001b[0max\u001b[0m\u001b[0;34m,\u001b[0m \u001b[0morigin\u001b[0m \u001b[0;34m=\u001b[0m \u001b[0mnp\u001b[0m\u001b[0;34m.\u001b[0m\u001b[0mmean\u001b[0m\u001b[0;34m(\u001b[0m\u001b[0mdata\u001b[0m\u001b[0;34m,\u001b[0m \u001b[0maxis\u001b[0m\u001b[0;34m=\u001b[0m\u001b[0;36m0\u001b[0m\u001b[0;34m)\u001b[0m\u001b[0;34m,\u001b[0m\u001b[0mcolors\u001b[0m\u001b[0;34m=\u001b[0m\u001b[0;34m'r'\u001b[0m\u001b[0;34m)\u001b[0m\u001b[0;34m\u001b[0m\u001b[0m\n\u001b[0m\u001b[1;32m     17\u001b[0m \u001b[0max\u001b[0m\u001b[0;34m.\u001b[0m\u001b[0mset_xlim\u001b[0m\u001b[0;34m(\u001b[0m\u001b[0;36m0\u001b[0m\u001b[0;34m,\u001b[0m\u001b[0;36m10\u001b[0m\u001b[0;34m)\u001b[0m\u001b[0;34m\u001b[0m\u001b[0m\n\u001b[1;32m     18\u001b[0m \u001b[0max\u001b[0m\u001b[0;34m.\u001b[0m\u001b[0mset_ylim\u001b[0m\u001b[0;34m(\u001b[0m\u001b[0;36m0\u001b[0m\u001b[0;34m,\u001b[0m\u001b[0;36m10\u001b[0m\u001b[0;34m)\u001b[0m\u001b[0;34m\u001b[0m\u001b[0m\n",
            "\u001b[0;32m<ipython-input-122-86d8e225487b>\u001b[0m in \u001b[0;36msane_quiver\u001b[0;34m(vs, ax, colors, origin)\u001b[0m\n\u001b[1;32m      1\u001b[0m \u001b[0;31m# draw principal axes\u001b[0m\u001b[0;34m\u001b[0m\u001b[0;34m\u001b[0m\u001b[0m\n\u001b[1;32m      2\u001b[0m \u001b[0;32mdef\u001b[0m \u001b[0msane_quiver\u001b[0m\u001b[0;34m(\u001b[0m\u001b[0mvs\u001b[0m\u001b[0;34m,\u001b[0m \u001b[0max\u001b[0m\u001b[0;34m=\u001b[0m\u001b[0;32mNone\u001b[0m\u001b[0;34m,\u001b[0m \u001b[0mcolors\u001b[0m\u001b[0;34m=\u001b[0m\u001b[0;32mNone\u001b[0m\u001b[0;34m,\u001b[0m \u001b[0morigin\u001b[0m\u001b[0;34m=\u001b[0m\u001b[0;34m(\u001b[0m\u001b[0;36m0\u001b[0m\u001b[0;34m,\u001b[0m\u001b[0;36m0\u001b[0m\u001b[0;34m)\u001b[0m\u001b[0;34m)\u001b[0m\u001b[0;34m:\u001b[0m\u001b[0;34m\u001b[0m\u001b[0m\n\u001b[0;32m----> 3\u001b[0;31m     \u001b[0mvs\u001b[0m \u001b[0;34m=\u001b[0m \u001b[0mnp\u001b[0m\u001b[0;34m.\u001b[0m\u001b[0marange\u001b[0m\u001b[0;34m(\u001b[0m\u001b[0mvs\u001b[0m\u001b[0;34m)\u001b[0m\u001b[0;34m\u001b[0m\u001b[0m\n\u001b[0m\u001b[1;32m      4\u001b[0m     \u001b[0;32massert\u001b[0m \u001b[0mvs\u001b[0m\u001b[0;34m.\u001b[0m\u001b[0mndim\u001b[0m \u001b[0;34m==\u001b[0m\u001b[0;36m2\u001b[0m \u001b[0;32mand\u001b[0m \u001b[0mvs\u001b[0m\u001b[0;34m.\u001b[0m\u001b[0mshape\u001b[0m\u001b[0;34m[\u001b[0m\u001b[0;36m1\u001b[0m\u001b[0;34m]\u001b[0m \u001b[0;34m==\u001b[0m\u001b[0;36m2\u001b[0m\u001b[0;34m\u001b[0m\u001b[0m\n\u001b[1;32m      5\u001b[0m     \u001b[0mn\u001b[0m \u001b[0;34m=\u001b[0m \u001b[0mvs\u001b[0m\u001b[0;34m.\u001b[0m\u001b[0mshape\u001b[0m\u001b[0;34m[\u001b[0m\u001b[0;36m0\u001b[0m\u001b[0;34m]\u001b[0m\u001b[0;34m\u001b[0m\u001b[0m\n",
            "\u001b[0;31mValueError\u001b[0m: The truth value of an array with more than one element is ambiguous. Use a.any() or a.all()"
          ]
        }
      ]
    },
    {
      "cell_type": "code",
      "metadata": {
        "trusted": true,
        "id": "l9DsOo61Q2gH"
      },
      "source": [
        ""
      ],
      "execution_count": null,
      "outputs": []
    }
  ]
}