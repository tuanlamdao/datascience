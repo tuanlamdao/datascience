{
  "nbformat": 4,
  "nbformat_minor": 0,
  "metadata": {
    "kernelspec": {
      "display_name": "Python 3.6",
      "language": "python",
      "name": "python36"
    },
    "language_info": {
      "codemirror_mode": {
        "name": "ipython",
        "version": 3
      },
      "file_extension": ".py",
      "mimetype": "text/x-python",
      "name": "python",
      "nbconvert_exporter": "python",
      "pygments_lexer": "ipython3",
      "version": "3.6.6"
    },
    "colab": {
      "name": "15 - connection extension directions.ipynb",
      "provenance": [],
      "include_colab_link": true
    }
  },
  "cells": [
    {
      "cell_type": "markdown",
      "metadata": {
        "id": "view-in-github",
        "colab_type": "text"
      },
      "source": [
        "<a href=\"https://colab.research.google.com/github/tuanlamdao/datascience/blob/master/15_connection_extension_directions.ipynb\" target=\"_parent\"><img src=\"https://colab.research.google.com/assets/colab-badge.svg\" alt=\"Open In Colab\"/></a>"
      ]
    },
    {
      "cell_type": "markdown",
      "metadata": {
        "id": "a_IofSqpRLQp"
      },
      "source": [
        "Building linear regression from raw materials"
      ]
    },
    {
      "cell_type": "code",
      "metadata": {
        "id": "5fXx1i7GRLQq"
      },
      "source": [
        "from tuanlam import *"
      ],
      "execution_count": null,
      "outputs": []
    },
    {
      "cell_type": "code",
      "metadata": {
        "id": "lu_VUr_KRLQv",
        "outputId": "3c0b621a-514a-4a18-8c93-cd1a1042d8f0"
      },
      "source": [
        "xs = np.linspace(-5,5)\n",
        "ys = xs**2\n",
        "fig, ax = plt.subplots(figsize=(4,3))\n",
        "ax.plot(xs,ys)"
      ],
      "execution_count": null,
      "outputs": [
        {
          "output_type": "execute_result",
          "data": {
            "text/plain": [
              "[<matplotlib.lines.Line2D at 0x7f4411d50c88>]"
            ]
          },
          "metadata": {
            "tags": []
          },
          "execution_count": 2
        },
        {
          "output_type": "display_data",
          "data": {
            "image/png": "[encoded data removed]",
            "text/plain": [
              "<Figure size 288x216 with 1 Axes>"
            ]
          },
          "metadata": {
            "tags": [],
            "needs_background": "light"
          }
        }
      ]
    },
    {
      "cell_type": "code",
      "metadata": {
        "id": "Yp_BcctWRLQy",
        "outputId": "8773b7b7-cc5c-4c8d-b4b5-8f9ac3111265"
      },
      "source": [
        "fig, ax = plt.subplots(figsize=(4,4))\n",
        "ys = xs**2\n",
        "ax.plot(xs,ys)\n",
        "pt_x, pt_y = 3, 3**2\n",
        "line_xs = pt_x + np.array([-2,2])\n",
        "line_ys = 3**2 + (line_xs - pt_x) * (2 * pt_x)\n",
        "\n",
        "ax.set_xlabel('weight')\n",
        "ax.set_ylabel('cost')\n",
        "ax.plot(pt_x,pt_y,'ro')\n",
        "ax.plot(line_xs,line_ys,'r-')\n"
      ],
      "execution_count": null,
      "outputs": [
        {
          "output_type": "execute_result",
          "data": {
            "text/plain": [
              "[<matplotlib.lines.Line2D at 0x7f44114c0ba8>]"
            ]
          },
          "metadata": {
            "tags": []
          },
          "execution_count": 16
        },
        {
          "output_type": "display_data",
          "data": {
            "image/png": "[encoded data removed]",
            "text/plain": [
              "<Figure size 288x288 with 1 Axes>"
            ]
          },
          "metadata": {
            "tags": [],
            "needs_background": "light"
          }
        }
      ]
    },
    {
      "cell_type": "code",
      "metadata": {
        "id": "5NDWk8aGRLQ1",
        "outputId": "6402c134-2b01-4ef0-b9d2-b24dd36aa74c"
      },
      "source": [
        "weights = np.linspace(-5,5)\n",
        "costs = weights**2\n",
        "fig, ax = plt.subplots(figsize=(4,3))\n",
        "ax.plot(weights, costs, 'b')\n",
        "weight_min = 3\n",
        "for i in range(10):\n",
        "    cost_at_min = weight_min**2\n",
        "    ax.plot(weight_min, cost_at_min, 'ro')\n",
        "    slope_at_min = 2*weight_min\n",
        "    step_size = .25\n",
        "    weight_min = weight_min - step_size * slope_at_min\n",
        "ax.set_xlabel('weight value')\n",
        "ax.set_ylabel('cost')\n",
        "print(\"Approximate location of blue grapht minimum:\", weight_min)"
      ],
      "execution_count": null,
      "outputs": [
        {
          "output_type": "stream",
          "text": [
            "Approximate location of blue grapht minimum: 0.0029296875\n"
          ],
          "name": "stdout"
        },
        {
          "output_type": "display_data",
          "data": {
            "image/png": "[encoded data removed]",
            "text/plain": [
              "<Figure size 288x216 with 1 Axes>"
            ]
          },
          "metadata": {
            "tags": [],
            "needs_background": "light"
          }
        }
      ]
    },
    {
      "cell_type": "code",
      "metadata": {
        "id": "6x-4mMIsRLQ6",
        "outputId": "6770f7f0-93e8-47ef-d385-400e242245ea"
      },
      "source": [
        "linreg_ftrs_p1 = np.c_[np.arange(10), np.ones(10)]\n",
        "true_wgts = m, b = w_1, w_0 = 3,2\n",
        "linreg_tgt = rdot(true_wgts, linreg_ftrs_p1)\n",
        "linreg_table = pd.DataFrame(linreg_ftrs_p1, columns=['ftrs_1', 'ones'])\n",
        "linreg_table['tgt'] = linreg_tgt\n",
        "linreg_table[:3]\n"
      ],
      "execution_count": null,
      "outputs": [
        {
          "output_type": "error",
          "ename": "NameError",
          "evalue": "name 'sef' is not defined",
          "traceback": [
            "\u001b[0;31m---------------------------------------------------------------------------\u001b[0m",
            "\u001b[0;31mNameError\u001b[0m                                 Traceback (most recent call last)",
            "\u001b[0;32m~/anaconda3_501/lib/python3.6/site-packages/IPython/core/formatters.py\u001b[0m in \u001b[0;36m__call__\u001b[0;34m(self, obj)\u001b[0m\n\u001b[1;32m    343\u001b[0m             \u001b[0mmethod\u001b[0m \u001b[0;34m=\u001b[0m \u001b[0mget_real_method\u001b[0m\u001b[0;34m(\u001b[0m\u001b[0mobj\u001b[0m\u001b[0;34m,\u001b[0m \u001b[0mself\u001b[0m\u001b[0;34m.\u001b[0m\u001b[0mprint_method\u001b[0m\u001b[0;34m)\u001b[0m\u001b[0;34m\u001b[0m\u001b[0m\n\u001b[1;32m    344\u001b[0m             \u001b[0;32mif\u001b[0m \u001b[0mmethod\u001b[0m \u001b[0;32mis\u001b[0m \u001b[0;32mnot\u001b[0m \u001b[0;32mNone\u001b[0m\u001b[0;34m:\u001b[0m\u001b[0;34m\u001b[0m\u001b[0m\n\u001b[0;32m--> 345\u001b[0;31m                 \u001b[0;32mreturn\u001b[0m \u001b[0mmethod\u001b[0m\u001b[0;34m(\u001b[0m\u001b[0;34m)\u001b[0m\u001b[0;34m\u001b[0m\u001b[0m\n\u001b[0m\u001b[1;32m    346\u001b[0m             \u001b[0;32mreturn\u001b[0m \u001b[0;32mNone\u001b[0m\u001b[0;34m\u001b[0m\u001b[0m\n\u001b[1;32m    347\u001b[0m         \u001b[0;32melse\u001b[0m\u001b[0;34m:\u001b[0m\u001b[0;34m\u001b[0m\u001b[0m\n",
            "\u001b[0;32m~/library/tuanlam.py\u001b[0m in \u001b[0;36m_repr_latex_\u001b[0;34m(self)\u001b[0m\n\u001b[1;32m     42\u001b[0m \u001b[0;31m#monkey-patch for centering out[] DataFrames\u001b[0m\u001b[0;34m\u001b[0m\u001b[0;34m\u001b[0m\u001b[0m\n\u001b[1;32m     43\u001b[0m \u001b[0;32mdef\u001b[0m \u001b[0m_repr_latex_\u001b[0m\u001b[0;34m(\u001b[0m\u001b[0mself\u001b[0m\u001b[0;34m)\u001b[0m\u001b[0;34m:\u001b[0m\u001b[0;34m\u001b[0m\u001b[0m\n\u001b[0;32m---> 44\u001b[0;31m     \u001b[0;32mreturn\u001b[0m \u001b[0;34m\"{\\centering\\n%s\\n\\medskip}\"\u001b[0m \u001b[0;34m%\u001b[0m \u001b[0msef\u001b[0m\u001b[0;34m.\u001b[0m\u001b[0mto_latex\u001b[0m\u001b[0;34m(\u001b[0m\u001b[0;34m)\u001b[0m\u001b[0;34m\u001b[0m\u001b[0m\n\u001b[0m\u001b[1;32m     45\u001b[0m \u001b[0mpd\u001b[0m\u001b[0;34m.\u001b[0m\u001b[0mDataFrame\u001b[0m\u001b[0;34m.\u001b[0m\u001b[0m_repr_latex_\u001b[0m \u001b[0;34m=\u001b[0m \u001b[0m_repr_latex_\u001b[0m\u001b[0;34m\u001b[0m\u001b[0m\n\u001b[1;32m     46\u001b[0m \u001b[0;31m#Only used once\u001b[0m\u001b[0;34m\u001b[0m\u001b[0;34m\u001b[0m\u001b[0m\n",
            "\u001b[0;31mNameError\u001b[0m: name 'sef' is not defined"
          ]
        },
        {
          "output_type": "execute_result",
          "data": {
            "text/html": [
              "<div>\n",
              "<style scoped>\n",
              "    .dataframe tbody tr th:only-of-type {\n",
              "        vertical-align: middle;\n",
              "    }\n",
              "\n",
              "    .dataframe tbody tr th {\n",
              "        vertical-align: top;\n",
              "    }\n",
              "\n",
              "    .dataframe thead th {\n",
              "        text-align: right;\n",
              "    }\n",
              "</style>\n",
              "<table border=\"1\" class=\"dataframe\">\n",
              "  <thead>\n",
              "    <tr style=\"text-align: right;\">\n",
              "      <th></th>\n",
              "      <th>ftrs_1</th>\n",
              "      <th>ones</th>\n",
              "      <th>tgt</th>\n",
              "    </tr>\n",
              "  </thead>\n",
              "  <tbody>\n",
              "    <tr>\n",
              "      <th>0</th>\n",
              "      <td>0.0000</td>\n",
              "      <td>1.0000</td>\n",
              "      <td>2.0000</td>\n",
              "    </tr>\n",
              "    <tr>\n",
              "      <th>1</th>\n",
              "      <td>1.0000</td>\n",
              "      <td>1.0000</td>\n",
              "      <td>5.0000</td>\n",
              "    </tr>\n",
              "    <tr>\n",
              "      <th>2</th>\n",
              "      <td>2.0000</td>\n",
              "      <td>1.0000</td>\n",
              "      <td>8.0000</td>\n",
              "    </tr>\n",
              "  </tbody>\n",
              "</table>\n",
              "</div>"
            ],
            "text/plain": [
              "                ftrs_1                 ones                  tgt\n",
              "0               0.0000               1.0000               2.0000\n",
              "1               1.0000               1.0000               5.0000\n",
              "2               2.0000               1.0000               8.0000"
            ]
          },
          "metadata": {
            "tags": []
          },
          "execution_count": 19
        }
      ]
    },
    {
      "cell_type": "code",
      "metadata": {
        "id": "rLyrXvD1RLQ8"
      },
      "source": [
        "def linreg_model(weights, ftrs):\n",
        "    return rdot(weights, ftrs)\n",
        "def linreg_loss(predicted, actual):\n",
        "    errors = predicted - actual\n",
        "    return np.dot(errors, errors)\n",
        "def no_penalty(weights):\n",
        "    return 0"
      ],
      "execution_count": null,
      "outputs": []
    },
    {
      "cell_type": "code",
      "metadata": {
        "id": "EFHyRLK0RLQ_"
      },
      "source": [
        "def make_cost(ftrs,tgt, model_func, loss_func, c_tradeoff, complexity_penalty):\n",
        "    def cost(weights):\n",
        "        return (loss_func(model_func(weights, ftrs), tgt) + c_tradeoff * complexity_penalty(weights))\n",
        "    return cost\n"
      ],
      "execution_count": null,
      "outputs": []
    },
    {
      "cell_type": "code",
      "metadata": {
        "id": "yUlwOuZmRLRE",
        "outputId": "3871bdec-60ae-47bd-9b33-d45cbdb68799"
      },
      "source": [
        "from scipy.optimize import fmin as magical_minimum_finder\n",
        "\n",
        "linreg_cost = make_cost(linreg_ftrs_p1, linreg_tgt, linreg_model, linreg_loss,0, no_penalty)\n",
        "learned_wgts = magical_minimum_finder(linreg_cost,[5,5],disp=False)\n",
        "print(\" true weights:\", true_wgts)\n",
        "print(\" learn weights:\", learned_wgts)"
      ],
      "execution_count": null,
      "outputs": [
        {
          "output_type": "stream",
          "text": [
            " true weights: (3, 2)\n",
            " learn weights: [3. 2.]\n"
          ],
          "name": "stdout"
        }
      ]
    },
    {
      "cell_type": "code",
      "metadata": {
        "id": "mVYWmDRHRLRI"
      },
      "source": [
        "def L1_penalty(weights):\n",
        "    return np.abs(weights).sum()\n",
        "def L2_penalty(weights):\n",
        "    return np.dot(weights, weights)\n"
      ],
      "execution_count": null,
      "outputs": []
    },
    {
      "cell_type": "code",
      "metadata": {
        "id": "N_owPe-nRLRL",
        "outputId": "e9e70565-a03c-4f66-f0f6-47e77d63f457"
      },
      "source": [
        "linreg_L1_pen_cost = make_cost(linreg_ftrs_p1, linreg_tgt, linreg_model, linreg_loss, 1, L1_penalty)\n",
        "learned_wgts = magical_minimum_finder(linreg_L1_pen_cost, [5,5], disp = False)\n",
        "print(\"true weights:\", true_wgts)\n",
        "print(\"learned weights:\", learned_wgts)\n"
      ],
      "execution_count": null,
      "outputs": [
        {
          "output_type": "stream",
          "text": [
            "true weights: (3, 2)\n",
            "learned weights: [3.0212 1.8545]\n"
          ],
          "name": "stdout"
        }
      ]
    },
    {
      "cell_type": "code",
      "metadata": {
        "id": "L_sIGmMuRLRO",
        "outputId": "403dd2e7-2448-4bbf-a588-a646dd61a99f"
      },
      "source": [
        "linreg_L2_pen_cost = make_cost(linreg_ftrs_p1, linreg_tgt, linreg_model, linreg_loss, 1, L2_penalty)\n",
        "learned_wgts = magical_minimum_finder(linreg_L2_pen_cost, [5,5], disp = False)\n",
        "print(\"true weights:\", true_wgts)\n",
        "print(\"learned weights:\", learned_wgts)"
      ],
      "execution_count": null,
      "outputs": [
        {
          "output_type": "stream",
          "text": [
            "true weights: (3, 2)\n",
            "learned weights: [3.0508 1.6102]\n"
          ],
          "name": "stdout"
        }
      ]
    },
    {
      "cell_type": "markdown",
      "metadata": {
        "id": "dHs6I12_RLRR"
      },
      "source": [
        "Building logistic regression from raw materials"
      ]
    },
    {
      "cell_type": "code",
      "metadata": {
        "id": "OoEAAm8mRLRR",
        "outputId": "8e8e613d-6912-4dc7-9e4f-bc13552044b2"
      },
      "source": [
        "logreg_ftr = np.random.uniform(5,15,size=(100,))\n",
        "true_wgts = m , b= -2,20\n",
        "line_of_logodds = m*logreg_ftr +b\n",
        "prob_at_x = np.exp(line_of_logodds) / (1+ np.exp(line_of_logodds))\n",
        "logreg_tgt = np.random.binomial(1,prob_at_x,len(logreg_ftr))\n",
        "logreg_ftrs_p1 = np.c_[logreg_ftr, np.ones_like(logreg_ftr)]\n",
        "logreg_table = pd.DataFrame(logreg_ftrs_p1, columns=['ftr_1','ones'])\n",
        "logreg_table['tgt'] = logreg_tgt\n",
        "display(logreg_table.head())\n"
      ],
      "execution_count": null,
      "outputs": [
        {
          "output_type": "error",
          "ename": "NameError",
          "evalue": "name 'sef' is not defined",
          "traceback": [
            "\u001b[0;31m---------------------------------------------------------------------------\u001b[0m",
            "\u001b[0;31mNameError\u001b[0m                                 Traceback (most recent call last)",
            "\u001b[0;32m~/anaconda3_501/lib/python3.6/site-packages/IPython/core/formatters.py\u001b[0m in \u001b[0;36m__call__\u001b[0;34m(self, obj)\u001b[0m\n\u001b[1;32m    343\u001b[0m             \u001b[0mmethod\u001b[0m \u001b[0;34m=\u001b[0m \u001b[0mget_real_method\u001b[0m\u001b[0;34m(\u001b[0m\u001b[0mobj\u001b[0m\u001b[0;34m,\u001b[0m \u001b[0mself\u001b[0m\u001b[0;34m.\u001b[0m\u001b[0mprint_method\u001b[0m\u001b[0;34m)\u001b[0m\u001b[0;34m\u001b[0m\u001b[0m\n\u001b[1;32m    344\u001b[0m             \u001b[0;32mif\u001b[0m \u001b[0mmethod\u001b[0m \u001b[0;32mis\u001b[0m \u001b[0;32mnot\u001b[0m \u001b[0;32mNone\u001b[0m\u001b[0;34m:\u001b[0m\u001b[0;34m\u001b[0m\u001b[0m\n\u001b[0;32m--> 345\u001b[0;31m                 \u001b[0;32mreturn\u001b[0m \u001b[0mmethod\u001b[0m\u001b[0;34m(\u001b[0m\u001b[0;34m)\u001b[0m\u001b[0;34m\u001b[0m\u001b[0m\n\u001b[0m\u001b[1;32m    346\u001b[0m             \u001b[0;32mreturn\u001b[0m \u001b[0;32mNone\u001b[0m\u001b[0;34m\u001b[0m\u001b[0m\n\u001b[1;32m    347\u001b[0m         \u001b[0;32melse\u001b[0m\u001b[0;34m:\u001b[0m\u001b[0;34m\u001b[0m\u001b[0m\n",
            "\u001b[0;32m~/library/tuanlam.py\u001b[0m in \u001b[0;36m_repr_latex_\u001b[0;34m(self)\u001b[0m\n\u001b[1;32m     42\u001b[0m \u001b[0;31m#monkey-patch for centering out[] DataFrames\u001b[0m\u001b[0;34m\u001b[0m\u001b[0;34m\u001b[0m\u001b[0m\n\u001b[1;32m     43\u001b[0m \u001b[0;32mdef\u001b[0m \u001b[0m_repr_latex_\u001b[0m\u001b[0;34m(\u001b[0m\u001b[0mself\u001b[0m\u001b[0;34m)\u001b[0m\u001b[0;34m:\u001b[0m\u001b[0;34m\u001b[0m\u001b[0m\n\u001b[0;32m---> 44\u001b[0;31m     \u001b[0;32mreturn\u001b[0m \u001b[0;34m\"{\\centering\\n%s\\n\\medskip}\"\u001b[0m \u001b[0;34m%\u001b[0m \u001b[0msef\u001b[0m\u001b[0;34m.\u001b[0m\u001b[0mto_latex\u001b[0m\u001b[0;34m(\u001b[0m\u001b[0;34m)\u001b[0m\u001b[0;34m\u001b[0m\u001b[0m\n\u001b[0m\u001b[1;32m     45\u001b[0m \u001b[0mpd\u001b[0m\u001b[0;34m.\u001b[0m\u001b[0mDataFrame\u001b[0m\u001b[0;34m.\u001b[0m\u001b[0m_repr_latex_\u001b[0m \u001b[0;34m=\u001b[0m \u001b[0m_repr_latex_\u001b[0m\u001b[0;34m\u001b[0m\u001b[0m\n\u001b[1;32m     46\u001b[0m \u001b[0;31m#Only used once\u001b[0m\u001b[0;34m\u001b[0m\u001b[0;34m\u001b[0m\u001b[0m\n",
            "\u001b[0;31mNameError\u001b[0m: name 'sef' is not defined"
          ]
        },
        {
          "output_type": "display_data",
          "data": {
            "text/html": [
              "<div>\n",
              "<style scoped>\n",
              "    .dataframe tbody tr th:only-of-type {\n",
              "        vertical-align: middle;\n",
              "    }\n",
              "\n",
              "    .dataframe tbody tr th {\n",
              "        vertical-align: top;\n",
              "    }\n",
              "\n",
              "    .dataframe thead th {\n",
              "        text-align: right;\n",
              "    }\n",
              "</style>\n",
              "<table border=\"1\" class=\"dataframe\">\n",
              "  <thead>\n",
              "    <tr style=\"text-align: right;\">\n",
              "      <th></th>\n",
              "      <th>ftr_1</th>\n",
              "      <th>ones</th>\n",
              "      <th>tgt</th>\n",
              "    </tr>\n",
              "  </thead>\n",
              "  <tbody>\n",
              "    <tr>\n",
              "      <th>0</th>\n",
              "      <td>8.7454</td>\n",
              "      <td>1.0000</td>\n",
              "      <td>1</td>\n",
              "    </tr>\n",
              "    <tr>\n",
              "      <th>1</th>\n",
              "      <td>14.5071</td>\n",
              "      <td>1.0000</td>\n",
              "      <td>0</td>\n",
              "    </tr>\n",
              "    <tr>\n",
              "      <th>2</th>\n",
              "      <td>12.3199</td>\n",
              "      <td>1.0000</td>\n",
              "      <td>0</td>\n",
              "    </tr>\n",
              "    <tr>\n",
              "      <th>3</th>\n",
              "      <td>10.9866</td>\n",
              "      <td>1.0000</td>\n",
              "      <td>0</td>\n",
              "    </tr>\n",
              "    <tr>\n",
              "      <th>4</th>\n",
              "      <td>6.5602</td>\n",
              "      <td>1.0000</td>\n",
              "      <td>1</td>\n",
              "    </tr>\n",
              "  </tbody>\n",
              "</table>\n",
              "</div>"
            ],
            "text/plain": [
              "                 ftr_1                 ones  tgt\n",
              "0               8.7454               1.0000    1\n",
              "1              14.5071               1.0000    0\n",
              "2              12.3199               1.0000    0\n",
              "3              10.9866               1.0000    0\n",
              "4               6.5602               1.0000    1"
            ]
          },
          "metadata": {
            "tags": []
          }
        }
      ]
    },
    {
      "cell_type": "code",
      "metadata": {
        "id": "w5ybxed_RLRT",
        "outputId": "5b5530d5-2ead-4922-bc97-c12781527fc3"
      },
      "source": [
        "fig, ax = plt.subplots(figsize=(6,4))\n",
        "ax.plot(logreg_ftr, prob_at_x,'r.')\n",
        "ax.scatter(logreg_ftr, logreg_tgt, c=logreg_tgt)"
      ],
      "execution_count": null,
      "outputs": [
        {
          "output_type": "execute_result",
          "data": {
            "text/plain": [
              "<matplotlib.collections.PathCollection at 0x7f44110d0080>"
            ]
          },
          "metadata": {
            "tags": []
          },
          "execution_count": 30
        },
        {
          "output_type": "display_data",
          "data": {
            "image/png": "[encoded data removed]",
            "text/plain": [
              "<Figure size 432x288 with 1 Axes>"
            ]
          },
          "metadata": {
            "tags": [],
            "needs_background": "light"
          }
        }
      ]
    },
    {
      "cell_type": "code",
      "metadata": {
        "id": "spPIprnrRLRW",
        "outputId": "87b7b155-bf41-4f4c-e389-7f08ab9c1742"
      },
      "source": [
        "def logreg_model(weights, ftrs):\n",
        "    return rdot(weights, ftrs)\n",
        "def logreg_loss_01(predicted, actual):\n",
        "    return np.sum(-predicted * actual + np.log(1+np.exp(predicted)))\n",
        "logreg_cost = make_cost(logreg_ftrs_p1,logreg_tgt,logreg_model,logreg_loss_01,0,no_penalty)\n",
        "learned_wgts = magical_minimum_finder(logreg_cost,[5,5],disp=False)\n",
        "print(\"true weights:\", true_wgts)\n",
        "print(\"learned weights:\", learned_wgts)"
      ],
      "execution_count": null,
      "outputs": [
        {
          "output_type": "stream",
          "text": [
            "true weights: (-2, 20)\n",
            "learned weights: [-1.9774 19.8659]\n"
          ],
          "name": "stdout"
        }
      ]
    },
    {
      "cell_type": "code",
      "metadata": {
        "id": "H6v9myYGRLRZ",
        "outputId": "25e384ff-453d-4cef-c600-093a8d9ced80"
      },
      "source": [
        "logreg_pen_cost = make_cost(logreg_ftrs_p1, logreg_tgt, logreg_model, logreg_loss_01, .5, L1_penalty)\n",
        "learned_wgts = magical_minimum_finder(logreg_pen_cost,[5,5],disp=False)\n",
        "print(\"true weights:\", true_wgts)\n",
        "print(\"learned weights:\", learned_wgts)"
      ],
      "execution_count": null,
      "outputs": [
        {
          "output_type": "stream",
          "text": [
            "true weights: (-2, 20)\n",
            "learned weights: [-1.2809 12.7875]\n"
          ],
          "name": "stdout"
        }
      ]
    },
    {
      "cell_type": "code",
      "metadata": {
        "id": "u3vR_OdvRLRc",
        "outputId": "64b12641-2755-489a-eaa5-de1cb7f8e52e"
      },
      "source": [
        "def binary_to_pm1(b):\n",
        "    return (b*2) - 1\n",
        "def logreg_model(weights, ftrs):\n",
        "    return rdot(weights, ftrs)\n",
        "def logreg_loss_pm1(predicted, actual):\n",
        "    return np.sum(np.log(1+np.exp(-predicted*actual)))\n",
        "logreg_cost = make_cost(logreg_ftrs_p1, binary_to_pm1(logreg_tgt),logreg_model, logreg_loss_pm1,0,no_penalty)\n",
        "learned_wgts = magical_minimum_finder(logreg_cost,[5,5],disp=False)  \n",
        "print(\"true weights:\", true_wgts)\n",
        "print(\"learned weights:\", learned_wgts)                       "
      ],
      "execution_count": null,
      "outputs": [
        {
          "output_type": "stream",
          "text": [
            "true weights: (-2, 20)\n",
            "learned weights: [-1.9774 19.8659]\n"
          ],
          "name": "stdout"
        }
      ]
    },
    {
      "cell_type": "code",
      "metadata": {
        "id": "o05_sryiRLRe",
        "outputId": "c5d87f99-3bca-433e-8835-c35ec93891aa"
      },
      "source": [
        "def predict_with_logreg_weights_to_pm1(w_hat,x):\n",
        "    prob = 1/(1+np.exp(rdot(w_hat,x)))\n",
        "    thresh = prob < .5\n",
        "    return binary_to_pm1(thresh)\n",
        "preds = predict_with_logreg_weights_to_pm1(learned_wgts, logreg_ftrs_p1)\n",
        "print(metrics.accuracy_score(preds,binary_to_pm1(logreg_tgt)))\n"
      ],
      "execution_count": null,
      "outputs": [
        {
          "output_type": "stream",
          "text": [
            "0.93\n"
          ],
          "name": "stdout"
        }
      ]
    },
    {
      "cell_type": "markdown",
      "metadata": {
        "id": "sSQtfwYmRLRg"
      },
      "source": [
        "Neural networks"
      ]
    },
    {
      "cell_type": "code",
      "metadata": {
        "id": "vcoZfnNORLRh",
        "outputId": "7295832a-b2e6-4525-ff35-f735ecf24118"
      },
      "source": [
        "import keras.layers as kl\n",
        "import keras.models as km\n",
        "import keras.optimizers as ko"
      ],
      "execution_count": null,
      "outputs": [
        {
          "output_type": "stream",
          "text": [
            "Using TensorFlow backend.\n"
          ],
          "name": "stderr"
        }
      ]
    },
    {
      "cell_type": "code",
      "metadata": {
        "id": "VZJAy1kGRLRj"
      },
      "source": [
        "def Keras_LinearRegression(n_ftrs):\n",
        "    model = km.Sequential()\n",
        "    model.add(kl.Dense(1,activation='linear',input_dim=n_ftrs))\n",
        "    model.compile(optimizer=ko.SGD(lr=0.01),loss='mse')\n",
        "    return model"
      ],
      "execution_count": null,
      "outputs": []
    },
    {
      "cell_type": "code",
      "metadata": {
        "id": "kGN83n1XRLRl",
        "outputId": "bc7a15e4-b11d-4cd9-a073-10b1fd4a7e2b"
      },
      "source": [
        "linreg_ftrs = linreg_ftrs_p1[:,0]\n",
        "linreg_nn = Keras_LinearRegression(1)\n",
        "history = linreg_nn.fit(linreg_ftrs,linreg_tgt,epochs=1000,verbose=0)\n",
        "preds = linreg_nn.predict(linreg_ftrs)\n",
        "mse = metrics.mean_squared_error(preds,linreg_tgt)\n",
        "print(\"Training MSE: {:5.4f}\".format(mse))\n"
      ],
      "execution_count": null,
      "outputs": [
        {
          "output_type": "stream",
          "text": [
            "Training MSE: 0.0000\n"
          ],
          "name": "stdout"
        }
      ]
    },
    {
      "cell_type": "code",
      "metadata": {
        "id": "-oOtRAXFRLRn",
        "outputId": "4f2de024-4e49-49c7-ccce-cd5f33f933ff"
      },
      "source": [
        "history.history['loss'][:5]"
      ],
      "execution_count": null,
      "outputs": [
        {
          "output_type": "execute_result",
          "data": {
            "text/plain": [
              "[328.470703125,\n",
              " 57.25974655151367,\n",
              " 10.39882755279541,\n",
              " 2.2973079681396484,\n",
              " 0.8920284509658813]"
            ]
          },
          "metadata": {
            "tags": []
          },
          "execution_count": 41
        }
      ]
    },
    {
      "cell_type": "code",
      "metadata": {
        "id": "sF1pJbQoRLRr",
        "outputId": "c648954a-f79e-4d38-cd2d-6a2ca40b4d18"
      },
      "source": [
        "def Keras_LogisticRegression(n_ftrs):\n",
        "    model = km.Sequential()\n",
        "    model.add(kl.Dense(1,activation='sigmoid',input_dim=n_ftrs))\n",
        "    model.compile(optimizer=ko.SGD(), loss = 'binary_crossentropy')\n",
        "    return model\n",
        "logreg_nn = Keras_LogisticRegression(1)\n",
        "history = logreg_nn.fit(logreg_ftr, logreg_tgt, epochs=1000, verbose=0)\n",
        "preds = logreg_nn.predict(logreg_ftr) > .5\n",
        "print(\"accuarcy:\", metrics.accuracy_score(preds,logreg_tgt))\n"
      ],
      "execution_count": null,
      "outputs": [
        {
          "output_type": "stream",
          "text": [
            "accuarcy: 0.92\n"
          ],
          "name": "stdout"
        }
      ]
    },
    {
      "cell_type": "code",
      "metadata": {
        "id": "f0Cr8LoJRLRt",
        "outputId": "d1c450ec-b643-4359-b0df-50283807223e"
      },
      "source": [
        "from keras.utils import to_categorical as k_to_categorical\n",
        "def Keras_MultiLogisticRegression(n_ftrs, n_classes):\n",
        "    model = km.Sequential()\n",
        "    model.add(kl.Dense(n_classes, activation='softmax', input_dim=n_ftrs))\n",
        "    model.compile(optimizer=ko.SGD(), loss='categorical_crossentropy')\n",
        "    return model\n",
        "logreg_nn2 = Keras_MultiLogisticRegression(1,2)\n",
        "history = logreg_nn2.fit(logreg_ftr, k_to_categorical(logreg_tgt), epochs=1000, verbose=0)\n",
        "preds = logreg_nn2.predict(logreg_ftr).argmax(axis=1)\n",
        "print(metrics.accuracy_score(logreg_tgt,preds))"
      ],
      "execution_count": null,
      "outputs": [
        {
          "output_type": "stream",
          "text": [
            "0.89\n"
          ],
          "name": "stdout"
        }
      ]
    },
    {
      "cell_type": "code",
      "metadata": {
        "id": "sHLHU80mRLRw"
      },
      "source": [
        ""
      ],
      "execution_count": null,
      "outputs": []
    }
  ]
}