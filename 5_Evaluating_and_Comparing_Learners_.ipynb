{
  "nbformat": 4,
  "nbformat_minor": 0,
  "metadata": {
    "kernelspec": {
      "display_name": "Python 3.6",
      "language": "python",
      "name": "python36"
    },
    "language_info": {
      "codemirror_mode": {
        "name": "ipython",
        "version": 3
      },
      "file_extension": ".py",
      "mimetype": "text/x-python",
      "name": "python",
      "nbconvert_exporter": "python",
      "pygments_lexer": "ipython3",
      "version": "3.6.6"
    },
    "colab": {
      "name": "5 - Evaluating and Comparing Learners .ipynb",
      "provenance": [],
      "include_colab_link": true
    }
  },
  "cells": [
    {
      "cell_type": "markdown",
      "metadata": {
        "id": "view-in-github",
        "colab_type": "text"
      },
      "source": [
        "<a href=\"https://colab.research.google.com/github/tuanlamdao/datascience/blob/master/5_Evaluating_and_Comparing_Learners_.ipynb\" target=\"_parent\"><img src=\"https://colab.research.google.com/assets/colab-badge.svg\" alt=\"Open In Colab\"/></a>"
      ]
    },
    {
      "cell_type": "code",
      "metadata": {
        "id": "ZlTBNUIm5rvL",
        "outputId": "3cc8704e-980a-47f5-a9f0-8ffa6dadc99a"
      },
      "source": [
        "import numpy as np\n",
        "import pandas as pd\n",
        "from sklearn import (model_selection, neighbors, metrics, datasets,linear_model,naive_bayes)\n",
        "import sklearn.model_selection as skms\n",
        "import matplotlib.pyplot as plt\n",
        "import seaborn as sns\n",
        "N=20\n",
        "ftr = np.linspace(-10,10, num=N)\n",
        "tgt = 2*ftr**2 - 3 + np.random.uniform(-2,2,N)\n",
        "print(ftr)\n",
        "print(tgt)\n",
        "(train_ftr, test_ftr, train_tgt, test_tgt) = skms.train_test_split(ftr, tgt,test_size=N//2)\n",
        "display(pd.DataFrame({\"ftr\": train_ftr,\n",
        "                      \"tgt\": train_tgt}).T)"
      ],
      "execution_count": null,
      "outputs": [
        {
          "output_type": "stream",
          "text": [
            "[-10.          -8.94736842  -7.89473684  -6.84210526  -5.78947368\n",
            "  -4.73684211  -3.68421053  -2.63157895  -1.57894737  -0.52631579\n",
            "   0.52631579   1.57894737   2.63157895   3.68421053   4.73684211\n",
            "   5.78947368   6.84210526   7.89473684   8.94736842  10.        ]\n",
            "[198.51482952 157.21636244 121.96198746  91.85328131  63.24417555\n",
            "  42.28997016  22.35065554  11.71576529   3.35298237  -1.69262222\n",
            "  -4.10450583   3.03702704  11.5529983   25.63507721  40.9238637\n",
            "  64.13903593  91.78994525 119.81203514 155.16530819 195.0086769 ]\n"
          ],
          "name": "stdout"
        },
        {
          "output_type": "display_data",
          "data": {
            "text/html": [
              "<div>\n",
              "<style scoped>\n",
              "    .dataframe tbody tr th:only-of-type {\n",
              "        vertical-align: middle;\n",
              "    }\n",
              "\n",
              "    .dataframe tbody tr th {\n",
              "        vertical-align: top;\n",
              "    }\n",
              "\n",
              "    .dataframe thead th {\n",
              "        text-align: right;\n",
              "    }\n",
              "</style>\n",
              "<table border=\"1\" class=\"dataframe\">\n",
              "  <thead>\n",
              "    <tr style=\"text-align: right;\">\n",
              "      <th></th>\n",
              "      <th>0</th>\n",
              "      <th>1</th>\n",
              "      <th>2</th>\n",
              "      <th>3</th>\n",
              "      <th>4</th>\n",
              "      <th>5</th>\n",
              "      <th>6</th>\n",
              "      <th>7</th>\n",
              "      <th>8</th>\n",
              "      <th>9</th>\n",
              "    </tr>\n",
              "  </thead>\n",
              "  <tbody>\n",
              "    <tr>\n",
              "      <th>ftr</th>\n",
              "      <td>3.684211</td>\n",
              "      <td>4.736842</td>\n",
              "      <td>6.842105</td>\n",
              "      <td>0.526316</td>\n",
              "      <td>1.578947</td>\n",
              "      <td>8.947368</td>\n",
              "      <td>-6.842105</td>\n",
              "      <td>-2.631579</td>\n",
              "      <td>2.631579</td>\n",
              "      <td>10.000000</td>\n",
              "    </tr>\n",
              "    <tr>\n",
              "      <th>tgt</th>\n",
              "      <td>25.635077</td>\n",
              "      <td>40.923864</td>\n",
              "      <td>91.789945</td>\n",
              "      <td>-4.104506</td>\n",
              "      <td>3.037027</td>\n",
              "      <td>155.165308</td>\n",
              "      <td>91.853281</td>\n",
              "      <td>11.715765</td>\n",
              "      <td>11.552998</td>\n",
              "      <td>195.008677</td>\n",
              "    </tr>\n",
              "  </tbody>\n",
              "</table>\n",
              "</div>"
            ],
            "text/plain": [
              "             0          1          2         3         4           5  \\\n",
              "ftr   3.684211   4.736842   6.842105  0.526316  1.578947    8.947368   \n",
              "tgt  25.635077  40.923864  91.789945 -4.104506  3.037027  155.165308   \n",
              "\n",
              "             6          7          8           9  \n",
              "ftr  -6.842105  -2.631579   2.631579   10.000000  \n",
              "tgt  91.853281  11.715765  11.552998  195.008677  "
            ]
          },
          "metadata": {
            "tags": []
          }
        }
      ]
    },
    {
      "cell_type": "code",
      "metadata": {
        "id": "qzuGkySa5rvQ",
        "outputId": "aecb58c1-72d5-440d-f74c-4df53ed69084"
      },
      "source": [
        "\n",
        "plt.plot(train_ftr, train_tgt, 'bo')\n",
        "plt.plot(test_ftr,np.zeros_like(test_tgt), 'r+')\n",
        "plt.show()"
      ],
      "execution_count": null,
      "outputs": [
        {
          "output_type": "display_data",
          "data": {
            "image/png": "[encoded data removed]",
            "text/plain": [
              "<Figure size 432x288 with 1 Axes>"
            ]
          },
          "metadata": {
            "tags": [],
            "needs_background": "light"
          }
        }
      ]
    },
    {
      "cell_type": "code",
      "metadata": {
        "id": "QEnQcCal5rvT"
      },
      "source": [
        "from sklearn import (linear_model, metrics,neighbors)"
      ],
      "execution_count": null,
      "outputs": []
    },
    {
      "cell_type": "code",
      "metadata": {
        "id": "qwRgLr2R5rvV",
        "outputId": "e8e30a01-1cf6-4573-d375-b78d4bbd4d67"
      },
      "source": [
        "sk_model = linear_model.LinearRegression()\n",
        "sk_fit   = sk_model.fit(train_ftr.reshape(-1,1),train_tgt)\n",
        "sk_preds = sk_fit.predict(test_ftr.reshape(-1,1))\n",
        "sk_preds[:3]\n"
      ],
      "execution_count": null,
      "outputs": [
        {
          "output_type": "execute_result",
          "data": {
            "text/plain": [
              "array([70.88904666, 78.6648119 , 63.11328142])"
            ]
          },
          "metadata": {
            "tags": []
          },
          "execution_count": 34
        }
      ]
    },
    {
      "cell_type": "markdown",
      "metadata": {
        "id": "poYK3Z4N5rvY"
      },
      "source": [
        "Try to predict with 1D polynomial model ( a straigt line) "
      ]
    },
    {
      "cell_type": "code",
      "metadata": {
        "id": "exCAScCy5rvY",
        "outputId": "d7c17756-0be5-45f1-d1c4-a6df932cd0f6"
      },
      "source": [
        "model_one = np.poly1d(np.polyfit(train_ftr, train_tgt,1))\n",
        "preds_one = model_one(test_ftr)\n",
        "print(preds_one[:3])"
      ],
      "execution_count": null,
      "outputs": [
        {
          "output_type": "stream",
          "text": [
            "[70.88904666 78.6648119  63.11328142]\n"
          ],
          "name": "stdout"
        }
      ]
    },
    {
      "cell_type": "code",
      "metadata": {
        "id": "Lxga-t2q5rvb",
        "outputId": "fbc41252-9bf4-4ff9-91b1-dc96cf6aecfb"
      },
      "source": [
        "print('all close ?', np.allclose(sk_preds, preds_one))\n",
        "print('RMSE: ', np.sqrt(metrics.mean_squared_error(test_tgt,preds_one)))"
      ],
      "execution_count": null,
      "outputs": [
        {
          "output_type": "stream",
          "text": [
            "all close ? True\n",
            "RMSE:  85.78894684232961\n"
          ],
          "name": "stdout"
        }
      ]
    },
    {
      "cell_type": "markdown",
      "metadata": {
        "id": "y9v2cwZw5rve"
      },
      "source": [
        "we can use other alternative systems, np.poly1d ( not always sklearn) to learn models and even use those alternative system with sklearn to do evaluation  "
      ]
    },
    {
      "cell_type": "code",
      "metadata": {
        "id": "nNU7Ls0o5rve",
        "outputId": "d6b1f5ad-6ee8-41b5-953c-8c1e198df053"
      },
      "source": [
        "model_two = np.poly1d(np.polyfit(train_ftr,train_tgt,2))\n",
        "preds_two = model_two(test_ftr)\n",
        "print('RMSE: ', np.sqrt(metrics.mean_squared_error(test_tgt,preds_two)))"
      ],
      "execution_count": null,
      "outputs": [
        {
          "output_type": "stream",
          "text": [
            "RMSE:  1.643774337578078\n"
          ],
          "name": "stdout"
        }
      ]
    },
    {
      "cell_type": "markdown",
      "metadata": {
        "id": "GqKYRNWc5rvh"
      },
      "source": [
        "The test error has been improved a bit when we use a 2D polynomial (parabola) to predict  - RMSE = 1.4626015280757485"
      ]
    },
    {
      "cell_type": "code",
      "metadata": {
        "id": "d1xLeZhr5rvi",
        "outputId": "13c8532c-b91a-45ee-d45a-93b21634e7f2"
      },
      "source": [
        "model_three = np.poly1d(np.polyfit(train_ftr,train_tgt,9))\n",
        "preds_three = model_three(test_ftr)\n",
        "print('RMSE: ', np.sqrt(metrics.mean_squared_error(test_tgt,preds_three)))"
      ],
      "execution_count": null,
      "outputs": [
        {
          "output_type": "stream",
          "text": [
            "RMSE:  672.0440955305662\n"
          ],
          "name": "stdout"
        }
      ]
    },
    {
      "cell_type": "markdown",
      "metadata": {
        "id": "vZZ2toJ45rvk"
      },
      "source": [
        "However, we get worse result - a big error while trying to predict with a 9D polynomial model - RMSE = 56.186758836423266"
      ]
    },
    {
      "cell_type": "code",
      "metadata": {
        "id": "HQjNZ1ux5rvl",
        "outputId": "540ff96a-7d45-41b3-b59b-d78bee2e0707"
      },
      "source": [
        "fig, axes = plt.subplots(1,2,figsize=(6,3),sharey=True)\n",
        "labels = ['Line','Parabola','Nomic']\n",
        "models = [model_one,model_two,model_three]\n",
        "train  = (train_ftr, train_tgt)\n",
        "test   = (test_ftr, test_tgt)\n",
        "for ax, (ftr,tgt) in zip(axes,[train,test]):\n",
        "    ax.plot(ftr,tgt,'r+')\n",
        "    for m, lbl in zip(models, labels):\n",
        "        ftr = sorted(ftr)\n",
        "        ax.plot(ftr, m(ftr), '-', label=lbl)\n",
        "axes[1].set_ylim(-20,200)\n",
        "axes[0].set_title('Train')\n",
        "axes[1].set_title('Test')\n",
        "axes[0].legend(loc='upper center')\n",
        "          \n"
      ],
      "execution_count": null,
      "outputs": [
        {
          "output_type": "execute_result",
          "data": {
            "text/plain": [
              "<matplotlib.legend.Legend at 0x7fc557c86eb8>"
            ]
          },
          "metadata": {
            "tags": []
          },
          "execution_count": 39
        },
        {
          "output_type": "display_data",
          "data": {
            "image/png": "[encoded data removed]",
            "text/plain": [
              "<Figure size 432x216 with 2 Axes>"
            ]
          },
          "metadata": {
            "tags": [],
            "needs_background": "light"
          }
        }
      ]
    },
    {
      "cell_type": "markdown",
      "metadata": {
        "id": "6Z8Mk2Yn5rvn"
      },
      "source": [
        "the above chart show us: \n",
        "    - the model one, the straight line, has a great difficulty because our real world follows a curved trajectory.\n",
        "    - the model two, the parabola, eats that up. It follows the curve just about perfectly\n",
        "    - the model three, the nomic, seems do wonderfully when we train, but has problems when we go to testing."
      ]
    },
    {
      "cell_type": "code",
      "metadata": {
        "id": "T1mMW2p15rvo",
        "outputId": "a8ab9e34-8c00-4c89-9ef9-79cb1d5a602b"
      },
      "source": [
        "results = []\n",
        "for complexity in [1,2,6,9]:\n",
        "    model = np.poly1d(np.polyfit(train_ftr, train_tgt, complexity))\n",
        "    train_error = np.sqrt(metrics.mean_squared_error(train_tgt, model(train_ftr)))\n",
        "    test_error = np.sqrt(metrics.mean_squared_error(test_tgt, model(test_ftr)))\n",
        "    results.append((complexity, train_error, test_error))\n",
        "    columns = ['complexity', \"Train error\",\"Test Error\"]\n",
        "    results_df = pd.DataFrame.from_records(results, columns = columns, index = \"complexity\")\n",
        "print(results_df)  \n",
        "results_df.plot()"
      ],
      "execution_count": null,
      "outputs": [
        {
          "output_type": "stream",
          "text": [
            "             Train error  Test Error\n",
            "complexity                          \n",
            "1           5.108704e+01   85.788947\n",
            "2           7.918796e-01    1.643774\n",
            "6           5.249565e-01    4.000297\n",
            "9           5.436868e-13  672.044096\n"
          ],
          "name": "stdout"
        },
        {
          "output_type": "execute_result",
          "data": {
            "text/plain": [
              "<matplotlib.axes._subplots.AxesSubplot at 0x7fc5574c6dd8>"
            ]
          },
          "metadata": {
            "tags": []
          },
          "execution_count": 40
        },
        {
          "output_type": "display_data",
          "data": {
            "image/png": "[encoded data removed]",
            "text/plain": [
              "<Figure size 432x288 with 1 Axes>"
            ]
          },
          "metadata": {
            "tags": [],
            "needs_background": "light"
          }
        }
      ]
    },
    {
      "cell_type": "markdown",
      "metadata": {
        "id": "qW1I_JCm5rvq"
      },
      "source": [
        "#### K- Cross Validation"
      ]
    },
    {
      "cell_type": "code",
      "metadata": {
        "id": "L3pF1ilJ5rvq",
        "outputId": "6ab2defb-7d79-419e-914e-06e995079d1c"
      },
      "source": [
        "diabetes = datasets.load_diabetes()\n",
        "diabetes_model = neighbors.KNeighborsRegressor(10)\n",
        "model_selection.cross_val_score(diabetes_model,diabetes.data, diabetes.target,cv=5,scoring='neg_mean_squared_error')"
      ],
      "execution_count": null,
      "outputs": [
        {
          "output_type": "execute_result",
          "data": {
            "text/plain": [
              "array([-3206.7541573 , -3426.43134831, -3587.94215909, -3039.49443182,\n",
              "       -3282.60159091])"
            ]
          },
          "metadata": {
            "tags": []
          },
          "execution_count": 41
        }
      ]
    },
    {
      "cell_type": "code",
      "metadata": {
        "id": "XKFGeAZf5rvt",
        "outputId": "657f716e-98bd-4421-fa5d-e6bd3f48a174"
      },
      "source": [
        "iris = datasets.load_iris()\n",
        "iris_model = neighbors.KNeighborsClassifier(10)\n",
        "model_selection.cross_val_score(iris_model,iris.data,iris.target,cv=5)\n"
      ],
      "execution_count": null,
      "outputs": [
        {
          "output_type": "execute_result",
          "data": {
            "text/plain": [
              "array([0.96666667, 1.        , 1.        , 0.93333333, 1.        ])"
            ]
          },
          "metadata": {
            "tags": []
          },
          "execution_count": 42
        }
      ]
    },
    {
      "cell_type": "markdown",
      "metadata": {
        "id": "YPtG7sHT5rvx"
      },
      "source": [
        "##### Stratification.\n",
        "default in sklearn, classifier goes with stratified manner when it split data in k folds to do CV. Stratification is a away to ensure target classs represented in each of K fold dataset as per their percentage contribution to the whole data set. this is a important factor to ensure data in each of K folds dataset good for training the model"
      ]
    },
    {
      "cell_type": "code",
      "metadata": {
        "id": "MivA3yL15rvy",
        "outputId": "e350d17e-5658-40fb-da85-1a9a3b3467ae"
      },
      "source": [
        "# running non-stratified cv\n",
        "non_strat_kf = model_selection.KFold(5)\n",
        "model_selection.cross_val_score(iris_model,iris.data,iris.target,cv=non_strat_kf)"
      ],
      "execution_count": null,
      "outputs": [
        {
          "output_type": "execute_result",
          "data": {
            "text/plain": [
              "array([1.        , 1.        , 0.86666667, 0.96666667, 0.76666667])"
            ]
          },
          "metadata": {
            "tags": []
          },
          "execution_count": 43
        }
      ]
    },
    {
      "cell_type": "markdown",
      "metadata": {
        "id": "uKOdPoNa5rv0"
      },
      "source": [
        "The last fold ( 0.76666667 ) probably has the bad distribution of flowers"
      ]
    },
    {
      "cell_type": "markdown",
      "metadata": {
        "id": "84I0p9LF5rv0"
      },
      "source": [
        "##### Repeated train test split"
      ]
    },
    {
      "cell_type": "code",
      "metadata": {
        "id": "Jcw_UQnv5rv1",
        "outputId": "2d5e222c-fd89-4cdb-9609-73f230f5c192"
      },
      "source": [
        "linreg = linear_model.LinearRegression()\n",
        "scores = []\n",
        "for r in range(10):\n",
        "    trainTestSplit = model_selection.train_test_split(diabetes.data,diabetes.target,test_size=.25)\n",
        "    (diabetes_train_ftr, diabetes_test_ftr, diabetes_train_tgt, diabetes_test_tgt) = trainTestSplit\n",
        "    fit = linreg.fit(diabetes_train_ftr,diabetes_train_tgt)\n",
        "    preds = fit.predict(diabetes_test_ftr)\n",
        "    score = metrics.mean_squared_error(diabetes_test_tgt, preds)\n",
        "    scores.append(score)\n",
        "scores = pd.Series(np.sqrt(sorted(scores)))\n",
        "df = pd.DataFrame({'RMSE': scores})\n",
        "df.index.name = 'Repeat'\n",
        "display(df.T)\n",
        "\n",
        "ax = plt.figure(figsize = (4,3)).gca()\n",
        "sns.swarmplot(y='RMSE',data=df,ax=ax)\n",
        "ax.set_xlabel('Over repeated\\nTRain-Test Splits')\n",
        "plt.show()\n",
        "display(df.describe().T)"
      ],
      "execution_count": null,
      "outputs": [
        {
          "output_type": "display_data",
          "data": {
            "text/html": [
              "<div>\n",
              "<style scoped>\n",
              "    .dataframe tbody tr th:only-of-type {\n",
              "        vertical-align: middle;\n",
              "    }\n",
              "\n",
              "    .dataframe tbody tr th {\n",
              "        vertical-align: top;\n",
              "    }\n",
              "\n",
              "    .dataframe thead th {\n",
              "        text-align: right;\n",
              "    }\n",
              "</style>\n",
              "<table border=\"1\" class=\"dataframe\">\n",
              "  <thead>\n",
              "    <tr style=\"text-align: right;\">\n",
              "      <th>Repeat</th>\n",
              "      <th>0</th>\n",
              "      <th>1</th>\n",
              "      <th>2</th>\n",
              "      <th>3</th>\n",
              "      <th>4</th>\n",
              "      <th>5</th>\n",
              "      <th>6</th>\n",
              "      <th>7</th>\n",
              "      <th>8</th>\n",
              "      <th>9</th>\n",
              "    </tr>\n",
              "  </thead>\n",
              "  <tbody>\n",
              "    <tr>\n",
              "      <th>RMSE</th>\n",
              "      <td>48.976556</td>\n",
              "      <td>51.505302</td>\n",
              "      <td>51.778581</td>\n",
              "      <td>54.127248</td>\n",
              "      <td>54.408976</td>\n",
              "      <td>54.910857</td>\n",
              "      <td>55.216925</td>\n",
              "      <td>55.806064</td>\n",
              "      <td>57.795747</td>\n",
              "      <td>59.262292</td>\n",
              "    </tr>\n",
              "  </tbody>\n",
              "</table>\n",
              "</div>"
            ],
            "text/plain": [
              "Repeat          0          1          2          3          4          5  \\\n",
              "RMSE    48.976556  51.505302  51.778581  54.127248  54.408976  54.910857   \n",
              "\n",
              "Repeat          6          7          8          9  \n",
              "RMSE    55.216925  55.806064  57.795747  59.262292  "
            ]
          },
          "metadata": {
            "tags": []
          }
        },
        {
          "output_type": "display_data",
          "data": {
            "image/png": "[encoded data removed]",
            "text/plain": [
              "<Figure size 288x216 with 1 Axes>"
            ]
          },
          "metadata": {
            "tags": [],
            "needs_background": "light"
          }
        },
        {
          "output_type": "display_data",
          "data": {
            "text/html": [
              "<div>\n",
              "<style scoped>\n",
              "    .dataframe tbody tr th:only-of-type {\n",
              "        vertical-align: middle;\n",
              "    }\n",
              "\n",
              "    .dataframe tbody tr th {\n",
              "        vertical-align: top;\n",
              "    }\n",
              "\n",
              "    .dataframe thead th {\n",
              "        text-align: right;\n",
              "    }\n",
              "</style>\n",
              "<table border=\"1\" class=\"dataframe\">\n",
              "  <thead>\n",
              "    <tr style=\"text-align: right;\">\n",
              "      <th></th>\n",
              "      <th>count</th>\n",
              "      <th>mean</th>\n",
              "      <th>std</th>\n",
              "      <th>min</th>\n",
              "      <th>25%</th>\n",
              "      <th>50%</th>\n",
              "      <th>75%</th>\n",
              "      <th>max</th>\n",
              "    </tr>\n",
              "  </thead>\n",
              "  <tbody>\n",
              "    <tr>\n",
              "      <th>RMSE</th>\n",
              "      <td>10.0</td>\n",
              "      <td>54.378855</td>\n",
              "      <td>3.033392</td>\n",
              "      <td>48.976556</td>\n",
              "      <td>52.365747</td>\n",
              "      <td>54.659916</td>\n",
              "      <td>55.658779</td>\n",
              "      <td>59.262292</td>\n",
              "    </tr>\n",
              "  </tbody>\n",
              "</table>\n",
              "</div>"
            ],
            "text/plain": [
              "      count       mean       std        min        25%        50%        75%  \\\n",
              "RMSE   10.0  54.378855  3.033392  48.976556  52.365747  54.659916  55.658779   \n",
              "\n",
              "            max  \n",
              "RMSE  59.262292  "
            ]
          },
          "metadata": {
            "tags": []
          }
        }
      ]
    },
    {
      "cell_type": "markdown",
      "metadata": {
        "id": "tHw6bYCn5rv3"
      },
      "source": [
        "Differrence between k-CV -  K folds Cross Validation and repeated train test split:\n",
        "1. with k-CV, we will get one and only one , prediction for each and every example. each example is in precisely one test bucket. The prediction for the whole dataset will be aggregated from the k models that develop on differenct set of data.\n",
        "2. with repeated train test split, we may completely ignore traiing or predicting on some examples and make repeated prediction on other example "
      ]
    },
    {
      "cell_type": "markdown",
      "metadata": {
        "id": "DbeYl5_N5rv3"
      },
      "source": [
        "Use shufflesplit with CV"
      ]
    },
    {
      "cell_type": "code",
      "metadata": {
        "id": "ker1T70K5rv4",
        "outputId": "26c18a81-5279-43d7-f9b5-54027f92ee42"
      },
      "source": [
        "shufflesplit = model_selection.ShuffleSplit(test_size = .25) # default 10 splits\n",
        "scores = model_selection.cross_val_score(linreg,diabetes.data,diabetes.target,cv=shufflesplit,scoring='neg_mean_squared_error')\n",
        "scores = pd.Series(np.sqrt(-scores))\n",
        "df = pd.DataFrame({'RMSE': scores})\n",
        "df.index.name = 'Repeat'\n",
        "display(df.describe().T)\n",
        "ax = sns.swarmplot(y='RMSE', data = df)\n",
        "ax.set_xlabel('Over repeated/nTrain test splits')"
      ],
      "execution_count": null,
      "outputs": [
        {
          "output_type": "display_data",
          "data": {
            "text/html": [
              "<div>\n",
              "<style scoped>\n",
              "    .dataframe tbody tr th:only-of-type {\n",
              "        vertical-align: middle;\n",
              "    }\n",
              "\n",
              "    .dataframe tbody tr th {\n",
              "        vertical-align: top;\n",
              "    }\n",
              "\n",
              "    .dataframe thead th {\n",
              "        text-align: right;\n",
              "    }\n",
              "</style>\n",
              "<table border=\"1\" class=\"dataframe\">\n",
              "  <thead>\n",
              "    <tr style=\"text-align: right;\">\n",
              "      <th></th>\n",
              "      <th>count</th>\n",
              "      <th>mean</th>\n",
              "      <th>std</th>\n",
              "      <th>min</th>\n",
              "      <th>25%</th>\n",
              "      <th>50%</th>\n",
              "      <th>75%</th>\n",
              "      <th>max</th>\n",
              "    </tr>\n",
              "  </thead>\n",
              "  <tbody>\n",
              "    <tr>\n",
              "      <th>RMSE</th>\n",
              "      <td>10.0</td>\n",
              "      <td>53.887753</td>\n",
              "      <td>2.592288</td>\n",
              "      <td>50.089374</td>\n",
              "      <td>52.89703</td>\n",
              "      <td>53.011738</td>\n",
              "      <td>54.944959</td>\n",
              "      <td>59.732477</td>\n",
              "    </tr>\n",
              "  </tbody>\n",
              "</table>\n",
              "</div>"
            ],
            "text/plain": [
              "      count       mean       std        min       25%        50%        75%  \\\n",
              "RMSE   10.0  53.887753  2.592288  50.089374  52.89703  53.011738  54.944959   \n",
              "\n",
              "            max  \n",
              "RMSE  59.732477  "
            ]
          },
          "metadata": {
            "tags": []
          }
        },
        {
          "output_type": "execute_result",
          "data": {
            "text/plain": [
              "Text(0.5, 0, 'Over repeated/nTrain test splits')"
            ]
          },
          "metadata": {
            "tags": []
          },
          "execution_count": 45
        },
        {
          "output_type": "display_data",
          "data": {
            "image/png": "[encoded data removed]",
            "text/plain": [
              "<Figure size 432x288 with 1 Axes>"
            ]
          },
          "metadata": {
            "tags": [],
            "needs_background": "light"
          }
        }
      ]
    },
    {
      "cell_type": "markdown",
      "metadata": {
        "id": "ukVbt7sT5rv6"
      },
      "source": [
        "Use random_state with shufflesplit"
      ]
    },
    {
      "cell_type": "code",
      "metadata": {
        "id": "AGzBJd9c5rv6",
        "outputId": "c0539121-7167-41dd-c58a-6a1b9f05cb1c"
      },
      "source": [
        "shufflesplit_with_randomstate = model_selection.ShuffleSplit(test_size=.25, random_state = 42)\n",
        "next(shufflesplit_with_randomstate.split(diabetes.data))[0][:10]\n"
      ],
      "execution_count": null,
      "outputs": [
        {
          "output_type": "execute_result",
          "data": {
            "text/plain": [
              "array([ 16, 408, 432, 316,   3,  18, 355,  60, 398, 124])"
            ]
          },
          "metadata": {
            "tags": []
          },
          "execution_count": 46
        }
      ]
    },
    {
      "cell_type": "markdown",
      "metadata": {
        "id": "jPbpmfB_5rv9"
      },
      "source": [
        "Leave one out cross validation"
      ]
    },
    {
      "cell_type": "code",
      "metadata": {
        "id": "3WhPawM15rv9",
        "outputId": "cbc55d50-a3fb-47cf-fd92-ffcfecb6c309"
      },
      "source": [
        "leave_one_out = model_selection.LeaveOneOut()\n",
        "scores = model_selection.cross_val_score(linreg,diabetes.data,diabetes.target,cv=leave_one_out,scoring='neg_mean_squared_error')\n",
        "scores = pd.Series(np.sqrt(-scores))\n",
        "df = pd.DataFrame({'RMSE':scores})\n",
        "df.index.name = 'Repeat'\n",
        "display(df.describe().T)\n",
        "ax = sns.swarmplot(y='RMSE',data=df)\n",
        "ax.set_xlabel('Over Leave one out\\nTrain test splits')"
      ],
      "execution_count": null,
      "outputs": [
        {
          "output_type": "display_data",
          "data": {
            "text/html": [
              "<div>\n",
              "<style scoped>\n",
              "    .dataframe tbody tr th:only-of-type {\n",
              "        vertical-align: middle;\n",
              "    }\n",
              "\n",
              "    .dataframe tbody tr th {\n",
              "        vertical-align: top;\n",
              "    }\n",
              "\n",
              "    .dataframe thead th {\n",
              "        text-align: right;\n",
              "    }\n",
              "</style>\n",
              "<table border=\"1\" class=\"dataframe\">\n",
              "  <thead>\n",
              "    <tr style=\"text-align: right;\">\n",
              "      <th></th>\n",
              "      <th>count</th>\n",
              "      <th>mean</th>\n",
              "      <th>std</th>\n",
              "      <th>min</th>\n",
              "      <th>25%</th>\n",
              "      <th>50%</th>\n",
              "      <th>75%</th>\n",
              "      <th>max</th>\n",
              "    </tr>\n",
              "  </thead>\n",
              "  <tbody>\n",
              "    <tr>\n",
              "      <th>RMSE</th>\n",
              "      <td>442.0</td>\n",
              "      <td>44.355661</td>\n",
              "      <td>32.197313</td>\n",
              "      <td>0.20751</td>\n",
              "      <td>18.48197</td>\n",
              "      <td>39.547237</td>\n",
              "      <td>63.973834</td>\n",
              "      <td>158.235451</td>\n",
              "    </tr>\n",
              "  </tbody>\n",
              "</table>\n",
              "</div>"
            ],
            "text/plain": [
              "      count       mean        std      min       25%        50%        75%  \\\n",
              "RMSE  442.0  44.355661  32.197313  0.20751  18.48197  39.547237  63.973834   \n",
              "\n",
              "             max  \n",
              "RMSE  158.235451  "
            ]
          },
          "metadata": {
            "tags": []
          }
        },
        {
          "output_type": "execute_result",
          "data": {
            "text/plain": [
              "Text(0.5, 0, 'Over Leave one out\\nTrain test splits')"
            ]
          },
          "metadata": {
            "tags": []
          },
          "execution_count": 47
        },
        {
          "output_type": "display_data",
          "data": {
            "image/png": "[encoded data removed]",
            "text/plain": [
              "<Figure size 432x288 with 1 Axes>"
            ]
          },
          "metadata": {
            "tags": [],
            "needs_background": "light"
          }
        }
      ]
    },
    {
      "cell_type": "markdown",
      "metadata": {
        "id": "ZxuKESDP5rv_"
      },
      "source": [
        "Learning Curve: How much data do we need?"
      ]
    },
    {
      "cell_type": "code",
      "metadata": {
        "id": "DB7kyDBI5rwA",
        "outputId": "1cc38540-8c84-4b2e-f06b-4877671f9537"
      },
      "source": [
        "iris = datasets.load_iris()\n",
        "# 10 data set size 10% - 100%\n",
        "# the data is piped to a 5 fold CV\n",
        "train_sizes = np.linspace(.1,1,10)\n",
        "nn = neighbors.KNeighborsClassifier()\n",
        "train_N, train_scores, test_scores = model_selection.learning_curve(nn, iris.data, iris.target, cv=5, train_sizes = train_sizes)\n",
        "df = pd.DataFrame(test_scores, index=(train_sizes*100).astype(np.int))\n",
        "df[\"Mean 5-CV\"] = df.mean(axis='columns')\n",
        "df.index.name = \"%data used\"\n",
        "display(df)"
      ],
      "execution_count": null,
      "outputs": [
        {
          "output_type": "display_data",
          "data": {
            "text/html": [
              "<div>\n",
              "<style scoped>\n",
              "    .dataframe tbody tr th:only-of-type {\n",
              "        vertical-align: middle;\n",
              "    }\n",
              "\n",
              "    .dataframe tbody tr th {\n",
              "        vertical-align: top;\n",
              "    }\n",
              "\n",
              "    .dataframe thead th {\n",
              "        text-align: right;\n",
              "    }\n",
              "</style>\n",
              "<table border=\"1\" class=\"dataframe\">\n",
              "  <thead>\n",
              "    <tr style=\"text-align: right;\">\n",
              "      <th></th>\n",
              "      <th>0</th>\n",
              "      <th>1</th>\n",
              "      <th>2</th>\n",
              "      <th>3</th>\n",
              "      <th>4</th>\n",
              "      <th>Mean 5-CV</th>\n",
              "    </tr>\n",
              "    <tr>\n",
              "      <th>%data used</th>\n",
              "      <th></th>\n",
              "      <th></th>\n",
              "      <th></th>\n",
              "      <th></th>\n",
              "      <th></th>\n",
              "      <th></th>\n",
              "    </tr>\n",
              "  </thead>\n",
              "  <tbody>\n",
              "    <tr>\n",
              "      <th>10</th>\n",
              "      <td>0.333333</td>\n",
              "      <td>0.333333</td>\n",
              "      <td>0.333333</td>\n",
              "      <td>0.333333</td>\n",
              "      <td>0.333333</td>\n",
              "      <td>0.333333</td>\n",
              "    </tr>\n",
              "    <tr>\n",
              "      <th>20</th>\n",
              "      <td>0.333333</td>\n",
              "      <td>0.333333</td>\n",
              "      <td>0.333333</td>\n",
              "      <td>0.333333</td>\n",
              "      <td>0.333333</td>\n",
              "      <td>0.333333</td>\n",
              "    </tr>\n",
              "    <tr>\n",
              "      <th>30</th>\n",
              "      <td>0.333333</td>\n",
              "      <td>0.333333</td>\n",
              "      <td>0.333333</td>\n",
              "      <td>0.333333</td>\n",
              "      <td>0.333333</td>\n",
              "      <td>0.333333</td>\n",
              "    </tr>\n",
              "    <tr>\n",
              "      <th>40</th>\n",
              "      <td>0.666667</td>\n",
              "      <td>0.666667</td>\n",
              "      <td>0.666667</td>\n",
              "      <td>0.666667</td>\n",
              "      <td>0.666667</td>\n",
              "      <td>0.666667</td>\n",
              "    </tr>\n",
              "    <tr>\n",
              "      <th>50</th>\n",
              "      <td>0.666667</td>\n",
              "      <td>0.666667</td>\n",
              "      <td>0.666667</td>\n",
              "      <td>0.666667</td>\n",
              "      <td>0.666667</td>\n",
              "      <td>0.666667</td>\n",
              "    </tr>\n",
              "    <tr>\n",
              "      <th>60</th>\n",
              "      <td>0.666667</td>\n",
              "      <td>0.666667</td>\n",
              "      <td>0.666667</td>\n",
              "      <td>0.666667</td>\n",
              "      <td>0.666667</td>\n",
              "      <td>0.666667</td>\n",
              "    </tr>\n",
              "    <tr>\n",
              "      <th>70</th>\n",
              "      <td>0.900000</td>\n",
              "      <td>0.800000</td>\n",
              "      <td>0.833333</td>\n",
              "      <td>0.866667</td>\n",
              "      <td>0.800000</td>\n",
              "      <td>0.840000</td>\n",
              "    </tr>\n",
              "    <tr>\n",
              "      <th>80</th>\n",
              "      <td>0.966667</td>\n",
              "      <td>0.933333</td>\n",
              "      <td>0.900000</td>\n",
              "      <td>0.900000</td>\n",
              "      <td>0.966667</td>\n",
              "      <td>0.933333</td>\n",
              "    </tr>\n",
              "    <tr>\n",
              "      <th>90</th>\n",
              "      <td>0.966667</td>\n",
              "      <td>1.000000</td>\n",
              "      <td>0.900000</td>\n",
              "      <td>0.966667</td>\n",
              "      <td>1.000000</td>\n",
              "      <td>0.966667</td>\n",
              "    </tr>\n",
              "    <tr>\n",
              "      <th>100</th>\n",
              "      <td>0.966667</td>\n",
              "      <td>1.000000</td>\n",
              "      <td>0.933333</td>\n",
              "      <td>0.966667</td>\n",
              "      <td>1.000000</td>\n",
              "      <td>0.973333</td>\n",
              "    </tr>\n",
              "  </tbody>\n",
              "</table>\n",
              "</div>"
            ],
            "text/plain": [
              "                   0         1         2         3         4  Mean 5-CV\n",
              "%data used                                                             \n",
              "10          0.333333  0.333333  0.333333  0.333333  0.333333   0.333333\n",
              "20          0.333333  0.333333  0.333333  0.333333  0.333333   0.333333\n",
              "30          0.333333  0.333333  0.333333  0.333333  0.333333   0.333333\n",
              "40          0.666667  0.666667  0.666667  0.666667  0.666667   0.666667\n",
              "50          0.666667  0.666667  0.666667  0.666667  0.666667   0.666667\n",
              "60          0.666667  0.666667  0.666667  0.666667  0.666667   0.666667\n",
              "70          0.900000  0.800000  0.833333  0.866667  0.800000   0.840000\n",
              "80          0.966667  0.933333  0.900000  0.900000  0.966667   0.933333\n",
              "90          0.966667  1.000000  0.900000  0.966667  1.000000   0.966667\n",
              "100         0.966667  1.000000  0.933333  0.966667  1.000000   0.973333"
            ]
          },
          "metadata": {
            "tags": []
          }
        }
      ]
    },
    {
      "cell_type": "code",
      "metadata": {
        "id": "N0h66bFR5rwD",
        "outputId": "e2415e03-0163-4227-83d5-9f32637a448c"
      },
      "source": [
        "joined = np.array([train_scores, test_scores]).transpose()\n",
        "ax = sns.tsplot(joined, time=train_sizes, condition=['Train','Test'], interpolate=False)\n",
        "ax.set_title(\"Learning Curve for 5-NN Classifier\")\n",
        "ax.set_xlabel(\"Number of samples used for training\")\n",
        "ax.set_ylabel(\"Accuracy\")\n",
        "plt.show()"
      ],
      "execution_count": null,
      "outputs": [
        {
          "output_type": "stream",
          "text": [
            "/home/nbuser/anaconda3_501/lib/python3.6/site-packages/seaborn/timeseries.py:183: UserWarning: The `tsplot` function is deprecated and will be removed in a future release. Please update your code to use the new `lineplot` function.\n",
            "  warnings.warn(msg, UserWarning)\n",
            "/home/nbuser/anaconda3_501/lib/python3.6/site-packages/scipy/stats/stats.py:1713: FutureWarning: Using a non-tuple sequence for multidimensional indexing is deprecated; use `arr[tuple(seq)]` instead of `arr[seq]`. In the future this will be interpreted as an array index, `arr[np.array(seq)]`, which will result either in an error or a different result.\n",
            "  return np.add.reduce(sorted[indexer] * weights, axis=axis) / sumval\n"
          ],
          "name": "stderr"
        },
        {
          "output_type": "display_data",
          "data": {
            "image/png": "[encoded data removed]",
            "text/plain": [
              "<Figure size 432x288 with 1 Axes>"
            ]
          },
          "metadata": {
            "tags": [],
            "needs_background": "light"
          }
        }
      ]
    },
    {
      "cell_type": "markdown",
      "metadata": {
        "id": "OdBWuFO-5rwF"
      },
      "source": [
        "Complexity Curves"
      ]
    },
    {
      "cell_type": "code",
      "metadata": {
        "id": "tFeOEqLy5rwG",
        "outputId": "7bcbcc06-3aeb-4a7d-9abf-6147e880c91d"
      },
      "source": [
        "num_neigh = [1,3,5,10,15,20]\n",
        "KNC = neighbors.KNeighborsClassifier\n",
        "tt = model_selection.validation_curve(KNC(),iris.data,iris.target,param_name='n_neighbors',param_range=num_neigh,cv=5)\n",
        "ax = sns.tsplot(np.array(tt).transpose(),time=num_neigh,condition=['Train', 'Test'],interpolate=False)\n",
        "ax.set_title(\"5 folds CV performance for k-NN\")\n",
        "ax.set_xlabel(\"\\n\".join([\"k for k-NN\",\"lower k, more complex\",\"high k, less complex\"]))\n",
        "ax.set_ylim(.9,1.01)\n",
        "ax.set_ylabel('Accuracy')\n",
        "plt.show()"
      ],
      "execution_count": null,
      "outputs": [
        {
          "output_type": "stream",
          "text": [
            "/home/nbuser/anaconda3_501/lib/python3.6/site-packages/seaborn/timeseries.py:183: UserWarning: The `tsplot` function is deprecated and will be removed in a future release. Please update your code to use the new `lineplot` function.\n",
            "  warnings.warn(msg, UserWarning)\n",
            "/home/nbuser/anaconda3_501/lib/python3.6/site-packages/scipy/stats/stats.py:1713: FutureWarning: Using a non-tuple sequence for multidimensional indexing is deprecated; use `arr[tuple(seq)]` instead of `arr[seq]`. In the future this will be interpreted as an array index, `arr[np.array(seq)]`, which will result either in an error or a different result.\n",
            "  return np.add.reduce(sorted[indexer] * weights, axis=axis) / sumval\n"
          ],
          "name": "stderr"
        },
        {
          "output_type": "display_data",
          "data": {
            "image/png": "[encoded data removed]",
            "text/plain": [
              "<Figure size 432x288 with 1 Axes>"
            ]
          },
          "metadata": {
            "tags": [],
            "needs_background": "light"
          }
        }
      ]
    },
    {
      "cell_type": "markdown",
      "metadata": {
        "id": "QT0TmY4R5rwI"
      },
      "source": [
        "the curves chart indicate that with k=10, we will get the best accurcy for test phase"
      ]
    },
    {
      "cell_type": "markdown",
      "metadata": {
        "id": "VmEgLRaz5rwI"
      },
      "source": [
        "##### Compare leaners with Cross Validations"
      ]
    },
    {
      "cell_type": "code",
      "metadata": {
        "id": "d-PdT04W5rwJ",
        "outputId": "85a8f111-9ebd-4459-8029-5bb9cc6ba5b4"
      },
      "source": [
        "classifiers = {'gnb': naive_bayes.GaussianNB(),\n",
        "               '5-NN': neighbors.KNeighborsClassifier(n_neighbors=5)}\n",
        "iris = datasets.load_iris()\n",
        "fig, ax = plt.subplots(figsize=(6,4))\n",
        "for name, model in classifiers.items():\n",
        "    cv_scores = model_selection.cross_val_score(model, iris.data, iris.target,cv=10,scoring='accuracy',n_jobs=-1) # use all scores\n",
        "    my_lbl = \"{} {:.3f}\".format(name,cv_scores.mean())\n",
        "    ax.plot(cv_scores, '-o', label=my_lbl) # marker=next(markers)\n",
        "ax.set_ylim(0.0,1.1)\n",
        "ax.set_xlabel('Fold')\n",
        "ax.set_ylabel('Accuracy')\n",
        "ax.legend(ncol=2)\n",
        "plt.show()"
      ],
      "execution_count": null,
      "outputs": [
        {
          "output_type": "display_data",
          "data": {
            "image/png": "[encoded data removed]",
            "text/plain": [
              "<Figure size 432x288 with 1 Axes>"
            ]
          },
          "metadata": {
            "tags": [],
            "needs_background": "light"
          }
        }
      ]
    },
    {
      "cell_type": "markdown",
      "metadata": {
        "id": "a5K-id885rwL"
      },
      "source": [
        "We see 5-NN appears to win on three folds while GNB wine on one, the others are visual ties "
      ]
    },
    {
      "cell_type": "markdown",
      "metadata": {
        "id": "j_hsPIlY5rwM"
      },
      "source": [
        "##### Compare Leave one out with 2,3,5 and 10 folds cross validation"
      ]
    },
    {
      "cell_type": "code",
      "metadata": {
        "id": "UW0MGz7O5rwM",
        "outputId": "95a95f22-de59-4616-af01-3d70f825d256"
      },
      "source": [
        "model_selected = neighbors.KNeighborsClassifier(n_neighbors=5)\n",
        "leave_one_out = model_selection.LeaveOneOut()\n",
        "cvs = {'2-CV':2,'3-CV':3,'5-CV':5,'10-CV':10,'leave-one-out':leave_one_out}\n",
        "scores={}\n",
        "for cv_name,cv_value in cvs.items():\n",
        "    score = model_selection.cross_val_score(model_selected,iris.data,iris.target,cv=cv_value,scoring='accuracy')\n",
        "    score_mean = score.mean()\n",
        "    scores.update({cv_name:score_mean})\n",
        "\n",
        "for keys,values in scores.items():\n",
        "    print(keys)\n",
        "    print(values)\n",
        "\n"
      ],
      "execution_count": null,
      "outputs": [
        {
          "output_type": "stream",
          "text": [
            "2-CV\n",
            "0.94\n",
            "3-CV\n",
            "0.9869281045751634\n",
            "5-CV\n",
            "0.9733333333333334\n",
            "10-CV\n",
            "0.9666666666666668\n",
            "leave-one-out\n",
            "0.9666666666666667\n"
          ],
          "name": "stdout"
        }
      ]
    },
    {
      "cell_type": "markdown",
      "metadata": {
        "id": "kbpuyW405rwQ"
      },
      "source": [
        "testing with iris dataset ( 150 number of instances), 10 cross valiation and LOO seems has the same score - accuracy, 3 CV is the best"
      ]
    }
  ]
}