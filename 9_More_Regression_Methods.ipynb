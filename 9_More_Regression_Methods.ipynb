{
  "nbformat": 4,
  "nbformat_minor": 0,
  "metadata": {
    "kernelspec": {
      "name": "python36",
      "display_name": "Python 3.6",
      "language": "python"
    },
    "language_info": {
      "mimetype": "text/x-python",
      "nbconvert_exporter": "python",
      "name": "python",
      "pygments_lexer": "ipython3",
      "version": "3.6.6",
      "file_extension": ".py",
      "codemirror_mode": {
        "version": 3,
        "name": "ipython"
      }
    },
    "colab": {
      "name": "9 - More Regression Methods.ipynb",
      "provenance": [],
      "include_colab_link": true
    }
  },
  "cells": [
    {
      "cell_type": "markdown",
      "metadata": {
        "id": "view-in-github",
        "colab_type": "text"
      },
      "source": [
        "<a href=\"https://colab.research.google.com/github/tuanlamdao/datascience/blob/master/9_More_Regression_Methods.ipynb\" target=\"_parent\"><img src=\"https://colab.research.google.com/assets/colab-badge.svg\" alt=\"Open In Colab\"/></a>"
      ]
    },
    {
      "cell_type": "code",
      "metadata": {
        "id": "nvtxX_XWOR74",
        "outputId": "2790b619-9e1a-4686-9ad0-af57cce5d989",
        "colab": {
          "base_uri": "https://localhost:8080/",
          "height": 34
        }
      },
      "source": [
        "from google.colab import drive\n",
        "drive.mount('/content/drive')"
      ],
      "execution_count": 1,
      "outputs": [
        {
          "output_type": "stream",
          "text": [
            "Mounted at /content/drive\n"
          ],
          "name": "stdout"
        }
      ]
    },
    {
      "cell_type": "code",
      "metadata": {
        "id": "q8QCjDgcOtTq",
        "outputId": "06f30485-0347-4ae9-b486-fb43def501a7",
        "colab": {
          "base_uri": "https://localhost:8080/",
          "height": 50
        }
      },
      "source": [
        "cd 'drive/My Drive/Colab Notebooks'"
      ],
      "execution_count": 10,
      "outputs": [
        {
          "output_type": "stream",
          "text": [
            "[Errno 2] No such file or directory: 'drive/My Drive/Colab Notebooks'\n",
            "/content/drive/My Drive/Colab Notebooks\n"
          ],
          "name": "stdout"
        }
      ]
    },
    {
      "cell_type": "code",
      "metadata": {
        "trusted": true,
        "id": "05flwdfnOPri"
      },
      "source": [
        "from tuanlam import *\n",
        "diabetes = datasets.load_diabetes()\n",
        "d_tts = skms.train_test_split(diabetes.data, diabetes.target, test_size=.25, random_state=42)\n",
        "(diabetes_train_ftrs, diabetes_test_ftrs, diabetes_train_tgt, diabetes_test_tgt) = d_tts"
      ],
      "execution_count": 3,
      "outputs": []
    },
    {
      "cell_type": "markdown",
      "metadata": {
        "id": "ur6ZPnHsOPrm"
      },
      "source": [
        "##### Performing regularized regression"
      ]
    },
    {
      "cell_type": "code",
      "metadata": {
        "trusted": true,
        "id": "qvzmljNmOPro",
        "outputId": "34a5ba72-d495-4fb3-80a3-e1d1aaa04c3a",
        "colab": {
          "base_uri": "https://localhost:8080/",
          "height": 118
        }
      },
      "source": [
        "models = [linear_model.Lasso(), linear_model.Ridge()]\n",
        "for model in models:\n",
        "    model.fit(diabetes_train_ftrs, diabetes_train_tgt)\n",
        "    train_preds = model.predict(diabetes_train_ftrs)\n",
        "    test_preds = model.predict(diabetes_test_ftrs)\n",
        "    print(get_model_name(model),\n",
        "         \"\\n Train MSE:\", metrics.mean_squared_error(diabetes_train_tgt, train_preds),\n",
        "         \"\\n Test MSE:\", metrics.mean_squared_error(diabetes_test_tgt, test_preds))"
      ],
      "execution_count": 4,
      "outputs": [
        {
          "output_type": "stream",
          "text": [
            "Lasso \n",
            " Train MSE: 3947.899897977697 \n",
            " Test MSE: 3433.1524588051197\n",
            "Ridge \n",
            " Train MSE: 3461.739515097773 \n",
            " Test MSE: 3105.468750907886\n"
          ],
          "name": "stdout"
        }
      ]
    },
    {
      "cell_type": "markdown",
      "metadata": {
        "id": "y_RM4XHfOPrs"
      },
      "source": [
        "##### Comparison of regressors-take three"
      ]
    },
    {
      "cell_type": "code",
      "metadata": {
        "trusted": true,
        "id": "CJRWKyfAOPrs"
      },
      "source": [
        "\n",
        "student_df = pd.read_csv('portugese_student_numeric.csv')\n",
        "student_ftrs = student_df[student_df.columns[:-1]]\n",
        "student_tgt = student_df['G3']\n",
        "student_tts = skms.train_test_split(student_ftrs, student_tgt)\n",
        "(student_train_ftrs, student_test_ftrs, student_train_tgt, student_test_tgt) = student_tts\n",
        "old_school = [linear_model.LinearRegression(), neighbors.KNeighborsRegressor(n_neighbors=3),neighbors.KNeighborsRegressor(n_neighbors=10)]\n",
        "pernalized_lr = [linear_model.Lasso(), linear_model.Ridge()]\n",
        "svrs = [svm.SVR(), svm.NuSVR()]\n",
        "dtrees = [tree.DecisionTreeRegressor(max_depth=md) for md in [1,3,5,10]]\n",
        "reg_models = old_school + pernalized_lr + svrs + dtrees\n"
      ],
      "execution_count": 12,
      "outputs": []
    },
    {
      "cell_type": "code",
      "metadata": {
        "trusted": true,
        "id": "y_lXK3eoOPrv"
      },
      "source": [
        "def rms_error(actual, predicted):\n",
        "    'Root-mean-squared-error function'\n",
        "    #lesser values are better ( a<b means a is better)\n",
        "    mse = metrics.mean_squared_error(actual, predicted)\n",
        "    return np.sqrt(mse)\n",
        "rms_scorer = metrics.make_scorer(rms_error)"
      ],
      "execution_count": 13,
      "outputs": []
    },
    {
      "cell_type": "code",
      "metadata": {
        "trusted": true,
        "id": "qbk3EApKOPrx",
        "outputId": "80ba3506-5841-4b26-8f24-58a99d8f45a3",
        "colab": {
          "base_uri": "https://localhost:8080/",
          "height": 702
        }
      },
      "source": [
        "scaler = skpre.StandardScaler()\n",
        "scores = {}\n",
        "for model in reg_models:\n",
        "    pipe = pipeline.make_pipeline(scaler, model)\n",
        "    preds = skms.cross_val_predict(pipe, student_ftrs, student_tgt, cv=10)\n",
        "    key = (get_model_name(model) + str(model.get_params().get('max_depth',\"\")) + str(model.get_params().get('n_neighbors',\"\")))\n",
        "    scores[key] = rms_error(student_tgt, preds)\n",
        "df = pd.DataFrame.from_dict(scores, orient='index').sort_values(0)\n",
        "df.columns=['RMSE']\n",
        "display(df)"
      ],
      "execution_count": 14,
      "outputs": [
        {
          "output_type": "error",
          "ename": "NameError",
          "evalue": "ignored",
          "traceback": [
            "\u001b[0;31m---------------------------------------------------------------------------\u001b[0m",
            "\u001b[0;31mNameError\u001b[0m                                 Traceback (most recent call last)",
            "\u001b[0;32m/usr/local/lib/python3.6/dist-packages/IPython/core/formatters.py\u001b[0m in \u001b[0;36m__call__\u001b[0;34m(self, obj)\u001b[0m\n\u001b[1;32m    336\u001b[0m             \u001b[0mmethod\u001b[0m \u001b[0;34m=\u001b[0m \u001b[0mget_real_method\u001b[0m\u001b[0;34m(\u001b[0m\u001b[0mobj\u001b[0m\u001b[0;34m,\u001b[0m \u001b[0mself\u001b[0m\u001b[0;34m.\u001b[0m\u001b[0mprint_method\u001b[0m\u001b[0;34m)\u001b[0m\u001b[0;34m\u001b[0m\u001b[0;34m\u001b[0m\u001b[0m\n\u001b[1;32m    337\u001b[0m             \u001b[0;32mif\u001b[0m \u001b[0mmethod\u001b[0m \u001b[0;32mis\u001b[0m \u001b[0;32mnot\u001b[0m \u001b[0;32mNone\u001b[0m\u001b[0;34m:\u001b[0m\u001b[0;34m\u001b[0m\u001b[0;34m\u001b[0m\u001b[0m\n\u001b[0;32m--> 338\u001b[0;31m                 \u001b[0;32mreturn\u001b[0m \u001b[0mmethod\u001b[0m\u001b[0;34m(\u001b[0m\u001b[0;34m)\u001b[0m\u001b[0;34m\u001b[0m\u001b[0;34m\u001b[0m\u001b[0m\n\u001b[0m\u001b[1;32m    339\u001b[0m             \u001b[0;32mreturn\u001b[0m \u001b[0;32mNone\u001b[0m\u001b[0;34m\u001b[0m\u001b[0;34m\u001b[0m\u001b[0m\n\u001b[1;32m    340\u001b[0m         \u001b[0;32melse\u001b[0m\u001b[0;34m:\u001b[0m\u001b[0;34m\u001b[0m\u001b[0;34m\u001b[0m\u001b[0m\n",
            "\u001b[0;32m/content/drive/My Drive/Colab Notebooks/tuanlam.py\u001b[0m in \u001b[0;36m_repr_latex_\u001b[0;34m(self)\u001b[0m\n\u001b[1;32m     38\u001b[0m \u001b[0;31m#monkey-patch for centering out[] DataFrames\u001b[0m\u001b[0;34m\u001b[0m\u001b[0;34m\u001b[0m\u001b[0;34m\u001b[0m\u001b[0m\n\u001b[1;32m     39\u001b[0m \u001b[0;32mdef\u001b[0m \u001b[0m_repr_latex_\u001b[0m\u001b[0;34m(\u001b[0m\u001b[0mself\u001b[0m\u001b[0;34m)\u001b[0m\u001b[0;34m:\u001b[0m\u001b[0;34m\u001b[0m\u001b[0;34m\u001b[0m\u001b[0m\n\u001b[0;32m---> 40\u001b[0;31m     \u001b[0;32mreturn\u001b[0m \u001b[0;34m\"{\\centering\\n%s\\n\\medskip}\"\u001b[0m \u001b[0;34m%\u001b[0m \u001b[0msef\u001b[0m\u001b[0;34m.\u001b[0m\u001b[0mto_latex\u001b[0m\u001b[0;34m(\u001b[0m\u001b[0;34m)\u001b[0m\u001b[0;34m\u001b[0m\u001b[0;34m\u001b[0m\u001b[0m\n\u001b[0m\u001b[1;32m     41\u001b[0m \u001b[0mpd\u001b[0m\u001b[0;34m.\u001b[0m\u001b[0mDataFrame\u001b[0m\u001b[0;34m.\u001b[0m\u001b[0m_repr_latex_\u001b[0m \u001b[0;34m=\u001b[0m \u001b[0m_repr_latex_\u001b[0m\u001b[0;34m\u001b[0m\u001b[0;34m\u001b[0m\u001b[0m\n\u001b[1;32m     42\u001b[0m \u001b[0;31m#Only used once\u001b[0m\u001b[0;34m\u001b[0m\u001b[0;34m\u001b[0m\u001b[0;34m\u001b[0m\u001b[0m\n",
            "\u001b[0;31mNameError\u001b[0m: name 'sef' is not defined"
          ]
        },
        {
          "output_type": "display_data",
          "data": {
            "text/html": [
              "<div>\n",
              "<style scoped>\n",
              "    .dataframe tbody tr th:only-of-type {\n",
              "        vertical-align: middle;\n",
              "    }\n",
              "\n",
              "    .dataframe tbody tr th {\n",
              "        vertical-align: top;\n",
              "    }\n",
              "\n",
              "    .dataframe thead th {\n",
              "        text-align: right;\n",
              "    }\n",
              "</style>\n",
              "<table border=\"1\" class=\"dataframe\">\n",
              "  <thead>\n",
              "    <tr style=\"text-align: right;\">\n",
              "      <th></th>\n",
              "      <th>RMSE</th>\n",
              "    </tr>\n",
              "  </thead>\n",
              "  <tbody>\n",
              "    <tr>\n",
              "      <th>DecisionTreeRegressor1</th>\n",
              "      <td>4.3192</td>\n",
              "    </tr>\n",
              "    <tr>\n",
              "      <th>Ridge</th>\n",
              "      <td>4.3646</td>\n",
              "    </tr>\n",
              "    <tr>\n",
              "      <th>LinearRegression</th>\n",
              "      <td>4.3653</td>\n",
              "    </tr>\n",
              "    <tr>\n",
              "      <th>NuSVR</th>\n",
              "      <td>4.3896</td>\n",
              "    </tr>\n",
              "    <tr>\n",
              "      <th>SVR</th>\n",
              "      <td>4.4062</td>\n",
              "    </tr>\n",
              "    <tr>\n",
              "      <th>DecisionTreeRegressor3</th>\n",
              "      <td>4.4298</td>\n",
              "    </tr>\n",
              "    <tr>\n",
              "      <th>Lasso</th>\n",
              "      <td>4.4375</td>\n",
              "    </tr>\n",
              "    <tr>\n",
              "      <th>KNeighborsRegressor10</th>\n",
              "      <td>4.4873</td>\n",
              "    </tr>\n",
              "    <tr>\n",
              "      <th>DecisionTreeRegressor5</th>\n",
              "      <td>4.8127</td>\n",
              "    </tr>\n",
              "    <tr>\n",
              "      <th>KNeighborsRegressor3</th>\n",
              "      <td>4.8915</td>\n",
              "    </tr>\n",
              "    <tr>\n",
              "      <th>DecisionTreeRegressor10</th>\n",
              "      <td>5.4613</td>\n",
              "    </tr>\n",
              "  </tbody>\n",
              "</table>\n",
              "</div>"
            ],
            "text/plain": [
              "                                        RMSE\n",
              "DecisionTreeRegressor1                4.3192\n",
              "Ridge                                 4.3646\n",
              "LinearRegression                      4.3653\n",
              "NuSVR                                 4.3896\n",
              "SVR                                   4.4062\n",
              "DecisionTreeRegressor3                4.4298\n",
              "Lasso                                 4.4375\n",
              "KNeighborsRegressor10                 4.4873\n",
              "DecisionTreeRegressor5                4.8127\n",
              "KNeighborsRegressor3                  4.8915\n",
              "DecisionTreeRegressor10               5.4613"
            ]
          },
          "metadata": {
            "tags": []
          }
        }
      ]
    },
    {
      "cell_type": "markdown",
      "metadata": {
        "id": "xeobUmIEOPrz"
      },
      "source": [
        "For the top 4 models, let's see some details about performance on a fold-by-fold basis."
      ]
    },
    {
      "cell_type": "code",
      "metadata": {
        "trusted": true,
        "id": "yg2mh0ZfOPr0",
        "outputId": "3a6f018b-e655-4394-a7ec-6e9e9cd150a2",
        "colab": {
          "base_uri": "https://localhost:8080/",
          "height": 280
        }
      },
      "source": [
        "better_models = [tree.DecisionTreeRegressor(max_depth=1), linear_model.Ridge(), linear_model.LinearRegression(),svm.NuSVR()]\n",
        "fig, ax = plt.subplots(1,1,figsize=(8,4))\n",
        "for model in better_models:\n",
        "    pipe = pipeline.make_pipeline(scaler, model)\n",
        "    cv_results = skms.cross_val_score(pipe, student_ftrs, student_tgt, scoring=rms_scorer, cv=10)\n",
        "    my_lbl = \"{:s} ({:5.3f}$\\pm${:.2f})\".format(get_model_name(model), cv_results.mean(), cv_results.std())\n",
        "    ax.plot(cv_results, 'o--', label=my_lbl)\n",
        "    ax.set_xlabel('CV-Fold #')\n",
        "    ax.set_ylabel(\"RMSE\")\n",
        "    ax.legend()"
      ],
      "execution_count": 15,
      "outputs": [
        {
          "output_type": "display_data",
          "data": {
            "image/png": "[encoded data removed]",
            "text/plain": [
              "<Figure size 576x288 with 1 Axes>"
            ]
          },
          "metadata": {
            "tags": [],
            "needs_background": "light"
          }
        }
      ]
    },
    {
      "cell_type": "code",
      "metadata": {
        "trusted": true,
        "id": "SPEifrvQOPr3"
      },
      "source": [
        ""
      ],
      "execution_count": null,
      "outputs": []
    }
  ]
}