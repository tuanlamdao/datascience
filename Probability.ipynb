{
  "nbformat": 4,
  "nbformat_minor": 0,
  "metadata": {
    "kernelspec": {
      "display_name": "Python 3.6",
      "language": "python",
      "name": "python36"
    },
    "language_info": {
      "codemirror_mode": {
        "name": "ipython",
        "version": 3
      },
      "file_extension": ".py",
      "mimetype": "text/x-python",
      "name": "python",
      "nbconvert_exporter": "python",
      "pygments_lexer": "ipython3",
      "version": "3.6.6"
    },
    "colab": {
      "name": "Probability.ipynb",
      "provenance": [],
      "include_colab_link": true
    }
  },
  "cells": [
    {
      "cell_type": "markdown",
      "metadata": {
        "id": "view-in-github",
        "colab_type": "text"
      },
      "source": [
        "<a href=\"https://colab.research.google.com/github/tuanlamdao/datascience/blob/master/Probability.ipynb\" target=\"_parent\"><img src=\"https://colab.research.google.com/assets/colab-badge.svg\" alt=\"Open In Colab\"/></a>"
      ]
    },
    {
      "cell_type": "markdown",
      "metadata": {
        "collapsed": true,
        "id": "d2B9MpimReLO"
      },
      "source": [
        "Probability of roll a 6-side dice.\n",
        "The second chart demonstates that when you roll the dice 1000 times the probability of showing up each side is equal and it is 1/6 ~ 16.6%"
      ]
    },
    {
      "cell_type": "code",
      "metadata": {
        "id": "iv0w3N9OReLP"
      },
      "source": [
        "import numpy as np\n",
        "import matplotlib.pyplot as plt"
      ],
      "execution_count": 1,
      "outputs": []
    },
    {
      "cell_type": "code",
      "metadata": {
        "id": "OvZs8YBoReLS",
        "outputId": "223fda8f-8d0f-47af-fb86-8077395af145",
        "colab": {
          "base_uri": "https://localhost:8080/",
          "height": 211
        }
      },
      "source": [
        "\n",
        "few_roll = np.random.randint(1,7, size=10)\n",
        "many_roll = np.random.randint(1,7, size=1000)\n",
        "few_counts = np.histogram(few_roll,bins = np.arange(.5,7.5))[0]\n",
        "many_counts = np.histogram(many_roll,bins = np.arange(.5,7.5))[0]\n",
        "\n",
        "fig, (ax1,ax2) = plt.subplots(1,2,figsize=(8,3))\n",
        "ax1.bar(np.arange(1,7), few_counts)\n",
        "ax2.bar(np.arange(1,7), many_counts)\n",
        "plt.show()"
      ],
      "execution_count": 2,
      "outputs": [
        {
          "output_type": "display_data",
          "data": {
            "image/png": "[encoded data removed]",
            "text/plain": [
              "<Figure size 576x216 with 2 Axes>"
            ]
          },
          "metadata": {
            "tags": [],
            "needs_background": "light"
          }
        }
      ]
    },
    {
      "cell_type": "markdown",
      "metadata": {
        "id": "Vwx_fvu2ReLW"
      },
      "source": [
        "Distribution of event of flip a coin many times: 5, 10, 20 , 40 and 80 times"
      ]
    },
    {
      "cell_type": "code",
      "metadata": {
        "id": "YZhthSxWReLW",
        "outputId": "10a01c1e-0d4b-4933-dcbe-18cb83d63a35",
        "colab": {
          "base_uri": "https://localhost:8080/",
          "height": 265
        }
      },
      "source": [
        "import scipy.stats as ss\n",
        "b = ss.distributions.binom\n",
        "for flips in [5,10,20,40,80]:\n",
        "    #binormial with .5 is result of many coin flips\n",
        "    success = np.arange(flips)\n",
        "    our_distribution = b.pmf(success, flips, .5)\n",
        "    plt.hist(success, flips, weights = our_distribution)\n",
        "plt.xlim(0, 55)\n",
        "plt.show()"
      ],
      "execution_count": 3,
      "outputs": [
        {
          "output_type": "display_data",
          "data": {
            "image/png": "[encoded data removed]",
            "text/plain": [
              "<Figure size 432x288 with 1 Axes>"
            ]
          },
          "metadata": {
            "tags": [],
            "needs_background": "light"
          }
        }
      ]
    },
    {
      "cell_type": "markdown",
      "metadata": {
        "id": "wOSXWeGiReLZ"
      },
      "source": [
        "Smoothier the distribution in the bell sharp curves ( normal distribution)"
      ]
    },
    {
      "cell_type": "code",
      "metadata": {
        "id": "k6C4NAzpReLZ",
        "outputId": "bfaff296-6d97-478a-e1a2-4dddbe24b2d4",
        "colab": {
          "base_uri": "https://localhost:8080/",
          "height": 265
        }
      },
      "source": [
        "b = ss.distributions.binom\n",
        "n = ss.distributions.norm\n",
        "for flips in [5,10,20,40,80]:\n",
        "    # binormial coin flips\n",
        "    success = np.arange(flips)\n",
        "    our_distribution = b.pmf(success, flips, .5)\n",
        "    plt.hist(success, flips, weights = our_distribution)\n",
        "    # normal approximation to that binormial\n",
        "    # we have to set the mean and standard deviation\n",
        "    mu = flips * .5\n",
        "    std_dev = np.sqrt( mu * (1 - .5))\n",
        "    # we have to set up both the x and y points for the normal\n",
        "    # we get the ys from the distribution \n",
        "    norm_x = np.linspace(mu - 3*std_dev, mu + 3*std_dev, 100)\n",
        "    norm_y = n.pdf(norm_x, mu, std_dev)\n",
        "    plt.plot(norm_x, norm_y, 'k')\n",
        "plt.xlim(0,55)\n",
        "plt.show()\n",
        "\n"
      ],
      "execution_count": 4,
      "outputs": [
        {
          "output_type": "display_data",
          "data": {
            "image/png": "[encoded data removed]",
            "text/plain": [
              "<Figure size 432x288 with 1 Axes>"
            ]
          },
          "metadata": {
            "tags": [],
            "needs_background": "light"
          }
        }
      ]
    },
    {
      "cell_type": "markdown",
      "metadata": {
        "id": "XkFOji1HReLc"
      },
      "source": [
        "Try en event many times will likely get the result close with expected one .\n",
        "For example: A game to flip a dice , get $1 for even numbers faced and lose -$.5 for odd numbers\n",
        "we can get an expected outcomes based on the math of its probabilites"
      ]
    },
    {
      "cell_type": "code",
      "metadata": {
        "id": "Ufj6ktdBReLc",
        "outputId": "ad2c21f2-25c7-4b4a-886f-a393fc9be911",
        "colab": {
          "base_uri": "https://localhost:8080/",
          "height": 34
        }
      },
      "source": [
        "payoff = np.array([1,-.5])\n",
        "# get $1 or lost -$.5\n",
        "probs = np.array([.5,.5])\n",
        "# assume probabilies of them are equal (50%)\n",
        "print(np.dot(payoff,probs))"
      ],
      "execution_count": 5,
      "outputs": [
        {
          "output_type": "stream",
          "text": [
            "0.25\n"
          ],
          "name": "stdout"
        }
      ]
    },
    {
      "cell_type": "markdown",
      "metadata": {
        "id": "mDQKOPHMReLf"
      },
      "source": [
        "$.25 is an expected money we could get from the game "
      ]
    },
    {
      "cell_type": "code",
      "metadata": {
        "id": "r2L9_IjQReLf",
        "outputId": "5cde53db-87f1-444d-d885-02a260f80b4f",
        "colab": {
          "base_uri": "https://localhost:8080/",
          "height": 34
        }
      },
      "source": [
        "def is_even(n):\n",
        "    return n % 2 == 0\n",
        "winnings = 0.0\n",
        "for flip_count in range(10000):\n",
        "    flip_dice = np.random.randint(1,7)\n",
        "    winnings += 1 if is_even(flip_dice) else -.5\n",
        "print(winnings)    "
      ],
      "execution_count": 6,
      "outputs": [
        {
          "output_type": "stream",
          "text": [
            "2428.0\n"
          ],
          "name": "stdout"
        }
      ]
    },
    {
      "cell_type": "markdown",
      "metadata": {
        "id": "Djpn2HdjReLj"
      },
      "source": [
        "If we try the game 10000 times, we like get to amount of ~ .25 * 10000 = $2500"
      ]
    },
    {
      "cell_type": "markdown",
      "metadata": {
        "id": "VWtXgWDEReLj"
      },
      "source": [
        "in summary, the discrete uniform distribution looks like: f(x) = 1/k where k: number of possible events (like 6 for dice and 2 for a coin flip)\n",
        "the equation for the normal distribution: f(x) = (1/vm)*(e power -(1/2)*(((x - mean)/std) power 2))"
      ]
    }
  ]
}